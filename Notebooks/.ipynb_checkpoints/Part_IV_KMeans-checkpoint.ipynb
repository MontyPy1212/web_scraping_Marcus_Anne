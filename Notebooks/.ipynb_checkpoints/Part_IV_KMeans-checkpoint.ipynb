{
 "cells": [
  {
   "cell_type": "markdown",
   "metadata": {
    "id": "ZcSGgeMpeAgy"
   },
   "source": [
    "## Importing libraries"
   ]
  },
  {
   "cell_type": "code",
   "execution_count": 32,
   "metadata": {
    "executionInfo": {
     "elapsed": 1543,
     "status": "ok",
     "timestamp": 1623846916468,
     "user": {
      "displayName": "Ignacio Soteras",
      "photoUrl": "",
      "userId": "02050793736257155229"
     },
     "user_tz": -120
    },
    "id": "MVmBiWjsd2Xd"
   },
   "outputs": [],
   "source": [
    "import pandas as pd\n",
    "from sklearn import datasets # sklearn comes with some toy datasets to practise\n",
    "from sklearn.preprocessing import StandardScaler\n",
    "from sklearn.cluster import KMeans\n",
    "from sklearn.metrics import silhouette_score\n",
    "import sys\n",
    "import yaml\n",
    "from pprint import pprint\n",
    "import json\n",
    "import argparse\n",
    "import matplotlib.pyplot as plt\n",
    "import numpy as np\n",
    "from sklearn.preprocessing import MinMaxScaler\n",
    "from sklearn.decomposition import PCA\n",
    "from sklearn.cluster import KMeans\n",
    "import seaborn as sns"
   ]
  },
  {
   "cell_type": "code",
   "execution_count": 11,
   "metadata": {},
   "outputs": [],
   "source": [
    "df = pd.read_excel(\"df_original.xlsx\")"
   ]
  },
  {
   "cell_type": "code",
   "execution_count": 13,
   "metadata": {},
   "outputs": [
    {
     "data": {
      "text/plain": [
       "(157835, 15)"
      ]
     },
     "execution_count": 13,
     "metadata": {},
     "output_type": "execute_result"
    }
   ],
   "source": [
    "df.shape"
   ]
  },
  {
   "cell_type": "code",
   "execution_count": 12,
   "metadata": {},
   "outputs": [
    {
     "data": {
      "text/html": [
       "<div>\n",
       "<style scoped>\n",
       "    .dataframe tbody tr th:only-of-type {\n",
       "        vertical-align: middle;\n",
       "    }\n",
       "\n",
       "    .dataframe tbody tr th {\n",
       "        vertical-align: top;\n",
       "    }\n",
       "\n",
       "    .dataframe thead th {\n",
       "        text-align: right;\n",
       "    }\n",
       "</style>\n",
       "<table border=\"1\" class=\"dataframe\">\n",
       "  <thead>\n",
       "    <tr style=\"text-align: right;\">\n",
       "      <th></th>\n",
       "      <th>artists</th>\n",
       "      <th>danceability</th>\n",
       "      <th>duration_ms</th>\n",
       "      <th>energy</th>\n",
       "      <th>genres</th>\n",
       "      <th>instrumentalness</th>\n",
       "      <th>liveness</th>\n",
       "      <th>loudness</th>\n",
       "      <th>speechiness</th>\n",
       "      <th>tempo</th>\n",
       "      <th>track_id</th>\n",
       "      <th>track_name</th>\n",
       "      <th>valence</th>\n",
       "      <th>year</th>\n",
       "      <th>decades</th>\n",
       "    </tr>\n",
       "  </thead>\n",
       "  <tbody>\n",
       "    <tr>\n",
       "      <th>0</th>\n",
       "      <td>ottorino respighi</td>\n",
       "      <td>0.420</td>\n",
       "      <td>232933</td>\n",
       "      <td>0.0909</td>\n",
       "      <td>['classical', 'early modern classical', 'impre...</td>\n",
       "      <td>1</td>\n",
       "      <td>0</td>\n",
       "      <td>-19.388</td>\n",
       "      <td>0.0409</td>\n",
       "      <td>123089.000</td>\n",
       "      <td>0pdgc1WRsbipUSUOMqwxO4</td>\n",
       "      <td>la boutique fantasque, p. 120 (after rossini):...</td>\n",
       "      <td>0.227</td>\n",
       "      <td>1950</td>\n",
       "      <td>1950's</td>\n",
       "    </tr>\n",
       "    <tr>\n",
       "      <th>1</th>\n",
       "      <td>percy faith &amp; his orchestra</td>\n",
       "      <td>0.357</td>\n",
       "      <td>141800</td>\n",
       "      <td>0.5330</td>\n",
       "      <td>['adult standards', 'easy listening', 'lounge']</td>\n",
       "      <td>0</td>\n",
       "      <td>0</td>\n",
       "      <td>-11814.000</td>\n",
       "      <td>0.0366</td>\n",
       "      <td>168546.000</td>\n",
       "      <td>0pkeWCwt70V4p692BTCldS</td>\n",
       "      <td>flight 33 1/3</td>\n",
       "      <td>0.793</td>\n",
       "      <td>1950</td>\n",
       "      <td>1950's</td>\n",
       "    </tr>\n",
       "    <tr>\n",
       "      <th>2</th>\n",
       "      <td>mohammed rafi</td>\n",
       "      <td>0.464</td>\n",
       "      <td>188016</td>\n",
       "      <td>266.0000</td>\n",
       "      <td>['classic bollywood', 'desi pop', 'filmi', 'gh...</td>\n",
       "      <td>0</td>\n",
       "      <td>0</td>\n",
       "      <td>-13.004</td>\n",
       "      <td>0.0905</td>\n",
       "      <td>129486.000</td>\n",
       "      <td>0pqBe1Xk24ak8TaAEJNiA1</td>\n",
       "      <td>bahot purdard hai ae sunnewalo</td>\n",
       "      <td>537.000</td>\n",
       "      <td>1950</td>\n",
       "      <td>1950's</td>\n",
       "    </tr>\n",
       "    <tr>\n",
       "      <th>3</th>\n",
       "      <td>sotiria bellou</td>\n",
       "      <td>622.000</td>\n",
       "      <td>195280</td>\n",
       "      <td>594.0000</td>\n",
       "      <td>['entehno', 'laiko', 'rebetiko']</td>\n",
       "      <td>0</td>\n",
       "      <td>0</td>\n",
       "      <td>-6.134</td>\n",
       "      <td>0.0456</td>\n",
       "      <td>95.300</td>\n",
       "      <td>0prp5MDuNtlrm4bOFgrwhO</td>\n",
       "      <td>μια φορά στον κόσμο ζούμε</td>\n",
       "      <td>885.000</td>\n",
       "      <td>1950</td>\n",
       "      <td>1950's</td>\n",
       "    </tr>\n",
       "    <tr>\n",
       "      <th>4</th>\n",
       "      <td>alekos kitsakis</td>\n",
       "      <td>522.000</td>\n",
       "      <td>207467</td>\n",
       "      <td>596.0000</td>\n",
       "      <td>['rebetiko']</td>\n",
       "      <td>0</td>\n",
       "      <td>0</td>\n",
       "      <td>-10329.000</td>\n",
       "      <td>0.0398</td>\n",
       "      <td>102.923</td>\n",
       "      <td>0qC2ryicx1eOhHKMttE5UW</td>\n",
       "      <td>kainourgia logia mou hrthane</td>\n",
       "      <td>877.000</td>\n",
       "      <td>1950</td>\n",
       "      <td>1950's</td>\n",
       "    </tr>\n",
       "  </tbody>\n",
       "</table>\n",
       "</div>"
      ],
      "text/plain": [
       "                       artists  danceability  duration_ms    energy  \\\n",
       "0            ottorino respighi         0.420       232933    0.0909   \n",
       "1  percy faith & his orchestra         0.357       141800    0.5330   \n",
       "2                mohammed rafi         0.464       188016  266.0000   \n",
       "3               sotiria bellou       622.000       195280  594.0000   \n",
       "4              alekos kitsakis       522.000       207467  596.0000   \n",
       "\n",
       "                                              genres  instrumentalness  \\\n",
       "0  ['classical', 'early modern classical', 'impre...                 1   \n",
       "1    ['adult standards', 'easy listening', 'lounge']                 0   \n",
       "2  ['classic bollywood', 'desi pop', 'filmi', 'gh...                 0   \n",
       "3                   ['entehno', 'laiko', 'rebetiko']                 0   \n",
       "4                                       ['rebetiko']                 0   \n",
       "\n",
       "   liveness   loudness  speechiness       tempo                track_id  \\\n",
       "0         0    -19.388       0.0409  123089.000  0pdgc1WRsbipUSUOMqwxO4   \n",
       "1         0 -11814.000       0.0366  168546.000  0pkeWCwt70V4p692BTCldS   \n",
       "2         0    -13.004       0.0905  129486.000  0pqBe1Xk24ak8TaAEJNiA1   \n",
       "3         0     -6.134       0.0456      95.300  0prp5MDuNtlrm4bOFgrwhO   \n",
       "4         0 -10329.000       0.0398     102.923  0qC2ryicx1eOhHKMttE5UW   \n",
       "\n",
       "                                          track_name  valence  year decades  \n",
       "0  la boutique fantasque, p. 120 (after rossini):...    0.227  1950  1950's  \n",
       "1                                      flight 33 1/3    0.793  1950  1950's  \n",
       "2                     bahot purdard hai ae sunnewalo  537.000  1950  1950's  \n",
       "3                          μια φορά στον κόσμο ζούμε  885.000  1950  1950's  \n",
       "4                       kainourgia logia mou hrthane  877.000  1950  1950's  "
      ]
     },
     "execution_count": 12,
     "metadata": {},
     "output_type": "execute_result"
    }
   ],
   "source": [
    "df.head(5)"
   ]
  },
  {
   "cell_type": "code",
   "execution_count": 18,
   "metadata": {},
   "outputs": [],
   "source": [
    "#form training data by excluding columns that aren't audio features\n",
    "non_features = [\"artists\", \"track_id\", \"track_name\", \"year\", \"decades\", \"genres\", \"duration_ms\"]"
   ]
  },
  {
   "cell_type": "code",
   "execution_count": 19,
   "metadata": {
    "scrolled": true
   },
   "outputs": [
    {
     "data": {
      "text/html": [
       "<div>\n",
       "<style scoped>\n",
       "    .dataframe tbody tr th:only-of-type {\n",
       "        vertical-align: middle;\n",
       "    }\n",
       "\n",
       "    .dataframe tbody tr th {\n",
       "        vertical-align: top;\n",
       "    }\n",
       "\n",
       "    .dataframe thead th {\n",
       "        text-align: right;\n",
       "    }\n",
       "</style>\n",
       "<table border=\"1\" class=\"dataframe\">\n",
       "  <thead>\n",
       "    <tr style=\"text-align: right;\">\n",
       "      <th></th>\n",
       "      <th>danceability</th>\n",
       "      <th>energy</th>\n",
       "      <th>instrumentalness</th>\n",
       "      <th>liveness</th>\n",
       "      <th>loudness</th>\n",
       "      <th>speechiness</th>\n",
       "      <th>tempo</th>\n",
       "      <th>valence</th>\n",
       "    </tr>\n",
       "  </thead>\n",
       "  <tbody>\n",
       "    <tr>\n",
       "      <th>0</th>\n",
       "      <td>0.420</td>\n",
       "      <td>0.0909</td>\n",
       "      <td>1</td>\n",
       "      <td>0</td>\n",
       "      <td>-19.388</td>\n",
       "      <td>0.0409</td>\n",
       "      <td>123089.000</td>\n",
       "      <td>0.227</td>\n",
       "    </tr>\n",
       "    <tr>\n",
       "      <th>1</th>\n",
       "      <td>0.357</td>\n",
       "      <td>0.5330</td>\n",
       "      <td>0</td>\n",
       "      <td>0</td>\n",
       "      <td>-11814.000</td>\n",
       "      <td>0.0366</td>\n",
       "      <td>168546.000</td>\n",
       "      <td>0.793</td>\n",
       "    </tr>\n",
       "    <tr>\n",
       "      <th>2</th>\n",
       "      <td>0.464</td>\n",
       "      <td>266.0000</td>\n",
       "      <td>0</td>\n",
       "      <td>0</td>\n",
       "      <td>-13.004</td>\n",
       "      <td>0.0905</td>\n",
       "      <td>129486.000</td>\n",
       "      <td>537.000</td>\n",
       "    </tr>\n",
       "    <tr>\n",
       "      <th>3</th>\n",
       "      <td>622.000</td>\n",
       "      <td>594.0000</td>\n",
       "      <td>0</td>\n",
       "      <td>0</td>\n",
       "      <td>-6.134</td>\n",
       "      <td>0.0456</td>\n",
       "      <td>95.300</td>\n",
       "      <td>885.000</td>\n",
       "    </tr>\n",
       "    <tr>\n",
       "      <th>4</th>\n",
       "      <td>522.000</td>\n",
       "      <td>596.0000</td>\n",
       "      <td>0</td>\n",
       "      <td>0</td>\n",
       "      <td>-10329.000</td>\n",
       "      <td>0.0398</td>\n",
       "      <td>102.923</td>\n",
       "      <td>877.000</td>\n",
       "    </tr>\n",
       "  </tbody>\n",
       "</table>\n",
       "</div>"
      ],
      "text/plain": [
       "   danceability    energy  instrumentalness  liveness   loudness  speechiness  \\\n",
       "0         0.420    0.0909                 1         0    -19.388       0.0409   \n",
       "1         0.357    0.5330                 0         0 -11814.000       0.0366   \n",
       "2         0.464  266.0000                 0         0    -13.004       0.0905   \n",
       "3       622.000  594.0000                 0         0     -6.134       0.0456   \n",
       "4       522.000  596.0000                 0         0 -10329.000       0.0398   \n",
       "\n",
       "        tempo  valence  \n",
       "0  123089.000    0.227  \n",
       "1  168546.000    0.793  \n",
       "2  129486.000  537.000  \n",
       "3      95.300  885.000  \n",
       "4     102.923  877.000  "
      ]
     },
     "execution_count": 19,
     "metadata": {},
     "output_type": "execute_result"
    }
   ],
   "source": [
    "track_info = df[non_features]\n",
    "df_X = df.drop(columns=non_features)\n",
    "df_X.head(5)"
   ]
  },
  {
   "cell_type": "code",
   "execution_count": 20,
   "metadata": {},
   "outputs": [
    {
     "data": {
      "text/plain": [
       "danceability        float64\n",
       "energy              float64\n",
       "instrumentalness      int64\n",
       "liveness              int64\n",
       "loudness            float64\n",
       "speechiness         float64\n",
       "tempo               float64\n",
       "valence             float64\n",
       "dtype: object"
      ]
     },
     "execution_count": 20,
     "metadata": {},
     "output_type": "execute_result"
    }
   ],
   "source": [
    "df_X.dtypes"
   ]
  },
  {
   "cell_type": "markdown",
   "metadata": {},
   "source": [
    "### Standardisation"
   ]
  },
  {
   "cell_type": "code",
   "execution_count": 21,
   "metadata": {},
   "outputs": [],
   "source": [
    "# now we have to standardize the X_train data by putting the 8 features on the same scale\n",
    "# each scale having a mean = 0 and a SD = 1 \n",
    "# if we wouldn't do this, the model would weigh tempo or loudness much more, since they vary more than other variables "
   ]
  },
  {
   "cell_type": "code",
   "execution_count": 22,
   "metadata": {},
   "outputs": [],
   "source": [
    "scaler = StandardScaler()\n",
    "X_train = scaler.fit_transform(df_X)"
   ]
  },
  {
   "cell_type": "markdown",
   "metadata": {},
   "source": [
    "## Dimensionality Reduction\n",
    "### Principal Component Analysis (PCA)"
   ]
  },
  {
   "cell_type": "code",
   "execution_count": 23,
   "metadata": {},
   "outputs": [],
   "source": [
    "from sklearn.decomposition import PCA"
   ]
  },
  {
   "cell_type": "code",
   "execution_count": 24,
   "metadata": {
    "scrolled": true
   },
   "outputs": [
    {
     "data": {
      "text/plain": [
       "PCA()"
      ]
     },
     "execution_count": 24,
     "metadata": {},
     "output_type": "execute_result"
    }
   ],
   "source": [
    "# Principal Component Analysis (PCA) is a method to reduce dimensions (from 2d to 3d)\n",
    "# it tries to find the best possible subspace that explains most of the variance in the data\n",
    "# how? it derives components from the original scaled features and plots the 2 most significant ones \n",
    "pca = PCA()\n",
    "pca.fit(X_train)"
   ]
  },
  {
   "cell_type": "markdown",
   "metadata": {},
   "source": [
    "### **How many features to use for our k-means?**\n",
    "\n",
    "Make a cumulative variance plot using the evr.cumsum() function and plt."
   ]
  },
  {
   "cell_type": "code",
   "execution_count": 25,
   "metadata": {},
   "outputs": [
    {
     "data": {
      "text/plain": [
       "array([0.18254203, 0.13259116, 0.13071049, 0.12585235, 0.11533626,\n",
       "       0.11463714, 0.10810806, 0.09022251])"
      ]
     },
     "execution_count": 25,
     "metadata": {},
     "output_type": "execute_result"
    }
   ],
   "source": [
    "evr = pca.explained_variance_ratio_\n",
    "evr"
   ]
  },
  {
   "cell_type": "code",
   "execution_count": 35,
   "metadata": {},
   "outputs": [
    {
     "data": {
      "image/png": "[encoded data removed]",
      "text/plain": [
       "<Figure size 720x576 with 1 Axes>"
      ]
     },
     "metadata": {
      "needs_background": "light"
     },
     "output_type": "display_data"
    }
   ],
   "source": [
    "fig = plt.figure(figsize=(10,8))\n",
    "plt.plot(range(1, len(df_X.columns)+1), evr.cumsum(), marker='o', linestyle='--')\n",
    "plt.xlabel('Number of Components', fontsize=18)\n",
    "plt.ylabel('Cumulative Explained Variance',fontsize=18)\n",
    "plt.xticks(fontsize=16)\n",
    "plt.yticks(fontsize=16)\n",
    "#fig = plt.savefig(\"./visualizations/cumulative_variance_plot.png\")\n",
    "plt.show()"
   ]
  },
  {
   "cell_type": "code",
   "execution_count": 39,
   "metadata": {},
   "outputs": [
    {
     "name": "stdout",
     "output_type": "stream",
     "text": [
      "Number of components: 6\n"
     ]
    }
   ],
   "source": [
    "for i, exp_var in enumerate(evr.cumsum()):\n",
    "    if exp_var >= 0.8:\n",
    "        n_comps = i + 1\n",
    "        break\n",
    "print(\"Number of components:\", n_comps)\n",
    "pca = PCA(n_components=n_comps)\n",
    "pca.fit(X_train)\n",
    "scores_pca = pca.transform(X_train)"
   ]
  },
  {
   "cell_type": "markdown",
   "metadata": {},
   "source": [
    "#### **Conclusion**"
   ]
  },
  {
   "cell_type": "markdown",
   "metadata": {},
   "source": [
    "From this plot, we can observe that each of the principal components explain a pretty considerable amount of variance. However, we do not need to keep all of these components. \n",
    "In general, it is a good rule of thumb to preserve around 80% of the variance. Therefore, in this instance, we can select the 6 most important principal components to incorporate in the k-means algorithm. This can be accomplished by instantiating a new PCA object with the n_components parameter set to 6."
   ]
  },
  {
   "cell_type": "markdown",
   "metadata": {},
   "source": [
    "# K-Means Clustering"
   ]
  },
  {
   "cell_type": "markdown",
   "metadata": {},
   "source": [
    "Having finished our PCA, we now have components which explain most of the variance in the data. \n",
    "\n",
    "Now it's very difficult to interpret meaning when analyzing the numeric differences in tracks because the vectorized audio features have been transformed into a new subspace. \n",
    "\n",
    "However, after implementing k-means Clustering, we will be able to inspect the raw data, and we can even visualize our clusters of similar songs on the same 2D-plane."
   ]
  },
  {
   "cell_type": "markdown",
   "metadata": {},
   "source": [
    "### How to determine the optimal number of clusters (=k)?\n",
    "(https://medium.com/analytics-vidhya/how-to-determine-the-optimal-k-for-k-means-708505d204eb)"
   ]
  },
  {
   "cell_type": "markdown",
   "metadata": {},
   "source": [
    "#### Elbow Method "
   ]
  },
  {
   "cell_type": "markdown",
   "metadata": {},
   "source": [
    "Now we need to find the elbow point of the **WCSS (within cluster sum of squares) curve**. This can also be done using the YellowBrick --> KElbowVisualizer (from kneed import KneeLocator)"
   ]
  },
  {
   "cell_type": "code",
   "execution_count": 42,
   "metadata": {},
   "outputs": [
    {
     "name": "stdout",
     "output_type": "stream",
     "text": [
      "Training a K-Means model with 2 neighbours! \n",
      "\n",
      "Training a K-Means model with 3 neighbours! \n",
      "\n",
      "Training a K-Means model with 4 neighbours! \n",
      "\n",
      "Training a K-Means model with 5 neighbours! \n",
      "\n",
      "Training a K-Means model with 6 neighbours! \n",
      "\n",
      "Training a K-Means model with 7 neighbours! \n",
      "\n",
      "Training a K-Means model with 8 neighbours! \n",
      "\n",
      "Training a K-Means model with 9 neighbours! \n",
      "\n",
      "Training a K-Means model with 10 neighbours! \n",
      "\n",
      "Training a K-Means model with 11 neighbours! \n",
      "\n",
      "Training a K-Means model with 12 neighbours! \n",
      "\n",
      "Training a K-Means model with 13 neighbours! \n",
      "\n",
      "Training a K-Means model with 14 neighbours! \n",
      "\n",
      "Training a K-Means model with 15 neighbours! \n",
      "\n",
      "Training a K-Means model with 16 neighbours! \n",
      "\n",
      "Training a K-Means model with 17 neighbours! \n",
      "\n",
      "Training a K-Means model with 18 neighbours! \n",
      "\n",
      "Training a K-Means model with 19 neighbours! \n",
      "\n",
      "Training a K-Means model with 20 neighbours! \n",
      "\n"
     ]
    },
    {
     "data": {
      "text/plain": [
       "Text(0.5, 1.0, 'Elbow Method showing the optimal k')"
      ]
     },
     "execution_count": 42,
     "metadata": {},
     "output_type": "execute_result"
    },
    {
     "data": {
      "image/png": "[encoded data removed]",
      "text/plain": [
       "<Figure size 1152x576 with 1 Axes>"
      ]
     },
     "metadata": {
      "needs_background": "light"
     },
     "output_type": "display_data"
    }
   ],
   "source": [
    "#Implement clustering algorithm for varying values of k, ranging from 1 to 20 clusters.\n",
    "K = range(2, 21)\n",
    "inertia = []\n",
    "\n",
    "for k in K:\n",
    "    print(\"Training a K-Means model with {} neighbours! \".format(k))\n",
    "    print()\n",
    "    kmeans = KMeans(n_clusters=k,\n",
    "                    random_state=1234)\n",
    "    kmeans.fit(X_train)\n",
    "    inertia.append(kmeans.inertia_) #For each k the (WCSS) is computed by storing the inertia value in a list\n",
    "\n",
    "import numpy as np\n",
    "import matplotlib.pyplot as plt\n",
    "%matplotlib inline\n",
    "\n",
    "#Plot the WCSS curve according to the number of clusters k.\n",
    "#Look for a kink or elbow in the graph\n",
    "\n",
    "plt.figure(figsize=(16,8))\n",
    "plt.plot(K, inertia, 'bx-')\n",
    "plt.xlabel('k')\n",
    "plt.ylabel('inertia')\n",
    "plt.xticks(np.arange(min(K), max(K)+1, 1.0))\n",
    "plt.title('Elbow Method showing the optimal k')"
   ]
  },
  {
   "cell_type": "markdown",
   "metadata": {},
   "source": [
    "#### **Conclusion:**\n",
    "There seems to be an elbow at **k=6**, and then a very slight one at k=10, but other than that the plot is quite smooth. What if we need to have a k between 5 and 8?\n",
    "\n",
    "There is another metric that will help us decide."
   ]
  },
  {
   "cell_type": "markdown",
   "metadata": {},
   "source": [
    "## Silhouette"
   ]
  },
  {
   "cell_type": "markdown",
   "metadata": {},
   "source": [
    "There's a metric called **Silhouette Score** that also measures how similar is an observation is to its own cluster (=cohesion) compared to other clusters (=seperation). For the i'th observation, the **Silhouette Score** is:"
   ]
  },
  {
   "cell_type": "markdown",
   "metadata": {},
   "source": [
    "$$s_{K,L} = (b - a) / max(a,b) $$\n",
    "\n",
    "Where:\n",
    "\n",
    "a = mean intra-cluster distance (the average distance between i and every other observation in the cluster where i belongs)\n",
    "\n",
    "$$ a = \\frac{1}{n_{K}}\\sum_{i,j\\neq{i}}^{n_{K}}d(i,j)$$\n",
    "\n",
    "b = mean **nearest-cluster** distance (the average distance between i and the observations of the nearest cluster that i is not part of it)\n",
    "\n",
    "$$ b = \\frac{1}{(n_{K}*n_{L})}\\sum_{i}^{n_{K}}\\sum_{j}^{n_{L}}d(i,j)$$\n",
    "\n",
    "The silhouette score for the whole model is the **average of all the silhouette scores** of each instance.\n",
    "\n",
    "$$ S = \\frac{2}{N(N-1)}\\sum_{c}s_{K,L}$$\n",
    "\n",
    "Because we divide the substraction of (b-a) by the max of the two distances (which will always be b unless the observation has been wrongly assigned to a cluster it should not belong), we obtain a \"normalized score\", that ranges from -1 to 1, and that makes it easier to interpret."
   ]
  },
  {
   "cell_type": "code",
   "execution_count": null,
   "metadata": {},
   "outputs": [],
   "source": [
    "import pickle\n",
    "\n",
    "K = range(2, 20)\n",
    "silhouette = []\n",
    "\n",
    "for k in K:\n",
    "    kmeans = KMeans(n_clusters=k,\n",
    "                    random_state=1234)\n",
    "    kmeans.fit(X_train)\n",
    "    filename = \"kmeans\" + str(k) + \".pickle\"\n",
    "    with open(filename, \"wb\") as f:\n",
    "        pickle.dump(kmeans,f)\n",
    "    silhouette.append(silhouette_score(X_train, kmeans.predict(X_train)))\n",
    "\n",
    "\n",
    "plt.figure(figsize=(16,8))\n",
    "plt.plot(K, silhouette, 'bx-')\n",
    "plt.xlabel('k')\n",
    "plt.ylabel('silhouette score')\n",
    "plt.xticks(np.arange(min(K), max(K)+1, 1.0))\n",
    "plt.title('Silhouette Method showing the optimal k')"
   ]
  },
  {
   "cell_type": "code",
   "execution_count": null,
   "metadata": {},
   "outputs": [],
   "source": [
    "s = [0.26,0.28,0.24,0.247]\n",
    "s.index(max(s))"
   ]
  },
  {
   "cell_type": "markdown",
   "metadata": {},
   "source": [
    "The greater the Silouhette, the greater the separation between the clusters, In other words, the clusters will be more defined."
   ]
  },
  {
   "cell_type": "markdown",
   "metadata": {},
   "source": [
    "Here, we confirm that 3 is the best option, but we also notice that 5 a quite good - it meets the 'technical criteria' of having a better score than its predecessor (4), so if it falls within the range of our business demands - it looks like the best candidate."
   ]
  },
  {
   "cell_type": "markdown",
   "metadata": {},
   "source": [
    "**Conclusion:** The range of the Silhouette value is between **+1** and **-1**. A **high value is desirable** and indicates that the point is placed in the correct cluster. If many points have a **negative Silhouette value**, it may indicate that we have created **too many or too few clusters**. The Silhouette Score reaches its **global maximum at the optimal k**. This should ideally appear as a **peak** in the Silhouette Value-versus-k plot."
   ]
  },
  {
   "cell_type": "code",
   "execution_count": null,
   "metadata": {},
   "outputs": [],
   "source": [
    "#Now, we implement k-means clustering with the help of sklearn by obtaining the cluster labels for each track \n",
    "#At the rightmost column \"Cluster\", we will find the according cluster number for each row \n",
    "\n",
    "kmeans_pca = KMeans(n_clusters=n_clusters, init='k-means++', random_state=42)\n",
    "kmeans_pca.fit(scores_pca);"
   ]
  },
  {
   "cell_type": "markdown",
   "metadata": {},
   "source": [
    "## Analysis and Visualization"
   ]
  },
  {
   "cell_type": "code",
   "execution_count": null,
   "metadata": {},
   "outputs": [],
   "source": [
    "df_seg_pca_kmeans = pd.concat([df_X.reset_index(drop=True), pd.DataFrame(scores_pca)], axis=1)\n",
    "df_seg_pca_kmeans.columns.values[(-1*n_comps):] = [\"Component \" + str(i+1) for i in range(n_comps)]\n",
    "df_seg_pca_kmeans['Cluster'] = kmeans_pca.labels_\n",
    "df_seg_pca_kmeans.head()"
   ]
  },
  {
   "cell_type": "code",
   "execution_count": null,
   "metadata": {},
   "outputs": [],
   "source": []
  },
  {
   "cell_type": "code",
   "execution_count": null,
   "metadata": {},
   "outputs": [],
   "source": []
  },
  {
   "cell_type": "code",
   "execution_count": null,
   "metadata": {},
   "outputs": [],
   "source": []
  },
  {
   "cell_type": "code",
   "execution_count": null,
   "metadata": {},
   "outputs": [],
   "source": []
  },
  {
   "cell_type": "code",
   "execution_count": null,
   "metadata": {},
   "outputs": [],
   "source": []
  },
  {
   "cell_type": "code",
   "execution_count": null,
   "metadata": {},
   "outputs": [],
   "source": []
  },
  {
   "cell_type": "code",
   "execution_count": null,
   "metadata": {},
   "outputs": [],
   "source": []
  },
  {
   "cell_type": "markdown",
   "metadata": {},
   "source": [
    "--------------------------------------------------"
   ]
  },
  {
   "cell_type": "markdown",
   "metadata": {
    "id": "p-MFU-2neT38"
   },
   "source": [
    "## Loading the sklearn's wines dataset"
   ]
  },
  {
   "cell_type": "code",
   "execution_count": null,
   "metadata": {
    "colab": {
     "base_uri": "https://localhost:8080/",
     "height": 243
    },
    "executionInfo": {
     "elapsed": 203,
     "status": "ok",
     "timestamp": 1623847303907,
     "user": {
      "displayName": "Ignacio Soteras",
      "photoUrl": "",
      "userId": "02050793736257155229"
     },
     "user_tz": -120
    },
    "id": "JoMfvQc8eZIk",
    "outputId": "81c65019-819b-4c12-cb7b-2e30b1c13089"
   },
   "outputs": [],
   "source": [
    "data = datasets.load_wine()\n",
    "\n",
    "# Let's see what we have.\n",
    "#display(data)\n",
    "# OMG! Another dictionary!!!\n",
    "\n",
    "# We will not use the 'target' key as we don't want to classify the wines in types.\n",
    "# we just want to cluster them.\n",
    "X = pd.DataFrame(data[\"data\"], columns=data[\"feature_names\"])\n",
    "\n",
    "print()\n",
    "X.head()"
   ]
  },
  {
   "cell_type": "code",
   "execution_count": null,
   "metadata": {
    "colab": {
     "base_uri": "https://localhost:8080/",
     "height": 191
    },
    "executionInfo": {
     "elapsed": 216,
     "status": "ok",
     "timestamp": 1623847081785,
     "user": {
      "displayName": "Ignacio Soteras",
      "photoUrl": "",
      "userId": "02050793736257155229"
     },
     "user_tz": -120
    },
    "id": "vxTz2Zq-0_CU",
    "outputId": "b815d0a7-8668-4cc3-b972-d2e74dd2e767"
   },
   "outputs": [],
   "source": [
    "data['DESCR']"
   ]
  },
  {
   "cell_type": "code",
   "execution_count": null,
   "metadata": {
    "colab": {
     "base_uri": "https://localhost:8080/"
    },
    "executionInfo": {
     "elapsed": 210,
     "status": "ok",
     "timestamp": 1623847153592,
     "user": {
      "displayName": "Ignacio Soteras",
      "photoUrl": "",
      "userId": "02050793736257155229"
     },
     "user_tz": -120
    },
    "id": "3JZ-6nvR1ODN",
    "outputId": "5af5fbaf-face-45cc-de35-51b7a303615b"
   },
   "outputs": [],
   "source": [
    "data['data']"
   ]
  },
  {
   "cell_type": "code",
   "execution_count": null,
   "metadata": {
    "colab": {
     "base_uri": "https://localhost:8080/"
    },
    "executionInfo": {
     "elapsed": 200,
     "status": "ok",
     "timestamp": 1623847196326,
     "user": {
      "displayName": "Ignacio Soteras",
      "photoUrl": "",
      "userId": "02050793736257155229"
     },
     "user_tz": -120
    },
    "id": "gTHWNOT-1bde",
    "outputId": "354608ea-d15b-4046-9756-71e1d1858fee"
   },
   "outputs": [],
   "source": [
    "data['feature_names']"
   ]
  },
  {
   "cell_type": "markdown",
   "metadata": {
    "id": "jKnoCN1MgG6B"
   },
   "source": [
    "## Scaling features"
   ]
  },
  {
   "cell_type": "code",
   "execution_count": null,
   "metadata": {
    "colab": {
     "base_uri": "https://localhost:8080/",
     "height": 319
    },
    "executionInfo": {
     "elapsed": 226,
     "status": "ok",
     "timestamp": 1623847356617,
     "user": {
      "displayName": "Ignacio Soteras",
      "photoUrl": "",
      "userId": "02050793736257155229"
     },
     "user_tz": -120
    },
    "id": "HwrUhwwcgRkP",
    "outputId": "006111e0-116d-4087-aaca-88219c7567de"
   },
   "outputs": [],
   "source": [
    "X.describe()"
   ]
  },
  {
   "cell_type": "markdown",
   "metadata": {
    "id": "m9xNyIF4gKd4"
   },
   "source": [
    "The scale of \"proline\" is much bigger than the scale of many other variable!\n",
    "\n",
    "**K-Means is a distance based algorithm**: we need to scale / normalize!:"
   ]
  },
  {
   "cell_type": "code",
   "execution_count": null,
   "metadata": {
    "colab": {
     "base_uri": "https://localhost:8080/",
     "height": 431
    },
    "executionInfo": {
     "elapsed": 206,
     "status": "ok",
     "timestamp": 1623847766918,
     "user": {
      "displayName": "Ignacio Soteras",
      "photoUrl": "",
      "userId": "02050793736257155229"
     },
     "user_tz": -120
    },
    "id": "8V86cFdpgJrd",
    "outputId": "b3a8d5a2-a380-4545-a06e-a6487daf3601"
   },
   "outputs": [],
   "source": [
    "scaler = StandardScaler()\n",
    "scaler.fit(X)\n",
    "X_scaled = scaler.transform(X)\n",
    "X_scaled_df = pd.DataFrame(X_scaled, columns = X.columns)\n",
    "display(X.head())\n",
    "print()\n",
    "display(X_scaled_df.head())"
   ]
  },
  {
   "cell_type": "code",
   "execution_count": null,
   "metadata": {
    "colab": {
     "base_uri": "https://localhost:8080/",
     "height": 319
    },
    "executionInfo": {
     "elapsed": 221,
     "status": "ok",
     "timestamp": 1623847821073,
     "user": {
      "displayName": "Ignacio Soteras",
      "photoUrl": "",
      "userId": "02050793736257155229"
     },
     "user_tz": -120
    },
    "id": "INQdugXS3zPO",
    "outputId": "cc49e206-ecd0-4804-c96f-86f159b6b9cf"
   },
   "outputs": [],
   "source": [
    "X_scaled_df.describe()"
   ]
  },
  {
   "cell_type": "markdown",
   "metadata": {
    "id": "1XaQQHyJghB8"
   },
   "source": [
    "Now, all features will have the same weight."
   ]
  },
  {
   "cell_type": "code",
   "execution_count": null,
   "metadata": {
    "colab": {
     "base_uri": "https://localhost:8080/",
     "height": 224
    },
    "executionInfo": {
     "elapsed": 1014,
     "status": "ok",
     "timestamp": 1617871525437,
     "user": {
      "displayName": "Ignacio Soteras",
      "photoUrl": "",
      "userId": "02050793736257155229"
     },
     "user_tz": -120
    },
    "id": "w7p1L_wNgitZ",
    "outputId": "4265f1ce-17d4-4e4f-8583-89c1dab4ad3d"
   },
   "outputs": [],
   "source": [
    "pd.DataFrame(X_prep, columns=X.columns).head()"
   ]
  },
  {
   "cell_type": "code",
   "execution_count": null,
   "metadata": {
    "colab": {
     "base_uri": "https://localhost:8080/",
     "height": 317
    },
    "executionInfo": {
     "elapsed": 468,
     "status": "ok",
     "timestamp": 1617871550483,
     "user": {
      "displayName": "Ignacio Soteras",
      "photoUrl": "",
      "userId": "02050793736257155229"
     },
     "user_tz": -120
    },
    "id": "mSxXfxc6qJDh",
    "outputId": "6acc14b0-c483-4e03-97eb-2734dc3398d7"
   },
   "outputs": [],
   "source": [
    "pd.DataFrame(X_prep, columns=X.columns).describe()"
   ]
  },
  {
   "cell_type": "markdown",
   "metadata": {
    "id": "W8zgKxQKhBUr"
   },
   "source": [
    "## Clustering the wines with K-Means"
   ]
  },
  {
   "cell_type": "markdown",
   "metadata": {
    "id": "onOxY0YJhSOv"
   },
   "source": [
    "We will pick manually the number of clusters we want - let's set it to 8. Later we will discuss how many clusters should we have.\n",
    "\n",
    "When randomness is involved (remember, **K-means picks randomly the initial centroids**), we better use a random seed so that we can reproduce our results. We can set this directly to the argument **random_state**."
   ]
  },
  {
   "cell_type": "code",
   "execution_count": null,
   "metadata": {
    "colab": {
     "base_uri": "https://localhost:8080/"
    },
    "executionInfo": {
     "elapsed": 208,
     "status": "ok",
     "timestamp": 1623848315608,
     "user": {
      "displayName": "Ignacio Soteras",
      "photoUrl": "",
      "userId": "02050793736257155229"
     },
     "user_tz": -120
    },
    "id": "qS4o_tT1hGAG",
    "outputId": "eecc7527-b3df-4576-f931-881e198c2166"
   },
   "outputs": [],
   "source": [
    "kmeans = KMeans(n_clusters=8, random_state=1234)\n",
    "kmeans.fit(X_scaled_df)"
   ]
  },
  {
   "cell_type": "markdown",
   "metadata": {
    "id": "27Ab6CkAhoOT"
   },
   "source": [
    "Now we have our \"model\", let's get the clusters and how many observations has each cluster.\n",
    "\n"
   ]
  },
  {
   "cell_type": "code",
   "execution_count": null,
   "metadata": {
    "colab": {
     "base_uri": "https://localhost:8080/"
    },
    "executionInfo": {
     "elapsed": 280,
     "status": "ok",
     "timestamp": 1623848518689,
     "user": {
      "displayName": "Ignacio Soteras",
      "photoUrl": "",
      "userId": "02050793736257155229"
     },
     "user_tz": -120
    },
    "id": "jHfWQSmth9yR",
    "outputId": "d952adf3-9ced-4a61-dc93-14ed804a4fe1"
   },
   "outputs": [],
   "source": [
    "clusters = kmeans.predict(X_scaled_df)\n",
    "#clusters\n",
    "pd.Series(clusters).value_counts().sort_index()"
   ]
  },
  {
   "cell_type": "markdown",
   "metadata": {
    "id": "R7K3uJuPimcS"
   },
   "source": [
    "Now let's see to which group was assigned every wine."
   ]
  },
  {
   "cell_type": "code",
   "execution_count": null,
   "metadata": {
    "colab": {
     "base_uri": "https://localhost:8080/",
     "height": 225
    },
    "executionInfo": {
     "elapsed": 234,
     "status": "ok",
     "timestamp": 1623848601645,
     "user": {
      "displayName": "Ignacio Soteras",
      "photoUrl": "",
      "userId": "02050793736257155229"
     },
     "user_tz": -120
    },
    "id": "RmWPL4DjiyIP",
    "outputId": "b1a15218-8112-4e6f-c87a-f6e4a972080d"
   },
   "outputs": [],
   "source": [
    "#X_df = pd.DataFrame(X)\n",
    "X[\"cluster\"] = clusters\n",
    "X.head()"
   ]
  },
  {
   "cell_type": "code",
   "execution_count": null,
   "metadata": {
    "colab": {
     "base_uri": "https://localhost:8080/",
     "height": 101
    },
    "executionInfo": {
     "elapsed": 206,
     "status": "ok",
     "timestamp": 1623848706129,
     "user": {
      "displayName": "Ignacio Soteras",
      "photoUrl": "",
      "userId": "02050793736257155229"
     },
     "user_tz": -120
    },
    "id": "cTlD0Mrl68mp",
    "outputId": "7fab6ffe-65d9-4304-ede3-6c0e034ddca5"
   },
   "outputs": [],
   "source": [
    "X[X['cluster'] == 7].sample()"
   ]
  },
  {
   "cell_type": "markdown",
   "metadata": {
    "id": "3NkfqPiJjb76"
   },
   "source": [
    "## Playing with the parameters"
   ]
  },
  {
   "cell_type": "markdown",
   "metadata": {
    "id": "O2KwLLpijvAw"
   },
   "source": [
    "**init**: those are the different initialization strategies. By default, sklearn is already using a 'smart' method, not the totally random one we saw.\n",
    "\n",
    "**n_init**: By default, Scikit-Learn has tried 10 different random initializations and kept the best model.\n",
    "\n",
    "[Scikitlearn Documentation](https://scikit-learn.org/stable/modules/generated/sklearn.cluster.KMeans.html)\n",
    "\n",
    "How does Scikit-Learn know which model is the best? It uses a performance metric called **inertia**. **It is the mean squared distance between each instance and its closest centroid**. It's stored in the inertia_ attribute of the model."
   ]
  },
  {
   "cell_type": "code",
   "execution_count": null,
   "metadata": {
    "colab": {
     "base_uri": "https://localhost:8080/"
    },
    "executionInfo": {
     "elapsed": 228,
     "status": "ok",
     "timestamp": 1623848859464,
     "user": {
      "displayName": "Ignacio Soteras",
      "photoUrl": "",
      "userId": "02050793736257155229"
     },
     "user_tz": -120
    },
    "id": "IfB_M6fgkYrO",
    "outputId": "f7437ec0-2b22-4f65-ee9d-6e1efec6eda0"
   },
   "outputs": [],
   "source": [
    "kmeans.inertia_"
   ]
  },
  {
   "cell_type": "markdown",
   "metadata": {
    "id": "FC1zC3e7kg-3"
   },
   "source": [
    "**max_iter**: It iterates up to 300 times by default (those are the re-computing centroids iterations we saw earlier)\n",
    "\n",
    "**tol**: This is a way to determine when to stop iterating (if the clusters have changed only veeeery slightly, we assume we have achieved 'convergence')\n",
    "\n",
    "**algorithm**: There are variations in the implementation of most algorithms and K-Means is no exception. By default, we're using a 'smart' implementation called elkan.\n",
    "\n",
    "For learning purposes, we will tweak the parameters to replicate the good ol' K-Means - a bit dumber than the Scikit-Learn, yes, but also the original."
   ]
  },
  {
   "cell_type": "code",
   "execution_count": null,
   "metadata": {
    "colab": {
     "base_uri": "https://localhost:8080/"
    },
    "executionInfo": {
     "elapsed": 228,
     "status": "ok",
     "timestamp": 1623848956571,
     "user": {
      "displayName": "Ignacio Soteras",
      "photoUrl": "",
      "userId": "02050793736257155229"
     },
     "user_tz": -120
    },
    "id": "mTUnGONElwzm",
    "outputId": "e2be9ff2-7612-4b3e-d091-203cae32721c"
   },
   "outputs": [],
   "source": [
    "kmeans2 = KMeans(n_clusters=8,\n",
    "                init=\"random\",\n",
    "                n_init=3,  # try with 1, 4, 8, 20, 30, 100...\n",
    "                max_iter=2,\n",
    "                tol=0,\n",
    "                algorithm=\"full\",\n",
    "                random_state=1234)\n",
    "kmeans2.fit(X_scaled_df)\n",
    "print(kmeans2.inertia_)"
   ]
  },
  {
   "cell_type": "markdown",
   "metadata": {
    "id": "77b-H29dnlLP"
   },
   "source": [
    "## Chosing K"
   ]
  },
  {
   "cell_type": "markdown",
   "metadata": {
    "id": "L8_TbXg4no6m"
   },
   "source": [
    "We have used K=8 by default for now - but we know that 8 might not be the optimal number of clusters for our dataset. Having a metric like inertia, we can compute it for several K values and then use the \"elbow method\" to choose the best K.\n",
    "\n",
    "We will now leave all other parameters with their default value, since it seems to work pretty well."
   ]
  },
  {
   "cell_type": "code",
   "execution_count": null,
   "metadata": {
    "colab": {
     "base_uri": "https://localhost:8080/",
     "height": 1000
    },
    "executionInfo": {
     "elapsed": 2117,
     "status": "ok",
     "timestamp": 1623849240010,
     "user": {
      "displayName": "Ignacio Soteras",
      "photoUrl": "",
      "userId": "02050793736257155229"
     },
     "user_tz": -120
    },
    "id": "g69gpyLSnqVS",
    "outputId": "5eff7e09-1033-499e-ca86-a5b49f356400"
   },
   "outputs": [],
   "source": [
    "K = range(2, 21)\n",
    "inertia = []\n",
    "\n",
    "for k in K:\n",
    "    print(\"Training a K-Means model with {} neighbours! \".format(k))\n",
    "    print()\n",
    "    kmeans = KMeans(n_clusters=k,\n",
    "                    random_state=1234)\n",
    "    kmeans.fit(X_scaled_df)\n",
    "    inertia.append(kmeans.inertia_)\n",
    "\n",
    "import numpy as np\n",
    "import matplotlib.pyplot as plt\n",
    "%matplotlib inline\n",
    "\n",
    "plt.figure(figsize=(16,8))\n",
    "plt.plot(K, inertia, 'bx-')\n",
    "plt.xlabel('k')\n",
    "plt.ylabel('inertia')\n",
    "plt.xticks(np.arange(min(K), max(K)+1, 1.0))\n",
    "plt.title('Elbow Method showing the optimal k')"
   ]
  },
  {
   "cell_type": "markdown",
   "metadata": {
    "id": "nSnuBHPro2xZ"
   },
   "source": [
    "There seems to be an elbow at **k=3**, and then a very slight one at k=10, but other than that the plot is quite smooth. What if our business needs involv having a k between 5 and 8?\n",
    "\n",
    "There is another metric that will help us decide."
   ]
  },
  {
   "cell_type": "markdown",
   "metadata": {
    "id": "shXQmFxLpVU8"
   },
   "source": [
    "## Silouhette"
   ]
  },
  {
   "cell_type": "markdown",
   "metadata": {
    "id": "7t-Ydk-5pYbf"
   },
   "source": [
    "There's a metric called **Silhouette Score** that also measures how similar is an observation is to its own cluster compared to other clusters. For the ith observation, the **Silhouette Score** is:\n",
    "\n",
    "$$s_{K,L} = (b - a) / max(a,b) $$\n",
    "\n",
    "Where:\n",
    "\n",
    "a = mean intra-cluster distance (the average distance between i and every other observation in the cluster where i belongs)\n",
    "\n",
    "$$ a = \\frac{1}{n_{K}}\\sum_{i,j\\neq{i}}^{n_{K}}d(i,j)$$\n",
    "\n",
    "b = mean **nearest-cluster** distance (the average distance between i and the observations of the nearest cluster that i is not part of it)\n",
    "\n",
    "$$ b = \\frac{1}{(n_{K}*n_{L})}\\sum_{i}^{n_{K}}\\sum_{j}^{n_{L}}d(i,j)$$\n",
    "\n",
    "The silhouette score for the whole model is the **average of all the silhouette scores** of each instance.\n",
    "\n",
    "$$ S = \\frac{2}{N(N-1)}\\sum_{c}s_{K,L}$$\n",
    "\n",
    "Because we divide the substraction of (b-a) by the max of the two distances (which will always be b unless the observation has been wrongly assigned to a cluster it should not belong), we obtain a \"normalized score\", that ranges from -1 to 1, and that makes it easier to interpret."
   ]
  },
  {
   "cell_type": "code",
   "execution_count": null,
   "metadata": {
    "colab": {
     "base_uri": "https://localhost:8080/",
     "height": 530
    },
    "executionInfo": {
     "elapsed": 2352,
     "status": "ok",
     "timestamp": 1623849582213,
     "user": {
      "displayName": "Ignacio Soteras",
      "photoUrl": "",
      "userId": "02050793736257155229"
     },
     "user_tz": -120
    },
    "id": "c4qvvkaOvqjr",
    "outputId": "96b4dea1-2977-4916-c92c-d9090a6886aa"
   },
   "outputs": [],
   "source": [
    "K = range(2, 20)\n",
    "silhouette = []\n",
    "\n",
    "for k in K:\n",
    "    kmeans = KMeans(n_clusters=k,\n",
    "                    random_state=1234)\n",
    "    kmeans.fit(X_scaled_df)\n",
    "    filename = \"/content/drive/MyDrive/kmeans_\" + str(k) + \".pickle\"\n",
    "    with open(filename, \"wb\") as f:\n",
    "        pickle.dump(kmeans,f)\n",
    "    silhouette.append(silhouette_score(X_scaled_df, kmeans.predict(X_scaled_df)))\n",
    "\n",
    "\n",
    "plt.figure(figsize=(16,8))\n",
    "plt.plot(K, silhouette, 'bx-')\n",
    "plt.xlabel('k')\n",
    "plt.ylabel('silhouette score')\n",
    "plt.xticks(np.arange(min(K), max(K)+1, 1.0))\n",
    "plt.title('Silhouette Method showing the optimal k')"
   ]
  },
  {
   "cell_type": "code",
   "execution_count": null,
   "metadata": {
    "colab": {
     "base_uri": "https://localhost:8080/"
    },
    "id": "r8vrUmcq6CTf",
    "outputId": "2734b519-a0c7-41a3-cf42-ee47028b00f1"
   },
   "outputs": [],
   "source": [
    "s = [0.26,0.28,0.24,0.247]\n",
    "s.index(max(s))"
   ]
  },
  {
   "cell_type": "markdown",
   "metadata": {
    "id": "TmE9ES1EwPhL"
   },
   "source": [
    "The greater the Silouhette, the greater the separation between the clusters, In other words, the clusters will be more defined."
   ]
  },
  {
   "cell_type": "markdown",
   "metadata": {
    "id": "mvjmm52iw2xU"
   },
   "source": [
    "Here, we confirm that 3 is the best option, but we also notice that 5 a quite good - it meets the 'technical criteria' of having a better score than its predecessor (4), so if it falls within the range of our business demands - it looks like the best candidate."
   ]
  },
  {
   "cell_type": "markdown",
   "metadata": {
    "id": "rQ7S4T2TtKz1"
   },
   "source": [
    "# Saving with pickle"
   ]
  },
  {
   "cell_type": "code",
   "execution_count": null,
   "metadata": {
    "colab": {
     "base_uri": "https://localhost:8080/"
    },
    "executionInfo": {
     "elapsed": 21442,
     "status": "ok",
     "timestamp": 1623849963023,
     "user": {
      "displayName": "Ignacio Soteras",
      "photoUrl": "",
      "userId": "02050793736257155229"
     },
     "user_tz": -120
    },
    "id": "VXnryhFVtyA5",
    "outputId": "86cdd398-3c25-45a8-ac70-970d48f0b852"
   },
   "outputs": [],
   "source": [
    "from google.colab import drive\n",
    "drive.mount('/content/drive')"
   ]
  },
  {
   "cell_type": "code",
   "execution_count": null,
   "metadata": {
    "executionInfo": {
     "elapsed": 432,
     "status": "ok",
     "timestamp": 1623850976766,
     "user": {
      "displayName": "Ignacio Soteras",
      "photoUrl": "",
      "userId": "02050793736257155229"
     },
     "user_tz": -120
    },
    "id": "w0DBvROTtNRZ"
   },
   "outputs": [],
   "source": [
    "import pickle\n",
    "\n",
    "#scaler = StandardScaler()\n",
    "#model = KMeans()\n",
    "\n",
    "with open(\"/content/drive/MyDrive/scaler.pickle\", \"wb\") as f:\n",
    "    pickle.dump(scaler,f)\n",
    "\n",
    "with open(\"/content/drive/MyDrive/kmeans_4.pickle\", \"wb\") as f:\n",
    "    pickle.dump(kmeans,f)\n"
   ]
  },
  {
   "cell_type": "code",
   "execution_count": null,
   "metadata": {
    "executionInfo": {
     "elapsed": 202,
     "status": "ok",
     "timestamp": 1623850160602,
     "user": {
      "displayName": "Ignacio Soteras",
      "photoUrl": "",
      "userId": "02050793736257155229"
     },
     "user_tz": -120
    },
    "id": "PLfjcUzbu1FF"
   },
   "outputs": [],
   "source": [
    "def load(filename = \"filename.pickle\"): \n",
    "    try: \n",
    "        with open(filename, \"rb\") as f: \n",
    "            return pickle.load(f) \n",
    "    except FileNotFoundError: \n",
    "        print(\"File not found!\") \n"
   ]
  },
  {
   "cell_type": "code",
   "execution_count": null,
   "metadata": {
    "colab": {
     "base_uri": "https://localhost:8080/"
    },
    "executionInfo": {
     "elapsed": 200,
     "status": "ok",
     "timestamp": 1623850190360,
     "user": {
      "displayName": "Ignacio Soteras",
      "photoUrl": "",
      "userId": "02050793736257155229"
     },
     "user_tz": -120
    },
    "id": "VqDGBIPVvBXG",
    "outputId": "cc0b5b59-d4f9-40ee-8c0b-d733de6570f0"
   },
   "outputs": [],
   "source": [
    "scaler2 = load(\"/content/drive/MyDrive/scaler.pickle\")\n",
    "scaler2"
   ]
  },
  {
   "cell_type": "markdown",
   "metadata": {
    "id": "O1PJsX3yxY6r"
   },
   "source": [
    "# Time to work!"
   ]
  },
  {
   "cell_type": "markdown",
   "metadata": {
    "id": "ieomYz1Bxa0n"
   },
   "source": [
    "Time to clusterize the songs in your database and see how they look like. "
   ]
  }
 ],
 "metadata": {
  "colab": {
   "name": "code_along_KMeans_structure.ipynb",
   "provenance": []
  },
  "kernelspec": {
   "display_name": "Python 3",
   "language": "python",
   "name": "python3"
  },
  "language_info": {
   "codemirror_mode": {
    "name": "ipython",
    "version": 3
   },
   "file_extension": ".py",
   "mimetype": "text/x-python",
   "name": "python",
   "nbconvert_exporter": "python",
   "pygments_lexer": "ipython3",
   "version": "3.8.8"
  }
 },
 "nbformat": 4,
 "nbformat_minor": 1
}

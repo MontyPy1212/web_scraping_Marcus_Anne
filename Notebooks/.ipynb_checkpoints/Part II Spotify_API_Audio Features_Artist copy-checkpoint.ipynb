{
 "cells": [
  {
   "cell_type": "markdown",
   "metadata": {},
   "source": [
    "# Part II Getting our Audio Features for Top100 Hotlist"
   ]
  },
  {
   "cell_type": "markdown",
   "metadata": {},
   "source": [
    "Goal: Generate a 5k list with diff audio features from diff authors based on our hot list \n",
    "\n",
    "1. Start with only one song and figure out which query etc. (done) \n",
    "\n",
    "2. Get Several Authors and their albums \n",
    "3. Feed quere with all album and / or track ids "
   ]
  },
  {
   "cell_type": "markdown",
   "metadata": {
    "id": "-M3QFIFrKdPt"
   },
   "source": [
    "## Installing Spotipy"
   ]
  },
  {
   "cell_type": "markdown",
   "metadata": {
    "id": "o2ooSokHKfsd"
   },
   "source": [
    "In order to use the Spotify API (SpotiPy) we will have to create an account in Spotify and follow these steps. Once we have done it we will start initializing the API and look at the search method for which we can introduce a \"query\" q, in this example we will try it with Lady Gaga:"
   ]
  },
  {
   "cell_type": "code",
   "execution_count": null,
   "metadata": {
    "colab": {
     "base_uri": "https://localhost:8080/"
    },
    "executionInfo": {
     "elapsed": 5245,
     "status": "ok",
     "timestamp": 1623745902730,
     "user": {
      "displayName": "Ignacio Soteras",
      "photoUrl": "",
      "userId": "02050793736257155229"
     },
     "user_tz": -120
    },
    "id": "tis_6tTpKY1Z",
    "outputId": "adfb4763-04d9-4b55-b0d8-c5e317263072"
   },
   "outputs": [],
   "source": [
    "#!pip install spotipy"
   ]
  },
  {
   "cell_type": "markdown",
   "metadata": {
    "id": "fnhh4ayEOKz4"
   },
   "source": [
    "## Loading credentials from another config file"
   ]
  },
  {
   "cell_type": "code",
   "execution_count": 1,
   "metadata": {},
   "outputs": [],
   "source": [
    "import config\n",
    "import spotipy\n",
    "import json\n",
    "from spotipy.oauth2 import SpotifyClientCredentials\n",
    "import pandas as pd\n",
    "\n",
    "#client_id = \"5622c0f1f94243ffa051cfbdf4734578\"\n",
    "#client_secret = \"5622c0f1f94243ffa051cfbdf4734578\"\n",
    "\n",
    "#Initialize SpotiPy with user credentias\n",
    "sp = spotipy.Spotify(auth_manager=SpotifyClientCredentials(client_id= config.client_id,\n",
    "                                                           client_secret= config.client_secret))"
   ]
  },
  {
   "cell_type": "markdown",
   "metadata": {},
   "source": [
    "## Load data file "
   ]
  },
  {
   "cell_type": "code",
   "execution_count": 2,
   "metadata": {},
   "outputs": [],
   "source": [
    "df_input = pd.read_csv (\"../web_scraping_Marcus_Anne/df_final.csv\") #'Path where the CSV file is stored\\df.csv')\n",
    "#df_input.head(14)"
   ]
  },
  {
   "cell_type": "code",
   "execution_count": 30,
   "metadata": {},
   "outputs": [
    {
     "data": {
      "text/html": [
       "<div>\n",
       "<style scoped>\n",
       "    .dataframe tbody tr th:only-of-type {\n",
       "        vertical-align: middle;\n",
       "    }\n",
       "\n",
       "    .dataframe tbody tr th {\n",
       "        vertical-align: top;\n",
       "    }\n",
       "\n",
       "    .dataframe thead th {\n",
       "        text-align: right;\n",
       "    }\n",
       "</style>\n",
       "<table border=\"1\" class=\"dataframe\">\n",
       "  <thead>\n",
       "    <tr style=\"text-align: right;\">\n",
       "      <th></th>\n",
       "      <th>artist</th>\n",
       "    </tr>\n",
       "  </thead>\n",
       "  <tbody>\n",
       "    <tr>\n",
       "      <th>11</th>\n",
       "      <td>Dan + Shay &amp; Justin Bieber</td>\n",
       "    </tr>\n",
       "    <tr>\n",
       "      <th>12</th>\n",
       "      <td>Crests</td>\n",
       "    </tr>\n",
       "    <tr>\n",
       "      <th>13</th>\n",
       "      <td>Ariana Grande</td>\n",
       "    </tr>\n",
       "    <tr>\n",
       "      <th>14</th>\n",
       "      <td>Dion &amp; The Belmonts</td>\n",
       "    </tr>\n",
       "    <tr>\n",
       "      <th>15</th>\n",
       "      <td>Jackson 5</td>\n",
       "    </tr>\n",
       "    <tr>\n",
       "      <th>16</th>\n",
       "      <td>Counting Crows</td>\n",
       "    </tr>\n",
       "    <tr>\n",
       "      <th>17</th>\n",
       "      <td>Billy Ray Cyrus</td>\n",
       "    </tr>\n",
       "    <tr>\n",
       "      <th>18</th>\n",
       "      <td>Harry Styles</td>\n",
       "    </tr>\n",
       "    <tr>\n",
       "      <th>19</th>\n",
       "      <td>Toto</td>\n",
       "    </tr>\n",
       "    <tr>\n",
       "      <th>20</th>\n",
       "      <td>Garth Brooks</td>\n",
       "    </tr>\n",
       "    <tr>\n",
       "      <th>21</th>\n",
       "      <td>Diana Ross</td>\n",
       "    </tr>\n",
       "    <tr>\n",
       "      <th>22</th>\n",
       "      <td>Marvin Gaye &amp; Tammi Terrell</td>\n",
       "    </tr>\n",
       "    <tr>\n",
       "      <th>23</th>\n",
       "      <td>Dean Martin</td>\n",
       "    </tr>\n",
       "    <tr>\n",
       "      <th>24</th>\n",
       "      <td>Fats Domino</td>\n",
       "    </tr>\n",
       "    <tr>\n",
       "      <th>25</th>\n",
       "      <td>Temptations</td>\n",
       "    </tr>\n",
       "    <tr>\n",
       "      <th>26</th>\n",
       "      <td>B.o.B Featuring Hayley Williams</td>\n",
       "    </tr>\n",
       "    <tr>\n",
       "      <th>27</th>\n",
       "      <td>Meghan Trainor</td>\n",
       "    </tr>\n",
       "    <tr>\n",
       "      <th>28</th>\n",
       "      <td>Everly Brothers</td>\n",
       "    </tr>\n",
       "    <tr>\n",
       "      <th>29</th>\n",
       "      <td>Mariah Carey</td>\n",
       "    </tr>\n",
       "  </tbody>\n",
       "</table>\n",
       "</div>"
      ],
      "text/plain": [
       "                             artist\n",
       "11       Dan + Shay & Justin Bieber\n",
       "12                           Crests\n",
       "13                    Ariana Grande\n",
       "14              Dion & The Belmonts\n",
       "15                        Jackson 5\n",
       "16                   Counting Crows\n",
       "17                  Billy Ray Cyrus\n",
       "18                     Harry Styles\n",
       "19                             Toto\n",
       "20                     Garth Brooks\n",
       "21                       Diana Ross\n",
       "22      Marvin Gaye & Tammi Terrell\n",
       "23                      Dean Martin\n",
       "24                      Fats Domino\n",
       "25                      Temptations\n",
       "26  B.o.B Featuring Hayley Williams\n",
       "27                   Meghan Trainor\n",
       "28                  Everly Brothers\n",
       "29                     Mariah Carey"
      ]
     },
     "execution_count": 30,
     "metadata": {},
     "output_type": "execute_result"
    }
   ],
   "source": [
    "new = df_input.iloc[11:30,2:3]\n",
    "new"
   ]
  },
  {
   "cell_type": "code",
   "execution_count": 31,
   "metadata": {
    "scrolled": true
   },
   "outputs": [],
   "source": [
    "#df_input[\"artist\"].value_counts()"
   ]
  },
  {
   "cell_type": "code",
   "execution_count": 32,
   "metadata": {},
   "outputs": [
    {
     "data": {
      "text/plain": [
       "['Dan + Shay & Justin Bieber',\n",
       " 'Crests',\n",
       " 'Ariana Grande',\n",
       " 'Dion & The Belmonts',\n",
       " 'Jackson 5',\n",
       " 'Counting Crows',\n",
       " 'Billy Ray Cyrus',\n",
       " 'Harry Styles',\n",
       " 'Toto',\n",
       " 'Garth Brooks',\n",
       " 'Diana Ross',\n",
       " 'Marvin Gaye & Tammi Terrell',\n",
       " 'Dean Martin',\n",
       " 'Fats Domino',\n",
       " 'Temptations',\n",
       " 'B.o.B Featuring Hayley Williams',\n",
       " 'Meghan Trainor',\n",
       " 'Everly Brothers',\n",
       " 'Mariah Carey']"
      ]
     },
     "execution_count": 32,
     "metadata": {},
     "output_type": "execute_result"
    }
   ],
   "source": [
    "first_50 = new[\"artist\"].to_list()\n",
    "first_50"
   ]
  },
  {
   "cell_type": "code",
   "execution_count": null,
   "metadata": {},
   "outputs": [],
   "source": [
    "#df_50 = pd.read_csv (\"../web_scraping_Marcus_Anne/list2021.csv\") \n",
    "#df_60 = pd.read_csv (\"../web_scraping_Marcus_Anne/list1960.csv\") \n",
    "#df_70 = pd.read_csv (\"../web_scraping_Marcus_Anne/df_final.csv\") \n",
    "#df_80 = pd.read_csv (\"../web_scraping_Marcus_Anne/df_final.csv\") \n",
    "#df_90 = pd.read_csv (\"../web_scraping_Marcus_Anne/df_final.csv\") \n",
    "#df_00 = pd.read_csv (\"../web_scraping_Marcus_Anne/df_final.csv\") \n",
    "#df_10 = pd.read_csv (\"../web_scraping_Marcus_Anne/df_final.csv\")"
   ]
  },
  {
   "cell_type": "code",
   "execution_count": null,
   "metadata": {},
   "outputs": [],
   "source": [
    "#simple way\n",
    "\"\"\"\n",
    "artist = \"Prince\"\n",
    "\n",
    "#song = sp.search(q=\"prince\", limit=10) \n",
    "song = sp.search(q=artist, limit=5) \n",
    "\n",
    "#pprint.pprint(song['tracks']['items'][0]['uri'])\n",
    "song[\"tracks\"][\"items\"][0][\"uri\"]\n",
    "sp.audio_features(song[\"tracks\"][\"items\"][0][\"uri\"])[0]"
   ]
  },
  {
   "cell_type": "code",
   "execution_count": null,
   "metadata": {},
   "outputs": [],
   "source": [
    "#transform into a dataframe \n",
    "\"\"\"\n",
    "my_dict = sp.audio_features(song[\"tracks\"][\"items\"][0][\"uri\"])[0] # you can provide a list of uri's\n",
    "\n",
    "print(my_dict)\n",
    "my_dict_new = { key: [my_dict[key]] for key in list(my_dict.keys()) }\n",
    "\n",
    "#my_dict_new['name'] = [song[\"tracks\"][\"items\"][0]['name']]\n",
    "print(my_dict_new)\n",
    "\n",
    "pd.DataFrame(my_dict_new)"
   ]
  },
  {
   "cell_type": "markdown",
   "metadata": {},
   "source": [
    "### Test "
   ]
  },
  {
   "cell_type": "code",
   "execution_count": 5,
   "metadata": {},
   "outputs": [],
   "source": [
    "from tqdm import tqdm_notebook"
   ]
  },
  {
   "cell_type": "code",
   "execution_count": 33,
   "metadata": {},
   "outputs": [],
   "source": [
    "def artist_tracks(first_50):\n",
    "    \n",
    "    '''\n",
    "    Takes a list of artist names, iterates through their Spotify albums, checks for \n",
    "    duplicate albums, then appends all the tracks in those albums to a list of lists\n",
    "    '''\n",
    "    \n",
    "    # Each list in this list will be a track and its features\n",
    "    tracks = []\n",
    "    \n",
    "    \n",
    "    for artist in tqdm_notebook(first_50):\n",
    "        \n",
    "        # Get the artist URI (a unique ID)\n",
    "        artist_uri = sp.search(artist)['tracks']['items'][0]['artists'][0]['uri']\n",
    "\n",
    "        # Spotify has a lot of duplicate albums, but we'll cross-reference them with this list to avoid extra loops\n",
    "        album_checker = []\n",
    "        \n",
    "        # The starting point of our loop of albums for those artists with more than 50\n",
    "        n = 0\n",
    "        \n",
    "        # Note the album_type = 'album'. This discounts singles, compilations and collaborations\n",
    "        while len(sp.artist_albums(artist_uri, album_type = 'album', limit=50, offset = n)['items']) > 0:\n",
    "            \n",
    "            # Avoid overloading Spotify with requests by assigning the list of album dictionaries to a variable\n",
    "            dict_list = sp.artist_albums(artist_uri, album_type = 'album', limit=50, offset = n)['items']\n",
    "            \n",
    "            for i, album in tqdm_notebook(enumerate(dict_list)):\n",
    "\n",
    "                # Add the featured artists for the album in question to the checklist\n",
    "                check_this_album = [j['name'] for j in dict_list[i]['artists']]\n",
    "                # And the album name\n",
    "                check_this_album.append(dict_list[i]['name'])\n",
    "                # And its date\n",
    "                check_this_album.append(dict_list[i]['release_date'])\n",
    "\n",
    "                # Only continue looping if that album isn't in the checklist\n",
    "                if check_this_album not in album_checker:\n",
    "                    \n",
    "                    # Add this album to the checker\n",
    "                    album_checker.append(check_this_album)\n",
    "                    # For every song on the album, get its descriptors and features in a list and add to the tracklist\n",
    "                    tracks.extend([[artist, album['name'], album['uri'], song['name'],\n",
    "\n",
    "                      album['release_date']] + list(sp.audio_features(song['uri'])[0].values()) \n",
    "                                   for song in sp.album_tracks(album['uri'])['items']])\n",
    "            \n",
    "            # Go through the next 50 albums (otherwise we'll get an infinite while loop)\n",
    "            n += 50\n",
    "\n",
    "    return tracks"
   ]
  },
  {
   "cell_type": "code",
   "execution_count": 34,
   "metadata": {
    "scrolled": false
   },
   "outputs": [
    {
     "name": "stderr",
     "output_type": "stream",
     "text": [
      "<ipython-input-33-652879bdb20a>:12: TqdmDeprecationWarning: This function will be removed in tqdm==5.0.0\n",
      "Please use `tqdm.notebook.tqdm` instead of `tqdm.tqdm_notebook`\n",
      "  for artist in tqdm_notebook(first_50):\n"
     ]
    },
    {
     "data": {
      "application/vnd.jupyter.widget-view+json": {
       "model_id": "9828800546c54097876fa3666054d89f",
       "version_major": 2,
       "version_minor": 0
      },
      "text/plain": [
       "  0%|          | 0/19 [00:00<?, ?it/s]"
      ]
     },
     "metadata": {},
     "output_type": "display_data"
    },
    {
     "name": "stderr",
     "output_type": "stream",
     "text": [
      "<ipython-input-33-652879bdb20a>:29: TqdmDeprecationWarning: This function will be removed in tqdm==5.0.0\n",
      "Please use `tqdm.notebook.tqdm` instead of `tqdm.tqdm_notebook`\n",
      "  for i, album in tqdm_notebook(enumerate(dict_list)):\n"
     ]
    },
    {
     "data": {
      "application/vnd.jupyter.widget-view+json": {
       "model_id": "286d4dfea21643dcbe2d804ae4135fed",
       "version_major": 2,
       "version_minor": 0
      },
      "text/plain": [
       "0it [00:00, ?it/s]"
      ]
     },
     "metadata": {},
     "output_type": "display_data"
    },
    {
     "data": {
      "application/vnd.jupyter.widget-view+json": {
       "model_id": "d3758d288ba94536840091d99141c6ae",
       "version_major": 2,
       "version_minor": 0
      },
      "text/plain": [
       "0it [00:00, ?it/s]"
      ]
     },
     "metadata": {},
     "output_type": "display_data"
    },
    {
     "data": {
      "application/vnd.jupyter.widget-view+json": {
       "model_id": "25f9e3a616f640b6a135afef27d80ea1",
       "version_major": 2,
       "version_minor": 0
      },
      "text/plain": [
       "0it [00:00, ?it/s]"
      ]
     },
     "metadata": {},
     "output_type": "display_data"
    },
    {
     "data": {
      "application/vnd.jupyter.widget-view+json": {
       "model_id": "03bc2632fa984586b04ff4d7608af212",
       "version_major": 2,
       "version_minor": 0
      },
      "text/plain": [
       "0it [00:00, ?it/s]"
      ]
     },
     "metadata": {},
     "output_type": "display_data"
    },
    {
     "data": {
      "application/vnd.jupyter.widget-view+json": {
       "model_id": "d4c342901bda4c598cb9cb1e001503c0",
       "version_major": 2,
       "version_minor": 0
      },
      "text/plain": [
       "0it [00:00, ?it/s]"
      ]
     },
     "metadata": {},
     "output_type": "display_data"
    },
    {
     "data": {
      "application/vnd.jupyter.widget-view+json": {
       "model_id": "ed7ccb00c0d44ce0b395f52cc37d26cf",
       "version_major": 2,
       "version_minor": 0
      },
      "text/plain": [
       "0it [00:00, ?it/s]"
      ]
     },
     "metadata": {},
     "output_type": "display_data"
    },
    {
     "data": {
      "application/vnd.jupyter.widget-view+json": {
       "model_id": "403e3a30875a4582baad2155eeff1dda",
       "version_major": 2,
       "version_minor": 0
      },
      "text/plain": [
       "0it [00:00, ?it/s]"
      ]
     },
     "metadata": {},
     "output_type": "display_data"
    },
    {
     "data": {
      "application/vnd.jupyter.widget-view+json": {
       "model_id": "4e22b388dfd14d2cb6b94da2ccc22285",
       "version_major": 2,
       "version_minor": 0
      },
      "text/plain": [
       "0it [00:00, ?it/s]"
      ]
     },
     "metadata": {},
     "output_type": "display_data"
    },
    {
     "data": {
      "application/vnd.jupyter.widget-view+json": {
       "model_id": "14052d919af8416c9c3242f50de30ce2",
       "version_major": 2,
       "version_minor": 0
      },
      "text/plain": [
       "0it [00:00, ?it/s]"
      ]
     },
     "metadata": {},
     "output_type": "display_data"
    },
    {
     "data": {
      "application/vnd.jupyter.widget-view+json": {
       "model_id": "5ff93ebc12814b369463b17d57e6c70f",
       "version_major": 2,
       "version_minor": 0
      },
      "text/plain": [
       "0it [00:00, ?it/s]"
      ]
     },
     "metadata": {},
     "output_type": "display_data"
    },
    {
     "data": {
      "application/vnd.jupyter.widget-view+json": {
       "model_id": "f5d000342cd94407af3058a4c6bd3ec3",
       "version_major": 2,
       "version_minor": 0
      },
      "text/plain": [
       "0it [00:00, ?it/s]"
      ]
     },
     "metadata": {},
     "output_type": "display_data"
    },
    {
     "data": {
      "application/vnd.jupyter.widget-view+json": {
       "model_id": "f768ad4194f64bc4bd4e0a7b879febb2",
       "version_major": 2,
       "version_minor": 0
      },
      "text/plain": [
       "0it [00:00, ?it/s]"
      ]
     },
     "metadata": {},
     "output_type": "display_data"
    },
    {
     "data": {
      "application/vnd.jupyter.widget-view+json": {
       "model_id": "4030a8ac4443435f88a70f18cf89e756",
       "version_major": 2,
       "version_minor": 0
      },
      "text/plain": [
       "0it [00:00, ?it/s]"
      ]
     },
     "metadata": {},
     "output_type": "display_data"
    },
    {
     "data": {
      "application/vnd.jupyter.widget-view+json": {
       "model_id": "1d3ddd2bb60049dba3a3e3e9ca5eb2b8",
       "version_major": 2,
       "version_minor": 0
      },
      "text/plain": [
       "0it [00:00, ?it/s]"
      ]
     },
     "metadata": {},
     "output_type": "display_data"
    },
    {
     "data": {
      "application/vnd.jupyter.widget-view+json": {
       "model_id": "d093586f85bf478b9f67cb11a5e75aa7",
       "version_major": 2,
       "version_minor": 0
      },
      "text/plain": [
       "0it [00:00, ?it/s]"
      ]
     },
     "metadata": {},
     "output_type": "display_data"
    },
    {
     "data": {
      "application/vnd.jupyter.widget-view+json": {
       "model_id": "50ce719cd5cf4e4f90e1e2c805730efa",
       "version_major": 2,
       "version_minor": 0
      },
      "text/plain": [
       "0it [00:00, ?it/s]"
      ]
     },
     "metadata": {},
     "output_type": "display_data"
    },
    {
     "data": {
      "application/vnd.jupyter.widget-view+json": {
       "model_id": "2aebac2314b24c3c9eb77c9c6d1d9714",
       "version_major": 2,
       "version_minor": 0
      },
      "text/plain": [
       "0it [00:00, ?it/s]"
      ]
     },
     "metadata": {},
     "output_type": "display_data"
    },
    {
     "data": {
      "application/vnd.jupyter.widget-view+json": {
       "model_id": "48894404eda54d5aa756a867603230a6",
       "version_major": 2,
       "version_minor": 0
      },
      "text/plain": [
       "0it [00:00, ?it/s]"
      ]
     },
     "metadata": {},
     "output_type": "display_data"
    },
    {
     "data": {
      "application/vnd.jupyter.widget-view+json": {
       "model_id": "f3f2a05e8b634f248c48c1cc3dcd7abe",
       "version_major": 2,
       "version_minor": 0
      },
      "text/plain": [
       "0it [00:00, ?it/s]"
      ]
     },
     "metadata": {},
     "output_type": "display_data"
    },
    {
     "data": {
      "application/vnd.jupyter.widget-view+json": {
       "model_id": "6ae7b66ec8ca4fbf8cd1eeabfd2b074b",
       "version_major": 2,
       "version_minor": 0
      },
      "text/plain": [
       "0it [00:00, ?it/s]"
      ]
     },
     "metadata": {},
     "output_type": "display_data"
    }
   ],
   "source": [
    "final = artist_tracks(first_50)"
   ]
  },
  {
   "cell_type": "code",
   "execution_count": 35,
   "metadata": {},
   "outputs": [],
   "source": [
    "def df_tracks(final):\n",
    "    \n",
    "    '''\n",
    "    Takes the output of artist_tracks (i.e. a list of lists),\n",
    "    puts it in a dataframe and formats it.\n",
    "    '''\n",
    "\n",
    "    df = pd.DataFrame(final, columns=['artist',\n",
    "     'album_name',\n",
    "     'album_uri',\n",
    "     'track',\n",
    "     'release_date'] + list(sp.audio_features('7tr2za8SQg2CI8EDgrdtNl')[0].keys()))\n",
    "\n",
    "    df.rename(columns={'uri':'song_uri'}, inplace=True)\n",
    "\n",
    "    df.drop_duplicates(subset=['artist', 'track', 'release_date'], inplace=True)\n",
    "\n",
    "    # Reorder the cols to have identifiers first, auditory features last\n",
    "    cols = ['artist', 'album_name', 'album_uri', 'track', 'release_date', 'id', 'song_uri', 'track_href',\n",
    "     'analysis_url', 'type', 'danceability', 'energy', 'key',  'loudness', 'mode', 'speechiness',\n",
    "     'acousticness', 'instrumentalness', 'liveness', 'valence', 'tempo', 'duration_ms', 'time_signature']\n",
    "\n",
    "    df = df[cols]\n",
    "    \n",
    "    return df"
   ]
  },
  {
   "cell_type": "code",
   "execution_count": 36,
   "metadata": {
    "scrolled": true
   },
   "outputs": [],
   "source": [
    "new = df_tracks(final)"
   ]
  },
  {
   "cell_type": "code",
   "execution_count": 37,
   "metadata": {
    "scrolled": true
   },
   "outputs": [
    {
     "data": {
      "text/html": [
       "<div>\n",
       "<style scoped>\n",
       "    .dataframe tbody tr th:only-of-type {\n",
       "        vertical-align: middle;\n",
       "    }\n",
       "\n",
       "    .dataframe tbody tr th {\n",
       "        vertical-align: top;\n",
       "    }\n",
       "\n",
       "    .dataframe thead th {\n",
       "        text-align: right;\n",
       "    }\n",
       "</style>\n",
       "<table border=\"1\" class=\"dataframe\">\n",
       "  <thead>\n",
       "    <tr style=\"text-align: right;\">\n",
       "      <th></th>\n",
       "      <th>artist</th>\n",
       "      <th>album_name</th>\n",
       "      <th>album_uri</th>\n",
       "      <th>track</th>\n",
       "      <th>release_date</th>\n",
       "      <th>id</th>\n",
       "      <th>song_uri</th>\n",
       "      <th>track_href</th>\n",
       "      <th>analysis_url</th>\n",
       "      <th>type</th>\n",
       "      <th>...</th>\n",
       "      <th>loudness</th>\n",
       "      <th>mode</th>\n",
       "      <th>speechiness</th>\n",
       "      <th>acousticness</th>\n",
       "      <th>instrumentalness</th>\n",
       "      <th>liveness</th>\n",
       "      <th>valence</th>\n",
       "      <th>tempo</th>\n",
       "      <th>duration_ms</th>\n",
       "      <th>time_signature</th>\n",
       "    </tr>\n",
       "  </thead>\n",
       "  <tbody>\n",
       "    <tr>\n",
       "      <th>0</th>\n",
       "      <td>Dan + Shay &amp; Justin Bieber</td>\n",
       "      <td>Good Things</td>\n",
       "      <td>spotify:album:7L8IHgiomfEpxOm61vgPTm</td>\n",
       "      <td>Good Things</td>\n",
       "      <td>2021-08-13</td>\n",
       "      <td>6kTk6AOcnPguvs1nQ4vUWZ</td>\n",
       "      <td>spotify:track:6kTk6AOcnPguvs1nQ4vUWZ</td>\n",
       "      <td>https://api.spotify.com/v1/tracks/6kTk6AOcnPgu...</td>\n",
       "      <td>https://api.spotify.com/v1/audio-analysis/6kTk...</td>\n",
       "      <td>audio_features</td>\n",
       "      <td>...</td>\n",
       "      <td>-6.018</td>\n",
       "      <td>1</td>\n",
       "      <td>0.0296</td>\n",
       "      <td>0.1300</td>\n",
       "      <td>0.000000</td>\n",
       "      <td>0.1730</td>\n",
       "      <td>0.617</td>\n",
       "      <td>97.189</td>\n",
       "      <td>148907</td>\n",
       "      <td>4</td>\n",
       "    </tr>\n",
       "    <tr>\n",
       "      <th>1</th>\n",
       "      <td>Dan + Shay &amp; Justin Bieber</td>\n",
       "      <td>Good Things</td>\n",
       "      <td>spotify:album:7L8IHgiomfEpxOm61vgPTm</td>\n",
       "      <td>Steal My Love</td>\n",
       "      <td>2021-08-13</td>\n",
       "      <td>0vzSAyinyA619ZbrOaAi04</td>\n",
       "      <td>spotify:track:0vzSAyinyA619ZbrOaAi04</td>\n",
       "      <td>https://api.spotify.com/v1/tracks/0vzSAyinyA61...</td>\n",
       "      <td>https://api.spotify.com/v1/audio-analysis/0vzS...</td>\n",
       "      <td>audio_features</td>\n",
       "      <td>...</td>\n",
       "      <td>-5.452</td>\n",
       "      <td>1</td>\n",
       "      <td>0.0328</td>\n",
       "      <td>0.6190</td>\n",
       "      <td>0.000000</td>\n",
       "      <td>0.1570</td>\n",
       "      <td>0.751</td>\n",
       "      <td>179.856</td>\n",
       "      <td>162120</td>\n",
       "      <td>4</td>\n",
       "    </tr>\n",
       "    <tr>\n",
       "      <th>2</th>\n",
       "      <td>Dan + Shay &amp; Justin Bieber</td>\n",
       "      <td>Good Things</td>\n",
       "      <td>spotify:album:7L8IHgiomfEpxOm61vgPTm</td>\n",
       "      <td>You</td>\n",
       "      <td>2021-08-13</td>\n",
       "      <td>2xPV95cfbyusygMTxpa3SW</td>\n",
       "      <td>spotify:track:2xPV95cfbyusygMTxpa3SW</td>\n",
       "      <td>https://api.spotify.com/v1/tracks/2xPV95cfbyus...</td>\n",
       "      <td>https://api.spotify.com/v1/audio-analysis/2xPV...</td>\n",
       "      <td>audio_features</td>\n",
       "      <td>...</td>\n",
       "      <td>-6.205</td>\n",
       "      <td>1</td>\n",
       "      <td>0.0319</td>\n",
       "      <td>0.1180</td>\n",
       "      <td>0.000000</td>\n",
       "      <td>0.2340</td>\n",
       "      <td>0.520</td>\n",
       "      <td>169.885</td>\n",
       "      <td>196253</td>\n",
       "      <td>4</td>\n",
       "    </tr>\n",
       "    <tr>\n",
       "      <th>3</th>\n",
       "      <td>Dan + Shay &amp; Justin Bieber</td>\n",
       "      <td>Good Things</td>\n",
       "      <td>spotify:album:7L8IHgiomfEpxOm61vgPTm</td>\n",
       "      <td>Body Language</td>\n",
       "      <td>2021-08-13</td>\n",
       "      <td>5yI2ZveWLUD1U5Gb2ABpwO</td>\n",
       "      <td>spotify:track:5yI2ZveWLUD1U5Gb2ABpwO</td>\n",
       "      <td>https://api.spotify.com/v1/tracks/5yI2ZveWLUD1...</td>\n",
       "      <td>https://api.spotify.com/v1/audio-analysis/5yI2...</td>\n",
       "      <td>audio_features</td>\n",
       "      <td>...</td>\n",
       "      <td>-7.154</td>\n",
       "      <td>1</td>\n",
       "      <td>0.0308</td>\n",
       "      <td>0.2730</td>\n",
       "      <td>0.000000</td>\n",
       "      <td>0.1070</td>\n",
       "      <td>0.712</td>\n",
       "      <td>106.953</td>\n",
       "      <td>144573</td>\n",
       "      <td>4</td>\n",
       "    </tr>\n",
       "    <tr>\n",
       "      <th>4</th>\n",
       "      <td>Dan + Shay &amp; Justin Bieber</td>\n",
       "      <td>Good Things</td>\n",
       "      <td>spotify:album:7L8IHgiomfEpxOm61vgPTm</td>\n",
       "      <td>Give In To You</td>\n",
       "      <td>2021-08-13</td>\n",
       "      <td>3JXB1YiJIwGkTeGdgYVFWR</td>\n",
       "      <td>spotify:track:3JXB1YiJIwGkTeGdgYVFWR</td>\n",
       "      <td>https://api.spotify.com/v1/tracks/3JXB1YiJIwGk...</td>\n",
       "      <td>https://api.spotify.com/v1/audio-analysis/3JXB...</td>\n",
       "      <td>audio_features</td>\n",
       "      <td>...</td>\n",
       "      <td>-8.175</td>\n",
       "      <td>1</td>\n",
       "      <td>0.0399</td>\n",
       "      <td>0.6360</td>\n",
       "      <td>0.000000</td>\n",
       "      <td>0.3670</td>\n",
       "      <td>0.278</td>\n",
       "      <td>123.996</td>\n",
       "      <td>143267</td>\n",
       "      <td>4</td>\n",
       "    </tr>\n",
       "    <tr>\n",
       "      <th>...</th>\n",
       "      <td>...</td>\n",
       "      <td>...</td>\n",
       "      <td>...</td>\n",
       "      <td>...</td>\n",
       "      <td>...</td>\n",
       "      <td>...</td>\n",
       "      <td>...</td>\n",
       "      <td>...</td>\n",
       "      <td>...</td>\n",
       "      <td>...</td>\n",
       "      <td>...</td>\n",
       "      <td>...</td>\n",
       "      <td>...</td>\n",
       "      <td>...</td>\n",
       "      <td>...</td>\n",
       "      <td>...</td>\n",
       "      <td>...</td>\n",
       "      <td>...</td>\n",
       "      <td>...</td>\n",
       "      <td>...</td>\n",
       "      <td>...</td>\n",
       "    </tr>\n",
       "    <tr>\n",
       "      <th>6033</th>\n",
       "      <td>Mariah Carey</td>\n",
       "      <td>Mariah Carey</td>\n",
       "      <td>spotify:album:5SwNGsGw1I8H361DKiYnnn</td>\n",
       "      <td>Alone In Love</td>\n",
       "      <td>1990-06-12</td>\n",
       "      <td>2GooP1VwhUaOiBl3jZw3Yr</td>\n",
       "      <td>spotify:track:2GooP1VwhUaOiBl3jZw3Yr</td>\n",
       "      <td>https://api.spotify.com/v1/tracks/2GooP1VwhUaO...</td>\n",
       "      <td>https://api.spotify.com/v1/audio-analysis/2Goo...</td>\n",
       "      <td>audio_features</td>\n",
       "      <td>...</td>\n",
       "      <td>-11.991</td>\n",
       "      <td>0</td>\n",
       "      <td>0.0296</td>\n",
       "      <td>0.3230</td>\n",
       "      <td>0.000000</td>\n",
       "      <td>0.0607</td>\n",
       "      <td>0.573</td>\n",
       "      <td>137.851</td>\n",
       "      <td>251773</td>\n",
       "      <td>4</td>\n",
       "    </tr>\n",
       "    <tr>\n",
       "      <th>6034</th>\n",
       "      <td>Mariah Carey</td>\n",
       "      <td>Mariah Carey</td>\n",
       "      <td>spotify:album:5SwNGsGw1I8H361DKiYnnn</td>\n",
       "      <td>You Need Me</td>\n",
       "      <td>1990-06-12</td>\n",
       "      <td>4OEKDOXGcMuiUs9zei5HLm</td>\n",
       "      <td>spotify:track:4OEKDOXGcMuiUs9zei5HLm</td>\n",
       "      <td>https://api.spotify.com/v1/tracks/4OEKDOXGcMui...</td>\n",
       "      <td>https://api.spotify.com/v1/audio-analysis/4OEK...</td>\n",
       "      <td>audio_features</td>\n",
       "      <td>...</td>\n",
       "      <td>-10.033</td>\n",
       "      <td>0</td>\n",
       "      <td>0.0553</td>\n",
       "      <td>0.2480</td>\n",
       "      <td>0.002080</td>\n",
       "      <td>0.3510</td>\n",
       "      <td>0.763</td>\n",
       "      <td>117.424</td>\n",
       "      <td>231707</td>\n",
       "      <td>4</td>\n",
       "    </tr>\n",
       "    <tr>\n",
       "      <th>6035</th>\n",
       "      <td>Mariah Carey</td>\n",
       "      <td>Mariah Carey</td>\n",
       "      <td>spotify:album:5SwNGsGw1I8H361DKiYnnn</td>\n",
       "      <td>Sent from Up Above</td>\n",
       "      <td>1990-06-12</td>\n",
       "      <td>4goMGhYd3PQgFuhmcmeEUF</td>\n",
       "      <td>spotify:track:4goMGhYd3PQgFuhmcmeEUF</td>\n",
       "      <td>https://api.spotify.com/v1/tracks/4goMGhYd3PQg...</td>\n",
       "      <td>https://api.spotify.com/v1/audio-analysis/4goM...</td>\n",
       "      <td>audio_features</td>\n",
       "      <td>...</td>\n",
       "      <td>-10.579</td>\n",
       "      <td>0</td>\n",
       "      <td>0.0317</td>\n",
       "      <td>0.0330</td>\n",
       "      <td>0.000005</td>\n",
       "      <td>0.0502</td>\n",
       "      <td>0.759</td>\n",
       "      <td>104.177</td>\n",
       "      <td>244773</td>\n",
       "      <td>4</td>\n",
       "    </tr>\n",
       "    <tr>\n",
       "      <th>6036</th>\n",
       "      <td>Mariah Carey</td>\n",
       "      <td>Mariah Carey</td>\n",
       "      <td>spotify:album:5SwNGsGw1I8H361DKiYnnn</td>\n",
       "      <td>Prisoner</td>\n",
       "      <td>1990-06-12</td>\n",
       "      <td>3bFxumQRhWqt1BiXLeVrKa</td>\n",
       "      <td>spotify:track:3bFxumQRhWqt1BiXLeVrKa</td>\n",
       "      <td>https://api.spotify.com/v1/tracks/3bFxumQRhWqt...</td>\n",
       "      <td>https://api.spotify.com/v1/audio-analysis/3bFx...</td>\n",
       "      <td>audio_features</td>\n",
       "      <td>...</td>\n",
       "      <td>-9.252</td>\n",
       "      <td>0</td>\n",
       "      <td>0.0539</td>\n",
       "      <td>0.0603</td>\n",
       "      <td>0.000003</td>\n",
       "      <td>0.2280</td>\n",
       "      <td>0.792</td>\n",
       "      <td>114.672</td>\n",
       "      <td>262640</td>\n",
       "      <td>4</td>\n",
       "    </tr>\n",
       "    <tr>\n",
       "      <th>6037</th>\n",
       "      <td>Mariah Carey</td>\n",
       "      <td>Mariah Carey</td>\n",
       "      <td>spotify:album:5SwNGsGw1I8H361DKiYnnn</td>\n",
       "      <td>Love Takes Time</td>\n",
       "      <td>1990-06-12</td>\n",
       "      <td>48l7PNpT2fBoT4cdLW6EzP</td>\n",
       "      <td>spotify:track:48l7PNpT2fBoT4cdLW6EzP</td>\n",
       "      <td>https://api.spotify.com/v1/tracks/48l7PNpT2fBo...</td>\n",
       "      <td>https://api.spotify.com/v1/audio-analysis/48l7...</td>\n",
       "      <td>audio_features</td>\n",
       "      <td>...</td>\n",
       "      <td>-12.371</td>\n",
       "      <td>0</td>\n",
       "      <td>0.0322</td>\n",
       "      <td>0.7270</td>\n",
       "      <td>0.000000</td>\n",
       "      <td>0.0849</td>\n",
       "      <td>0.233</td>\n",
       "      <td>126.230</td>\n",
       "      <td>229227</td>\n",
       "      <td>4</td>\n",
       "    </tr>\n",
       "  </tbody>\n",
       "</table>\n",
       "<p>5652 rows × 23 columns</p>\n",
       "</div>"
      ],
      "text/plain": [
       "                          artist    album_name  \\\n",
       "0     Dan + Shay & Justin Bieber   Good Things   \n",
       "1     Dan + Shay & Justin Bieber   Good Things   \n",
       "2     Dan + Shay & Justin Bieber   Good Things   \n",
       "3     Dan + Shay & Justin Bieber   Good Things   \n",
       "4     Dan + Shay & Justin Bieber   Good Things   \n",
       "...                          ...           ...   \n",
       "6033                Mariah Carey  Mariah Carey   \n",
       "6034                Mariah Carey  Mariah Carey   \n",
       "6035                Mariah Carey  Mariah Carey   \n",
       "6036                Mariah Carey  Mariah Carey   \n",
       "6037                Mariah Carey  Mariah Carey   \n",
       "\n",
       "                                 album_uri               track release_date  \\\n",
       "0     spotify:album:7L8IHgiomfEpxOm61vgPTm         Good Things   2021-08-13   \n",
       "1     spotify:album:7L8IHgiomfEpxOm61vgPTm       Steal My Love   2021-08-13   \n",
       "2     spotify:album:7L8IHgiomfEpxOm61vgPTm                 You   2021-08-13   \n",
       "3     spotify:album:7L8IHgiomfEpxOm61vgPTm       Body Language   2021-08-13   \n",
       "4     spotify:album:7L8IHgiomfEpxOm61vgPTm      Give In To You   2021-08-13   \n",
       "...                                    ...                 ...          ...   \n",
       "6033  spotify:album:5SwNGsGw1I8H361DKiYnnn       Alone In Love   1990-06-12   \n",
       "6034  spotify:album:5SwNGsGw1I8H361DKiYnnn         You Need Me   1990-06-12   \n",
       "6035  spotify:album:5SwNGsGw1I8H361DKiYnnn  Sent from Up Above   1990-06-12   \n",
       "6036  spotify:album:5SwNGsGw1I8H361DKiYnnn            Prisoner   1990-06-12   \n",
       "6037  spotify:album:5SwNGsGw1I8H361DKiYnnn     Love Takes Time   1990-06-12   \n",
       "\n",
       "                          id                              song_uri  \\\n",
       "0     6kTk6AOcnPguvs1nQ4vUWZ  spotify:track:6kTk6AOcnPguvs1nQ4vUWZ   \n",
       "1     0vzSAyinyA619ZbrOaAi04  spotify:track:0vzSAyinyA619ZbrOaAi04   \n",
       "2     2xPV95cfbyusygMTxpa3SW  spotify:track:2xPV95cfbyusygMTxpa3SW   \n",
       "3     5yI2ZveWLUD1U5Gb2ABpwO  spotify:track:5yI2ZveWLUD1U5Gb2ABpwO   \n",
       "4     3JXB1YiJIwGkTeGdgYVFWR  spotify:track:3JXB1YiJIwGkTeGdgYVFWR   \n",
       "...                      ...                                   ...   \n",
       "6033  2GooP1VwhUaOiBl3jZw3Yr  spotify:track:2GooP1VwhUaOiBl3jZw3Yr   \n",
       "6034  4OEKDOXGcMuiUs9zei5HLm  spotify:track:4OEKDOXGcMuiUs9zei5HLm   \n",
       "6035  4goMGhYd3PQgFuhmcmeEUF  spotify:track:4goMGhYd3PQgFuhmcmeEUF   \n",
       "6036  3bFxumQRhWqt1BiXLeVrKa  spotify:track:3bFxumQRhWqt1BiXLeVrKa   \n",
       "6037  48l7PNpT2fBoT4cdLW6EzP  spotify:track:48l7PNpT2fBoT4cdLW6EzP   \n",
       "\n",
       "                                             track_href  \\\n",
       "0     https://api.spotify.com/v1/tracks/6kTk6AOcnPgu...   \n",
       "1     https://api.spotify.com/v1/tracks/0vzSAyinyA61...   \n",
       "2     https://api.spotify.com/v1/tracks/2xPV95cfbyus...   \n",
       "3     https://api.spotify.com/v1/tracks/5yI2ZveWLUD1...   \n",
       "4     https://api.spotify.com/v1/tracks/3JXB1YiJIwGk...   \n",
       "...                                                 ...   \n",
       "6033  https://api.spotify.com/v1/tracks/2GooP1VwhUaO...   \n",
       "6034  https://api.spotify.com/v1/tracks/4OEKDOXGcMui...   \n",
       "6035  https://api.spotify.com/v1/tracks/4goMGhYd3PQg...   \n",
       "6036  https://api.spotify.com/v1/tracks/3bFxumQRhWqt...   \n",
       "6037  https://api.spotify.com/v1/tracks/48l7PNpT2fBo...   \n",
       "\n",
       "                                           analysis_url            type  ...  \\\n",
       "0     https://api.spotify.com/v1/audio-analysis/6kTk...  audio_features  ...   \n",
       "1     https://api.spotify.com/v1/audio-analysis/0vzS...  audio_features  ...   \n",
       "2     https://api.spotify.com/v1/audio-analysis/2xPV...  audio_features  ...   \n",
       "3     https://api.spotify.com/v1/audio-analysis/5yI2...  audio_features  ...   \n",
       "4     https://api.spotify.com/v1/audio-analysis/3JXB...  audio_features  ...   \n",
       "...                                                 ...             ...  ...   \n",
       "6033  https://api.spotify.com/v1/audio-analysis/2Goo...  audio_features  ...   \n",
       "6034  https://api.spotify.com/v1/audio-analysis/4OEK...  audio_features  ...   \n",
       "6035  https://api.spotify.com/v1/audio-analysis/4goM...  audio_features  ...   \n",
       "6036  https://api.spotify.com/v1/audio-analysis/3bFx...  audio_features  ...   \n",
       "6037  https://api.spotify.com/v1/audio-analysis/48l7...  audio_features  ...   \n",
       "\n",
       "      loudness  mode  speechiness  acousticness  instrumentalness  liveness  \\\n",
       "0       -6.018     1       0.0296        0.1300          0.000000    0.1730   \n",
       "1       -5.452     1       0.0328        0.6190          0.000000    0.1570   \n",
       "2       -6.205     1       0.0319        0.1180          0.000000    0.2340   \n",
       "3       -7.154     1       0.0308        0.2730          0.000000    0.1070   \n",
       "4       -8.175     1       0.0399        0.6360          0.000000    0.3670   \n",
       "...        ...   ...          ...           ...               ...       ...   \n",
       "6033   -11.991     0       0.0296        0.3230          0.000000    0.0607   \n",
       "6034   -10.033     0       0.0553        0.2480          0.002080    0.3510   \n",
       "6035   -10.579     0       0.0317        0.0330          0.000005    0.0502   \n",
       "6036    -9.252     0       0.0539        0.0603          0.000003    0.2280   \n",
       "6037   -12.371     0       0.0322        0.7270          0.000000    0.0849   \n",
       "\n",
       "      valence    tempo  duration_ms  time_signature  \n",
       "0       0.617   97.189       148907               4  \n",
       "1       0.751  179.856       162120               4  \n",
       "2       0.520  169.885       196253               4  \n",
       "3       0.712  106.953       144573               4  \n",
       "4       0.278  123.996       143267               4  \n",
       "...       ...      ...          ...             ...  \n",
       "6033    0.573  137.851       251773               4  \n",
       "6034    0.763  117.424       231707               4  \n",
       "6035    0.759  104.177       244773               4  \n",
       "6036    0.792  114.672       262640               4  \n",
       "6037    0.233  126.230       229227               4  \n",
       "\n",
       "[5652 rows x 23 columns]"
      ]
     },
     "execution_count": 37,
     "metadata": {},
     "output_type": "execute_result"
    }
   ],
   "source": [
    "new"
   ]
  },
  {
   "cell_type": "code",
   "execution_count": 38,
   "metadata": {},
   "outputs": [],
   "source": [
    "new.to_csv('check_output_20_twenty.csv')"
   ]
  },
  {
   "cell_type": "markdown",
   "metadata": {
    "id": "0fpGWmsCOSx0"
   },
   "source": [
    "## Starting with Spotify API"
   ]
  },
  {
   "cell_type": "code",
   "execution_count": null,
   "metadata": {
    "colab": {
     "base_uri": "https://localhost:8080/"
    },
    "executionInfo": {
     "elapsed": 313,
     "status": "ok",
     "timestamp": 1623747121467,
     "user": {
      "displayName": "Ignacio Soteras",
      "photoUrl": "",
      "userId": "02050793736257155229"
     },
     "user_tz": -120
    },
    "id": "-0qiqFTZqqE2",
    "outputId": "c532baae-8ff5-4abc-b70e-0bda934d25b1"
   },
   "outputs": [],
   "source": [
    "# The \"sp\" variable has two useful funtions:\n",
    "# The first usefull function is:\n",
    "# .search(q='',limit=n)\n",
    "# .search(q=\"track:\"+song_name+\" artist:\"+artist_name,limit=5) to restrict to a song name and artist.\n",
    "# Where the \"q\" keyword is the query you want to perform on spotify: song_name, artist,...\n",
    "# while The \"limit\" keyword will limit the number of returned results.\n",
    "#\n",
    "# The second usefull function is:\n",
    "# .audio_features([URL|URI|ID])\n",
    "# which returns some 'features of the song', that after cleanup, we can use in order to characterize a song.\n",
    "\n",
    "results = sp.search(q='Billie Eilish', limit=5,market=\"GB\")\n",
    "results\n",
    "#json_results = json.dumps(results, ensure_ascii=True)\n",
    "#json_results\n",
    "#results['tracks']['items'][0]['album']"
   ]
  },
  {
   "cell_type": "markdown",
   "metadata": {
    "id": "DLMGLXLm2e-1"
   },
   "source": [
    "{'spotify': 'https://open.spotify.com/track/4O2N861eOnF9q8EtpH8IJu'}"
   ]
  },
  {
   "cell_type": "code",
   "execution_count": null,
   "metadata": {
    "colab": {
     "base_uri": "https://localhost:8080/"
    },
    "executionInfo": {
     "elapsed": 478,
     "status": "ok",
     "timestamp": 1623747132458,
     "user": {
      "displayName": "Ignacio Soteras",
      "photoUrl": "",
      "userId": "02050793736257155229"
     },
     "user_tz": -120
    },
    "id": "5Igl2UskaI0q",
    "outputId": "e74bc2b5-f8c6-4edb-831b-aa6e1ba808cf"
   },
   "outputs": [],
   "source": [
    "type(results)"
   ]
  },
  {
   "cell_type": "code",
   "execution_count": null,
   "metadata": {
    "colab": {
     "base_uri": "https://localhost:8080/"
    },
    "executionInfo": {
     "elapsed": 301,
     "status": "ok",
     "timestamp": 1623747137302,
     "user": {
      "displayName": "Ignacio Soteras",
      "photoUrl": "",
      "userId": "02050793736257155229"
     },
     "user_tz": -120
    },
    "id": "MGMBXO7RX4zX",
    "outputId": "7c51a5d5-6765-4198-ba53-55df9cb000fd"
   },
   "outputs": [],
   "source": [
    "results.keys()"
   ]
  },
  {
   "cell_type": "code",
   "execution_count": null,
   "metadata": {
    "colab": {
     "base_uri": "https://localhost:8080/"
    },
    "executionInfo": {
     "elapsed": 286,
     "status": "ok",
     "timestamp": 1623747145364,
     "user": {
      "displayName": "Ignacio Soteras",
      "photoUrl": "",
      "userId": "02050793736257155229"
     },
     "user_tz": -120
    },
    "id": "WcH0WXJ3X97h",
    "outputId": "9c300954-c083-4ee4-a0d0-8004825809d6"
   },
   "outputs": [],
   "source": [
    "results['tracks'].keys()"
   ]
  },
  {
   "cell_type": "code",
   "execution_count": null,
   "metadata": {
    "colab": {
     "base_uri": "https://localhost:8080/"
    },
    "executionInfo": {
     "elapsed": 371,
     "status": "ok",
     "timestamp": 1623747326810,
     "user": {
      "displayName": "Ignacio Soteras",
      "photoUrl": "",
      "userId": "02050793736257155229"
     },
     "user_tz": -120
    },
    "id": "7zpZOuf74E3B",
    "outputId": "c6ea41eb-d414-41a7-d7aa-eb33dfd29823"
   },
   "outputs": [],
   "source": [
    "import pprint\n",
    "\n",
    "pprint.pprint(results)"
   ]
  },
  {
   "cell_type": "code",
   "execution_count": null,
   "metadata": {
    "colab": {
     "base_uri": "https://localhost:8080/"
    },
    "executionInfo": {
     "elapsed": 350,
     "status": "ok",
     "timestamp": 1623747150633,
     "user": {
      "displayName": "Ignacio Soteras",
      "photoUrl": "",
      "userId": "02050793736257155229"
     },
     "user_tz": -120
    },
    "id": "K975xBBkrehs",
    "outputId": "03ba1f52-1811-4154-da75-7034362d7e44"
   },
   "outputs": [],
   "source": [
    "results['tracks']['items']"
   ]
  },
  {
   "cell_type": "code",
   "execution_count": null,
   "metadata": {
    "colab": {
     "base_uri": "https://localhost:8080/"
    },
    "executionInfo": {
     "elapsed": 315,
     "status": "ok",
     "timestamp": 1623747388022,
     "user": {
      "displayName": "Ignacio Soteras",
      "photoUrl": "",
      "userId": "02050793736257155229"
     },
     "user_tz": -120
    },
    "id": "PdDNGKc8YOkk",
    "outputId": "d34c59f1-413a-49c5-9d35-2f9588c73068"
   },
   "outputs": [],
   "source": [
    "len(results['tracks']['items'])"
   ]
  },
  {
   "cell_type": "code",
   "execution_count": null,
   "metadata": {
    "colab": {
     "base_uri": "https://localhost:8080/"
    },
    "executionInfo": {
     "elapsed": 4,
     "status": "ok",
     "timestamp": 1623747389275,
     "user": {
      "displayName": "Ignacio Soteras",
      "photoUrl": "",
      "userId": "02050793736257155229"
     },
     "user_tz": -120
    },
    "id": "x1Ds47VVYYLQ",
    "outputId": "014aeb0c-8ef5-43f5-99ad-4935c6844ae4"
   },
   "outputs": [],
   "source": [
    "results['tracks']['items'][0]"
   ]
  },
  {
   "cell_type": "code",
   "execution_count": null,
   "metadata": {
    "colab": {
     "base_uri": "https://localhost:8080/"
    },
    "executionInfo": {
     "elapsed": 311,
     "status": "ok",
     "timestamp": 1623747419610,
     "user": {
      "displayName": "Ignacio Soteras",
      "photoUrl": "",
      "userId": "02050793736257155229"
     },
     "user_tz": -120
    },
    "id": "1WsGXXCvYgo9",
    "outputId": "424f7111-f212-43ca-dd36-6a054bbc0a49"
   },
   "outputs": [],
   "source": [
    "results['tracks']['items'][0].keys()"
   ]
  },
  {
   "cell_type": "code",
   "execution_count": null,
   "metadata": {
    "colab": {
     "base_uri": "https://localhost:8080/",
     "height": 35
    },
    "executionInfo": {
     "elapsed": 8,
     "status": "ok",
     "timestamp": 1623747420976,
     "user": {
      "displayName": "Ignacio Soteras",
      "photoUrl": "",
      "userId": "02050793736257155229"
     },
     "user_tz": -120
    },
    "id": "-s66JnDcYrQ4",
    "outputId": "0745b73d-f912-4618-e28f-b22f70c40e4d"
   },
   "outputs": [],
   "source": [
    "results['tracks']['items'][0]['id']"
   ]
  },
  {
   "cell_type": "code",
   "execution_count": null,
   "metadata": {
    "colab": {
     "base_uri": "https://localhost:8080/"
    },
    "executionInfo": {
     "elapsed": 330,
     "status": "ok",
     "timestamp": 1623747443303,
     "user": {
      "displayName": "Ignacio Soteras",
      "photoUrl": "",
      "userId": "02050793736257155229"
     },
     "user_tz": -120
    },
    "id": "Pe8hlEUPYu3a",
    "outputId": "57786b5a-1877-44a6-9249-72cec7204733"
   },
   "outputs": [],
   "source": [
    "for item in results['tracks']['items']:\n",
    "    print(\"The name of song is: '{}' and the id is: {}\".format(item['name'],item['external_urls']['spotify']))"
   ]
  },
  {
   "cell_type": "code",
   "execution_count": null,
   "metadata": {
    "colab": {
     "base_uri": "https://localhost:8080/",
     "height": 165
    },
    "executionInfo": {
     "elapsed": 303,
     "status": "error",
     "timestamp": 1623747514493,
     "user": {
      "displayName": "Ignacio Soteras",
      "photoUrl": "",
      "userId": "02050793736257155229"
     },
     "user_tz": -120
    },
    "id": "2c3RLq1NcG3s",
    "outputId": "bdc75a78-8869-455c-bd5b-176bcee2d178"
   },
   "outputs": [],
   "source": [
    "results[\"tracks\"][\"items\"][0]['name']"
   ]
  },
  {
   "cell_type": "code",
   "execution_count": null,
   "metadata": {
    "colab": {
     "base_uri": "https://localhost:8080/",
     "height": 153
    },
    "executionInfo": {
     "elapsed": 343,
     "status": "ok",
     "timestamp": 1623748010778,
     "user": {
      "displayName": "Ignacio Soteras",
      "photoUrl": "",
      "userId": "02050793736257155229"
     },
     "user_tz": -120
    },
    "id": "ae3ey51ldj22",
    "outputId": "e12d9994-b937-4c19-f40c-2c594ed79c48"
   },
   "outputs": [],
   "source": [
    "import pandas as pd\n",
    "\n",
    "song = sp.search(q=\"Bad Guy\", limit=1) \n",
    "\n",
    "#pprint.pprint(song['tracks']['items'][0]['uri'])\n",
    "song[\"tracks\"][\"items\"][0][\"uri\"]\n",
    "sp.audio_features(song[\"tracks\"][\"items\"][0][\"uri\"])[0]"
   ]
  },
  {
   "cell_type": "code",
   "execution_count": null,
   "metadata": {},
   "outputs": [],
   "source": [
    "my_dict = sp.audio_features(song[\"tracks\"][\"items\"][0][\"uri\"])[0] # you can provide a list of uri's\n",
    "\n",
    "print(my_dict)\n",
    "my_dict_new = { key: [my_dict[key]] for key in list(my_dict.keys()) }\n",
    "\n",
    "#my_dict_new['name'] = [song[\"tracks\"][\"items\"][0]['name']]\n",
    "print(my_dict_new)\n",
    "\n",
    "pd.DataFrame(my_dict_new)"
   ]
  },
  {
   "cell_type": "markdown",
   "metadata": {
    "id": "vsDb4g8vgo3b"
   },
   "source": [
    "Let's search for songs of several artists"
   ]
  },
  {
   "cell_type": "code",
   "execution_count": null,
   "metadata": {
    "colab": {
     "base_uri": "https://localhost:8080/"
    },
    "executionInfo": {
     "elapsed": 809,
     "status": "ok",
     "timestamp": 1623748186659,
     "user": {
      "displayName": "Ignacio Soteras",
      "photoUrl": "",
      "userId": "02050793736257155229"
     },
     "user_tz": -120
    },
    "id": "HyQ4aPoksXK1",
    "outputId": "419f790e-b054-4427-86b7-d1ab5c2c73b1"
   },
   "outputs": [],
   "source": [
    "my_artists = ['Placebo','Marylin Manson','Janis Joplin']\n",
    "\n",
    "my_dict = {}\n",
    "#for artist in my_artists:\n",
    "#    #result = sp.search(q=artist, limit= 50)\n",
    "#    my_dict[artist] = sp.search(q=artist, limit= 50)\n",
    "\n",
    "my_dict = {artist: sp.search(q=artist, limit= 50,market=\"GB\") for artist in my_artists}\n",
    "#my_dict\n",
    "my_dict.keys()"
   ]
  },
  {
   "cell_type": "code",
   "execution_count": null,
   "metadata": {},
   "outputs": [],
   "source": [
    "my_dict"
   ]
  },
  {
   "cell_type": "code",
   "execution_count": null,
   "metadata": {
    "colab": {
     "base_uri": "https://localhost:8080/"
    },
    "executionInfo": {
     "elapsed": 284,
     "status": "ok",
     "timestamp": 1623748196011,
     "user": {
      "displayName": "Ignacio Soteras",
      "photoUrl": "",
      "userId": "02050793736257155229"
     },
     "user_tz": -120
    },
    "id": "7SNiCcrpdSQV",
    "outputId": "0856b488-c2f7-4e35-e886-0a1b24df4fa1"
   },
   "outputs": [],
   "source": [
    "len(my_dict['Janis Joplin']['tracks']['items'])"
   ]
  },
  {
   "cell_type": "code",
   "execution_count": null,
   "metadata": {
    "colab": {
     "base_uri": "https://localhost:8080/"
    },
    "executionInfo": {
     "elapsed": 331,
     "status": "ok",
     "timestamp": 1623748210036,
     "user": {
      "displayName": "Ignacio Soteras",
      "photoUrl": "",
      "userId": "02050793736257155229"
     },
     "user_tz": -120
    },
    "id": "sZ5SNYg-d1aj",
    "outputId": "8c1e1f13-93b4-46bc-fde8-a67ee893a01a"
   },
   "outputs": [],
   "source": [
    "type(my_dict['Janis Joplin']['tracks']['items'][0])"
   ]
  },
  {
   "cell_type": "code",
   "execution_count": null,
   "metadata": {
    "colab": {
     "base_uri": "https://localhost:8080/"
    },
    "executionInfo": {
     "elapsed": 335,
     "status": "ok",
     "timestamp": 1623748213217,
     "user": {
      "displayName": "Ignacio Soteras",
      "photoUrl": "",
      "userId": "02050793736257155229"
     },
     "user_tz": -120
    },
    "id": "ONjAu8FQQkUn",
    "outputId": "a58fdabe-6b16-4d73-d9ea-9238beadda49"
   },
   "outputs": [],
   "source": [
    "my_dict['Janis Joplin']['tracks']['items'][0].keys()"
   ]
  },
  {
   "cell_type": "markdown",
   "metadata": {
    "id": "wlYAUHZMGEPp"
   },
   "source": [
    "# Understanding the json"
   ]
  },
  {
   "cell_type": "markdown",
   "metadata": {
    "id": "PSk_-FAqDW4q"
   },
   "source": [
    "Understanding the hierachy of a JSON can make you mad. Therefore you can cosider using some online pages where you can paste your JSON file and see the \"tree\" structure of the file.\n",
    "\n",
    "https://codebeautify.org/jsonviewer\n",
    "\n",
    "So, copy the json output from the previous query and paste it on the website's left panel. On the right panel you will be able to see the hierachy of the json file."
   ]
  },
  {
   "cell_type": "markdown",
   "metadata": {
    "id": "TB8tYM3KEZSx"
   },
   "source": [
    "Let's get used to the json at hand."
   ]
  },
  {
   "cell_type": "code",
   "execution_count": null,
   "metadata": {
    "colab": {
     "base_uri": "https://localhost:8080/"
    },
    "executionInfo": {
     "elapsed": 336,
     "status": "ok",
     "timestamp": 1623748232522,
     "user": {
      "displayName": "Ignacio Soteras",
      "photoUrl": "",
      "userId": "02050793736257155229"
     },
     "user_tz": -120
    },
    "id": "gQzoV9fjEbm6",
    "outputId": "0747fac5-b2f5-44a0-a9cd-393ed3196cbf"
   },
   "outputs": [],
   "source": [
    "print(\"The json file has the following keys: \",list(results.keys())) # We can see that we only have tracks\n",
    "print(\"The 'tracks' key has the following child keys: \",list(results[\"tracks\"].keys())) # Let's check the values\n",
    "print(\"The query we made is: \",results[\"tracks\"][\"href\"]) # Query we have searched \n",
    "print(\"The song's info is contained in: \",results[\"tracks\"][\"items\"]) #items (actual tracks)\n",
    "print(\"The limit of the query we've made is: \",results[\"tracks\"][\"limit\"]) #Limit we have chosen\n",
    "print(\"The next page if any: \",results[\"tracks\"][\"next\"]) #link to the next page (next 50 tracks)\n",
    "print(\"The starting webpage: \",results[\"tracks\"][\"offset\"]) # Actual offset (starting point)\n",
    "print(\"Starting webpage: \",results[\"tracks\"][\"previous\"]) #Previous search\n",
    "print(\"Total number of results: \",results[\"tracks\"][\"total\"]) # Number of matches"
   ]
  },
  {
   "cell_type": "markdown",
   "metadata": {
    "id": "-zgLGJeHGHpj"
   },
   "source": [
    "## Exploring the tracks"
   ]
  },
  {
   "cell_type": "code",
   "execution_count": null,
   "metadata": {
    "colab": {
     "base_uri": "https://localhost:8080/"
    },
    "executionInfo": {
     "elapsed": 373,
     "status": "ok",
     "timestamp": 1623748452407,
     "user": {
      "displayName": "Ignacio Soteras",
      "photoUrl": "",
      "userId": "02050793736257155229"
     },
     "user_tz": -120
    },
    "id": "nZ0e5-jQGQ-G",
    "outputId": "acf68d6b-fbe4-488a-9971-bad8f92649a6"
   },
   "outputs": [],
   "source": [
    "print(\"Total number of tracks: \",len(results[\"tracks\"][\"items\"])) # 50 Tracks (as limited, it is the maximum)\n",
    "print(\"Info of the first song: \",results[\"tracks\"][\"items\"][0]) # Explore the first song \n",
    "print(\"The keys of the dictionary are: \",list(results[\"tracks\"][\"items\"][0].keys())) # We will focus on album, artists, id, name, popularity, type and uri"
   ]
  },
  {
   "cell_type": "markdown",
   "metadata": {
    "id": "ztXFl2wtGpBI"
   },
   "source": [
    "## Checking albums"
   ]
  },
  {
   "cell_type": "code",
   "execution_count": null,
   "metadata": {
    "colab": {
     "base_uri": "https://localhost:8080/"
    },
    "executionInfo": {
     "elapsed": 285,
     "status": "ok",
     "timestamp": 1623748499833,
     "user": {
      "displayName": "Ignacio Soteras",
      "photoUrl": "",
      "userId": "02050793736257155229"
     },
     "user_tz": -120
    },
    "id": "GHbz4J3JGrph",
    "outputId": "5a2bd5c0-4aab-43a0-b38d-c7885a2e2241"
   },
   "outputs": [],
   "source": [
    "print(results[\"tracks\"][\"items\"][0][\"album\"]) # we have more info about the album\n",
    "print(list(results[\"tracks\"][\"items\"][0][\"album\"].keys())) # Will check artists, id, name, release date, total tracks \n",
    "print(results[\"tracks\"][\"items\"][0][\"album\"][\"artists\"]) # List with artists and information\n",
    "print(\"The album ID is: \",results[\"tracks\"][\"items\"][0][\"album\"][\"id\"]) # Album ID \n",
    "print(results[\"tracks\"][\"items\"][0][\"album\"][\"name\"]) # Album name (if its a single u'll get the name of the song)\n",
    "print(results[\"tracks\"][\"items\"][0][\"album\"][\"release_date\"]) #date in YYYY-MM-DD format\n",
    "print(\"Songs in the album: \",results[\"tracks\"][\"items\"][0][\"album\"][\"total_tracks\"]) #songs in the album"
   ]
  },
  {
   "cell_type": "markdown",
   "metadata": {
    "id": "ma33RhJ3GyyD"
   },
   "source": [
    "## Other info"
   ]
  },
  {
   "cell_type": "code",
   "execution_count": null,
   "metadata": {
    "colab": {
     "base_uri": "https://localhost:8080/",
     "height": 35
    },
    "executionInfo": {
     "elapsed": 314,
     "status": "ok",
     "timestamp": 1623748532709,
     "user": {
      "displayName": "Ignacio Soteras",
      "photoUrl": "",
      "userId": "02050793736257155229"
     },
     "user_tz": -120
    },
    "id": "rpRcNkuhG1Ht",
    "outputId": "bb6cc417-17bd-404f-d31c-302a97bf9ffe"
   },
   "outputs": [],
   "source": [
    "results[\"tracks\"][\"items\"][0][\"artists\"] # Track artists\n",
    "results[\"tracks\"][\"items\"][0][\"id\"] # Track ID\n",
    "results[\"tracks\"][\"items\"][0][\"name\"] # Track name\n",
    "results[\"tracks\"][\"items\"][0][\"popularity\"] # Popularity index\n",
    "results[\"tracks\"][\"items\"][0][\"uri\"] # Basically ID"
   ]
  },
  {
   "cell_type": "markdown",
   "metadata": {
    "id": "nDVEK6DDH82J"
   },
   "source": [
    "# Exploring songs"
   ]
  },
  {
   "cell_type": "markdown",
   "metadata": {
    "id": "ZdgnthLDIDUz"
   },
   "source": [
    "## Searching a playlist"
   ]
  },
  {
   "cell_type": "code",
   "execution_count": null,
   "metadata": {
    "executionInfo": {
     "elapsed": 287,
     "status": "ok",
     "timestamp": 1623748573692,
     "user": {
      "displayName": "Ignacio Soteras",
      "photoUrl": "",
      "userId": "02050793736257155229"
     },
     "user_tz": -120
    },
    "id": "QFNoaLUpIAVg"
   },
   "outputs": [],
   "source": [
    "playlist = sp.user_playlist_tracks(\"spotify\", \"4rnleEAOdmFAbRcNCgZMpY\")"
   ]
  },
  {
   "cell_type": "code",
   "execution_count": null,
   "metadata": {
    "colab": {
     "base_uri": "https://localhost:8080/"
    },
    "executionInfo": {
     "elapsed": 4,
     "status": "ok",
     "timestamp": 1623748576469,
     "user": {
      "displayName": "Ignacio Soteras",
      "photoUrl": "",
      "userId": "02050793736257155229"
     },
     "user_tz": -120
    },
    "id": "hEmemxE9oDwa",
    "outputId": "fb5cd5d8-df90-45b9-e083-0fc52307b408"
   },
   "outputs": [],
   "source": [
    "type(playlist)"
   ]
  },
  {
   "cell_type": "code",
   "execution_count": null,
   "metadata": {
    "colab": {
     "base_uri": "https://localhost:8080/"
    },
    "executionInfo": {
     "elapsed": 363,
     "status": "ok",
     "timestamp": 1623748609799,
     "user": {
      "displayName": "Ignacio Soteras",
      "photoUrl": "",
      "userId": "02050793736257155229"
     },
     "user_tz": -120
    },
    "id": "wG-PfUCEIKvy",
    "outputId": "2c5135b8-7fa6-4f4f-c4d9-a35ed4f949d0"
   },
   "outputs": [],
   "source": [
    "print(list(playlist.keys())) # Let's look at items and total:\n",
    "print(\"Total number of songs in the playlist: \",playlist[\"total\"]) # 4Ksongs!! Let's check items:\n",
    "len(playlist[\"items\"]) # It is limited to 100 tracks, we will have to fix it:"
   ]
  },
  {
   "cell_type": "markdown",
   "metadata": {
    "id": "8gIIuaAAIhQi"
   },
   "source": [
    "## Extracting the songs of a playlist"
   ]
  },
  {
   "cell_type": "markdown",
   "metadata": {
    "id": "vmwZa11wjBM6"
   },
   "source": [
    "Pagination using \"next\"\n",
    "When you collect songs from a playlist using sp.playlist_tracks, you're limited by the limit parameter, which has a maximum (and default) value of 100. When the playlist has more than 100 songs, you have to collect them by navigating through the \"pages\" of the results.\n",
    "\n",
    "The parameter offset allows you to retrieve resuls starting at a certain position: if you start at position 101, you'd get the next \"page\" of results. An offset of 201 would give you the third page, and so on.\n",
    "\n",
    "The function sp.next() does the same, but in a simpler way: it can be used on the results from any request to directly retrieve the results for the next page.\n",
    "\n",
    "We can check whether there's a next page or not by accessing the key next on the results from any request."
   ]
  },
  {
   "cell_type": "code",
   "execution_count": null,
   "metadata": {
    "colab": {
     "base_uri": "https://localhost:8080/",
     "output_embedded_package_id": "11lmL6TaP4CJpfs0sN7EJh5tcgfZk9V36"
    },
    "executionInfo": {
     "elapsed": 13594,
     "status": "ok",
     "timestamp": 1623748845508,
     "user": {
      "displayName": "Ignacio Soteras",
      "photoUrl": "",
      "userId": "02050793736257155229"
     },
     "user_tz": -120
    },
    "id": "xL2er8hRIl_S",
    "outputId": "d0450533-db51-412d-8d20-43634781280a",
    "scrolled": true
   },
   "outputs": [],
   "source": [
    "def get_playlist_tracks(username, playlist_id):\n",
    "    results = sp.user_playlist_tracks(username,playlist_id,market=\"GB\")\n",
    "    tracks = results['items']\n",
    "    while results['next']:\n",
    "        results = sp.next(results)\n",
    "        tracks.extend(results['items'])\n",
    "    return tracks\n",
    "\n",
    "get_playlist_tracks(\"spotify\", \"37i9dQZF1DX6cg4h2PoN9y\")\n"
   ]
  },
  {
   "cell_type": "markdown",
   "metadata": {
    "id": "0tlqOKWCJDq1"
   },
   "source": [
    "## Getting the artists of the playlist "
   ]
  },
  {
   "cell_type": "code",
   "execution_count": null,
   "metadata": {
    "executionInfo": {
     "elapsed": 410,
     "status": "ok",
     "timestamp": 1623748940470,
     "user": {
      "displayName": "Ignacio Soteras",
      "photoUrl": "",
      "userId": "02050793736257155229"
     },
     "user_tz": -120
    },
    "id": "idbmLYT7qTCG"
   },
   "outputs": [],
   "source": [
    "def get_artists_from_track(track):\n",
    "    return [artist[\"name\"] for artist in track[\"artists\"]]"
   ]
  },
  {
   "cell_type": "code",
   "execution_count": null,
   "metadata": {
    "executionInfo": {
     "elapsed": 278,
     "status": "ok",
     "timestamp": 1623748991105,
     "user": {
      "displayName": "Ignacio Soteras",
      "photoUrl": "",
      "userId": "02050793736257155229"
     },
     "user_tz": -120
    },
    "id": "VBm6PWerJH6A"
   },
   "outputs": [],
   "source": [
    "def get_artists_from_playlist(playlist_id):\n",
    "    tracks_from_playlist = get_playlist_tracks(\"spotify\", playlist_id)\n",
    "    return list(set(artist for subset in [get_artists_from_track(track[\"track\"]) for track in tracks_from_playlist] for artist in subset))"
   ]
  },
  {
   "cell_type": "code",
   "execution_count": null,
   "metadata": {
    "colab": {
     "base_uri": "https://localhost:8080/"
    },
    "executionInfo": {
     "elapsed": 8072,
     "status": "ok",
     "timestamp": 1623749004146,
     "user": {
      "displayName": "Ignacio Soteras",
      "photoUrl": "",
      "userId": "02050793736257155229"
     },
     "user_tz": -120
    },
    "id": "vMADuNRjCzYW",
    "outputId": "8ed416b0-c989-440f-a7b2-a51ea90177d9"
   },
   "outputs": [],
   "source": [
    "get_artists_from_playlist(\"4rnleEAOdmFAbRcNCgZMpY\")"
   ]
  },
  {
   "cell_type": "markdown",
   "metadata": {
    "id": "nOpED5mzJaPH"
   },
   "source": [
    "## Artists ID"
   ]
  },
  {
   "cell_type": "code",
   "execution_count": null,
   "metadata": {
    "executionInfo": {
     "elapsed": 279,
     "status": "ok",
     "timestamp": 1623749039046,
     "user": {
      "displayName": "Ignacio Soteras",
      "photoUrl": "",
      "userId": "02050793736257155229"
     },
     "user_tz": -120
    },
    "id": "By6HnwQVKjn9"
   },
   "outputs": [],
   "source": [
    "def get_artists_from_track(track):\n",
    "    return[artist[\"name\"] for artist in track[\"artists\"]]\n",
    "\n",
    "#--------------------------------------------------------------------\n",
    "\n",
    "def get_artists_ids_from_track(track):\n",
    "    return [artist[\"id\"] for artist in track[\"artists\"]]"
   ]
  },
  {
   "cell_type": "code",
   "execution_count": null,
   "metadata": {
    "executionInfo": {
     "elapsed": 421,
     "status": "ok",
     "timestamp": 1623749062104,
     "user": {
      "displayName": "Ignacio Soteras",
      "photoUrl": "",
      "userId": "02050793736257155229"
     },
     "user_tz": -120
    },
    "id": "iglwhQEPJdjs"
   },
   "outputs": [],
   "source": [
    "def get_artists_ids_from_playlist(playlist_id):\n",
    "    tracks_from_playlist = get_playlist_tracks(\"spotify\", playlist_id)\n",
    "    return list(set(artist for subset in [get_artists_ids_from_track(track[\"track\"]) for track in tracks_from_playlist] for artist in subset))"
   ]
  },
  {
   "cell_type": "code",
   "execution_count": null,
   "metadata": {
    "colab": {
     "base_uri": "https://localhost:8080/"
    },
    "executionInfo": {
     "elapsed": 15431,
     "status": "ok",
     "timestamp": 1623749090920,
     "user": {
      "displayName": "Ignacio Soteras",
      "photoUrl": "",
      "userId": "02050793736257155229"
     },
     "user_tz": -120
    },
    "id": "7e6xcNp4JoZ4",
    "outputId": "1847075c-6ab3-40c6-988e-2d8d5ddae5de"
   },
   "outputs": [],
   "source": [
    "artists = get_artists_from_playlist(\"4rnleEAOdmFAbRcNCgZMpY\") # Apply the function\n",
    "artists_ids = get_artists_ids_from_playlist(\"4rnleEAOdmFAbRcNCgZMpY\")\n",
    "len(artists)\n",
    "len(artists_ids) # We might have more ids due to artists having the same name"
   ]
  },
  {
   "cell_type": "markdown",
   "metadata": {
    "id": "MBq_6MslLqN1"
   },
   "source": [
    "# Getting the info"
   ]
  },
  {
   "cell_type": "markdown",
   "metadata": {
    "id": "flAFNc16L7UA"
   },
   "source": [
    "In this section we will work with albums to extract information. We will start by extracting all the albums of an artist."
   ]
  },
  {
   "cell_type": "code",
   "execution_count": null,
   "metadata": {
    "executionInfo": {
     "elapsed": 338,
     "status": "ok",
     "timestamp": 1623749616116,
     "user": {
      "displayName": "Ignacio Soteras",
      "photoUrl": "",
      "userId": "02050793736257155229"
     },
     "user_tz": -120
    },
    "id": "aYMfWpqSL8cv"
   },
   "outputs": [],
   "source": [
    "def get_albums_from_artist(artist_id):\n",
    "    results = sp.artist_albums(artist_id, limit = 50,country=\"GB\")\n",
    "    tracks = results['items']\n",
    "    while results['next']:\n",
    "        results = sp.next(results)\n",
    "        tracks.extend(results['items'])\n",
    "    return tracks\n",
    "\n",
    "# Same for albums ids\n",
    "def get_album_ids_from_artist(artist_id):\n",
    "    results = sp.artist_albums(artist_id, limit = 50)\n",
    "    tracks = results['items']\n",
    "    while results['next']:\n",
    "        results = sp.next(results)\n",
    "        tracks.extend(results['items'])\n",
    "    return [track[\"id\"] for track in tracks]"
   ]
  },
  {
   "cell_type": "code",
   "execution_count": null,
   "metadata": {},
   "outputs": [],
   "source": [
    "get_albums_from_artist(\"6qqNVTkY8uBg9cP3Jd7DAH\")"
   ]
  },
  {
   "cell_type": "markdown",
   "metadata": {
    "id": "W4DVUzVGMBmY"
   },
   "source": [
    "Example: Coldplay"
   ]
  },
  {
   "cell_type": "code",
   "execution_count": null,
   "metadata": {
    "colab": {
     "base_uri": "https://localhost:8080/"
    },
    "executionInfo": {
     "elapsed": 2439,
     "status": "ok",
     "timestamp": 1623749664870,
     "user": {
      "displayName": "Ignacio Soteras",
      "photoUrl": "",
      "userId": "02050793736257155229"
     },
     "user_tz": -120
    },
    "id": "TIl4480OMDe2",
    "outputId": "7d894d55-79d9-4fa9-8773-ec4d399d2d02"
   },
   "outputs": [],
   "source": [
    "coldplay_id = \"4gzpq5DPGxSnKTe4SA8HAU\"\n",
    "coldplay_albums = get_albums_from_artist(coldplay_id)\n",
    "coldplay_album_ids = get_album_ids_from_artist(coldplay_id)\n",
    "\n",
    "# Check artists that played with coldplay\n",
    "set([artist[\"name\"] for track in coldplay_albums for artist in track[\"artists\"]])"
   ]
  },
  {
   "cell_type": "markdown",
   "metadata": {
    "id": "ljaglNRvMTL5"
   },
   "source": [
    "## Getting the songs of a given album"
   ]
  },
  {
   "cell_type": "code",
   "execution_count": null,
   "metadata": {
    "executionInfo": {
     "elapsed": 531,
     "status": "ok",
     "timestamp": 1623749740975,
     "user": {
      "displayName": "Ignacio Soteras",
      "photoUrl": "",
      "userId": "02050793736257155229"
     },
     "user_tz": -120
    },
    "id": "q3wKfrHbMWO3"
   },
   "outputs": [],
   "source": [
    "def get_track_ids_from_albums(album_ids):\n",
    "    return list(set([i[\"id\"] for j in album_ids for i in sp.album(j)[\"tracks\"][\"items\"]]))"
   ]
  },
  {
   "cell_type": "code",
   "execution_count": null,
   "metadata": {
    "colab": {
     "base_uri": "https://localhost:8080/"
    },
    "executionInfo": {
     "elapsed": 48724,
     "status": "ok",
     "timestamp": 1623749793320,
     "user": {
      "displayName": "Ignacio Soteras",
      "photoUrl": "",
      "userId": "02050793736257155229"
     },
     "user_tz": -120
    },
    "id": "WzZLGfwlMd2C",
    "outputId": "044a9334-ee0d-4a82-c8d4-577874c47d80"
   },
   "outputs": [],
   "source": [
    "coldplay_songs = get_track_ids_from_albums(coldplay_album_ids)\n",
    "\n",
    "len(coldplay_songs)"
   ]
  }
 ],
 "metadata": {
  "colab": {
   "authorship_tag": "ABX9TyPVWC1t3Am5oxfsHrz0cF36",
   "mount_file_id": "1f3HsS5F0GzS75tlHyrwhBGlTWbE0nG4o",
   "name": "Code_along_Spotify_structure.ipynb",
   "provenance": []
  },
  "kernelspec": {
   "display_name": "Python 3",
   "language": "python",
   "name": "python3"
  },
  "language_info": {
   "codemirror_mode": {
    "name": "ipython",
    "version": 3
   },
   "file_extension": ".py",
   "mimetype": "text/x-python",
   "name": "python",
   "nbconvert_exporter": "python",
   "pygments_lexer": "ipython3",
   "version": "3.8.8"
  }
 },
 "nbformat": 4,
 "nbformat_minor": 1
}

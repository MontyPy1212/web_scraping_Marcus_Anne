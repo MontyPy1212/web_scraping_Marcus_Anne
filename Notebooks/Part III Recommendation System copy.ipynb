{
 "cells": [
  {
   "cell_type": "code",
   "execution_count": 1,
   "id": "5d880c9a",
   "metadata": {},
   "outputs": [
    {
     "ename": "NameError",
     "evalue": "name 'df_all_songs' is not defined",
     "output_type": "error",
     "traceback": [
      "\u001b[0;31m---------------------------------------------------------------------------\u001b[0m",
      "\u001b[0;31mNameError\u001b[0m                                 Traceback (most recent call last)",
      "\u001b[0;32m<ipython-input-1-d1c9c68109e4>\u001b[0m in \u001b[0;36m<module>\u001b[0;34m\u001b[0m\n\u001b[0;32m----> 1\u001b[0;31m \u001b[0mdf_all_songs\u001b[0m\u001b[0;34m\u001b[0m\u001b[0;34m\u001b[0m\u001b[0m\n\u001b[0m\u001b[1;32m      2\u001b[0m \u001b[0mdf_hot_current\u001b[0m\u001b[0;34m\u001b[0m\u001b[0;34m\u001b[0m\u001b[0m\n\u001b[1;32m      3\u001b[0m \u001b[0mdf_hot_oldies\u001b[0m\u001b[0;34m\u001b[0m\u001b[0;34m\u001b[0m\u001b[0m\n",
      "\u001b[0;31mNameError\u001b[0m: name 'df_all_songs' is not defined"
     ]
    }
   ],
   "source": [
    "df_all_songs\n",
    "df_hot_current\n",
    "df_hot_oldies"
   ]
  },
  {
   "cell_type": "code",
   "execution_count": null,
   "id": "5e11f18c",
   "metadata": {},
   "outputs": [],
   "source": [
    "#mask = data['Safe'].str.contains(\"^CDS-.*DEFAULT-UNIX-ROOT$\")\n",
    "#df = df[(df[\"price\"]>10000) & (df[\"flat_surface\"]>0)]\n",
    "#df.query('Colors == {}'.format(filtered_color)), this replaces value of filtered_color instead of string filtered_color\n",
    "def filter(df):\n",
    "    df = df[(df[\"Rank\"].str.contains(\"Top songs of the \")) ]\n",
    "    return df\n",
    "def filter_input(df):\n",
    "    inGenre = input(\"Name the genre?\")\n",
    "    df.query('Genre == {}'.)\n",
    "    #df = df[(df[\"Genre\"] == \"Oldies\")]\n",
    "    return df"
   ]
  },
  {
   "cell_type": "code",
   "execution_count": 1,
   "id": "03c8ead0",
   "metadata": {},
   "outputs": [],
   "source": [
    "def get_input(): \n",
    "    song = input(\"Type in a badass song? \")\n",
    "    song = song.lower()\n",
    "    return song "
   ]
  },
  {
   "cell_type": "code",
   "execution_count": null,
   "id": "54fb78fa",
   "metadata": {},
   "outputs": [],
   "source": [
    "def check_if_exists():\n",
    "    if song is in df_"
   ]
  },
  {
   "cell_type": "code",
   "execution_count": null,
   "id": "588f391e",
   "metadata": {},
   "outputs": [],
   "source": [
    "def song_recommender():\n",
    "        check if song is in df_all\n",
    "        check elif song is in df_hot_2020\n",
    "        check if song is in \n",
    "    else: \n",
    "\n",
    "#what if a song has the same name, but different artists?\n",
    "#how to deal with typos \n",
    "\n"
   ]
  },
  {
   "cell_type": "code",
   "execution_count": null,
   "id": "a1dc1158",
   "metadata": {},
   "outputs": [],
   "source": [
    "'The Weeknd & Ariana Grande',\n"
   ]
  }
 ],
 "metadata": {
  "kernelspec": {
   "display_name": "Python 3",
   "language": "python",
   "name": "python3"
  },
  "language_info": {
   "codemirror_mode": {
    "name": "ipython",
    "version": 3
   },
   "file_extension": ".py",
   "mimetype": "text/x-python",
   "name": "python",
   "nbconvert_exporter": "python",
   "pygments_lexer": "ipython3",
   "version": "3.9.6"
  }
 },
 "nbformat": 4,
 "nbformat_minor": 5
}

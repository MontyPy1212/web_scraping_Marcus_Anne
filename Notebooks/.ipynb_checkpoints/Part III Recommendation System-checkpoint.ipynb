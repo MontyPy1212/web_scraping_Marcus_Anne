{
 "cells": [
  {
   "cell_type": "markdown",
   "id": "083d35cd",
   "metadata": {},
   "source": [
    "## Programme"
   ]
  },
  {
   "cell_type": "code",
   "execution_count": null,
   "id": "0b6df1a5",
   "metadata": {},
   "outputs": [],
   "source": [
    "df_all = pd.read_excel(\"../web_scraping_Marcus_Anne/df_final.xlsx\")\n",
    "df_all.head()"
   ]
  },
  {
   "cell_type": "code",
   "execution_count": null,
   "id": "d5656f37",
   "metadata": {},
   "outputs": [],
   "source": [
    "df_hot_current = pd.read_excel(\"../web_scraping_Marcus_Anne/df_hot_current.csv\")\n",
    "df_hot_current.head()"
   ]
  },
  {
   "cell_type": "code",
   "execution_count": null,
   "id": "1741ea64",
   "metadata": {},
   "outputs": [],
   "source": [
    "df_hot_past = pd.read_excel(\"../web_scraping_Marcus_Anne/df_hot_past.csv\")\n",
    "df_hot_past.head()"
   ]
  },
  {
   "cell_type": "code",
   "execution_count": 3,
   "id": "03c8ead0",
   "metadata": {},
   "outputs": [],
   "source": [
    "def get_input(): \n",
    "    song = input(\"What's a badass song? \")\n",
    "    song = song.lower()\n",
    "    return song "
   ]
  },
  {
   "cell_type": "code",
   "execution_count": null,
   "id": "55817035",
   "metadata": {},
   "outputs": [],
   "source": [
    "get_input()"
   ]
  },
  {
   "cell_type": "code",
   "execution_count": null,
   "id": "54fb78fa",
   "metadata": {},
   "outputs": [],
   "source": [
    "#How to check word in song title? \n",
    "#how to deal with typos \n",
    "##what if a song has the same name, but different artists?\n",
    "\n",
    "def duplicates():\n",
    "    if song exists >1:\n",
    "        print(\"There are several songs with this title. Which artist did you mean?\")\n",
    "        print(\"song_title\", \"artist\")"
   ]
  },
  {
   "cell_type": "code",
   "execution_count": null,
   "id": "816ec385",
   "metadata": {},
   "outputs": [],
   "source": [
    "duplicates()"
   ]
  },
  {
   "cell_type": "code",
   "execution_count": null,
   "id": "588f391e",
   "metadata": {},
   "outputs": [],
   "source": [
    "def song_recommender():\n",
    "        while song in df_all[\"track_name\"]: #check if exists in database\n",
    "            \n",
    "            #if yes, check if song is hot \n",
    "            if song in df_hot_current[\"song_title\"]: \n",
    "                \n",
    "                #if yes, recommend another current hot song\n",
    "                print(\"Hot choice. Here's your song recommendation:\", df_hot_current.sample(n=1)) \n",
    "                \n",
    "                \n",
    "            #if no, check if song used to be hot\n",
    "            elif song in df_hot_past[\"song_title\"]:\n",
    "                \n",
    "                #if yes, recommend an old \"hot\" song\n",
    "                print(\"Hot choice. You like oldies, hey? Here's your song recommendation:\", df_hot_past.sample(n=1)) )\n",
    "            \n",
    "            #if no, recommend a similar song (k-means)\n",
    "            else:\n",
    "                check similarities (parameter 1, parameter 2, parameter 3)\n",
    "                print result\n",
    "        \n",
    "        #if, song does not exist, type in another song\n",
    "        else: \n",
    "            print(\"Sorry, we couldn't find your song. Try again\")\n",
    "            get_input()\n"
   ]
  },
  {
   "cell_type": "code",
   "execution_count": null,
   "id": "a1dc1158",
   "metadata": {},
   "outputs": [],
   "source": []
  },
  {
   "cell_type": "code",
   "execution_count": null,
   "id": "ae078a15",
   "metadata": {},
   "outputs": [],
   "source": [
    "#Bringing it all together\n",
    "\n",
    "get_input()\n",
    "duplicates()\n",
    "\n",
    "while song is in df_all:\n",
    "    song_recommender()\n",
    "\n",
    "else: \n",
    "    #if, song does not exist, type in another song\n",
    "    print(\"Sorry, we couldn't find your song. Try again\")\n",
    "    get_input()\n"
   ]
  }
 ],
 "metadata": {
  "kernelspec": {
   "display_name": "Python 3",
   "language": "python",
   "name": "python3"
  }
 },
 "nbformat": 4,
 "nbformat_minor": 5
}

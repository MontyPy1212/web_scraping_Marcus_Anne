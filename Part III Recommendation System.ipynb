{
 "cells": [
  {
   "cell_type": "code",
   "execution_count": null,
   "id": "1223e891",
   "metadata": {},
   "outputs": [],
   "source": [
    "df_all_songs\n",
    "df_hot_current\n",
    "df_hot_oldies"
   ]
  },
  {
   "cell_type": "code",
   "execution_count": 1,
   "id": "93125850",
   "metadata": {},
   "outputs": [],
   "source": [
    "def get_input(): \n",
    "    song = input(\"Type in a badass song?\")\n",
    "    return song "
   ]
  },
  {
   "cell_type": "code",
   "execution_count": null,
   "id": "779a6236",
   "metadata": {},
   "outputs": [],
   "source": [
    "def clean_input():\n",
    "    song"
   ]
  },
  {
   "cell_type": "code",
   "execution_count": null,
   "id": "5454e78f",
   "metadata": {},
   "outputs": [],
   "source": [
    "def song_recommender():\n",
    "    while song is in df_all == True: #check if song exists\n",
    "        check if song is in df_all\n",
    "        check elif song is in df_hot_2020\n",
    "        check if song is in \n",
    "    else: \n",
    "\n",
    "#what if a song has the same name, but different artists?\n",
    "#how to deal with typos \n",
    "\n"
   ]
  },
  {
   "cell_type": "code",
   "execution_count": null,
   "id": "362920a2",
   "metadata": {},
   "outputs": [],
   "source": [
    "'The Weeknd & Ariana Grande',\n"
   ]
  }
 ],
 "metadata": {
  "kernelspec": {
   "display_name": "Python 3",
   "language": "python",
   "name": "python3"
  },
  "language_info": {
   "codemirror_mode": {
    "name": "ipython",
    "version": 3
   },
   "file_extension": ".py",
   "mimetype": "text/x-python",
   "name": "python",
   "nbconvert_exporter": "python",
   "pygments_lexer": "ipython3",
   "version": "3.8.8"
  }
 },
 "nbformat": 4,
 "nbformat_minor": 5
}

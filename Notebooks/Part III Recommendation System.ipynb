{
 "cells": [
  {
   "cell_type": "code",
   "execution_count": null,
   "id": "0b6df1a5",
   "metadata": {},
   "outputs": [],
   "source": [
    "df_all = pd.read_excel(\"../web_scraping_Marcus_Anne/df_final.xlsx\")\n",
    "df_all.head()"
   ]
  },
  {
   "cell_type": "code",
   "execution_count": null,
   "id": "d5656f37",
   "metadata": {},
   "outputs": [],
   "source": [
    "df_hot_current = pd.read_excel(\"../web_scraping_Marcus_Anne/df_hot_current.csv\")\n",
    "df_hot_current.head()"
   ]
  },
  {
   "cell_type": "code",
   "execution_count": null,
   "id": "1741ea64",
   "metadata": {},
   "outputs": [],
   "source": [
    "df_hot_past = pd.read_excel(\"../web_scraping_Marcus_Anne/df_hot_past.csv\")\n",
    "df_hot_past.head()"
   ]
  },
  {
   "cell_type": "markdown",
   "id": "083d35cd",
   "metadata": {},
   "source": [
    "## Programme"
   ]
  },
  {
   "cell_type": "code",
   "execution_count": 1,
   "id": "2db48948",
   "metadata": {},
   "outputs": [],
   "source": [
    "import pandas as pd\n",
    "from difflib import get_close_matches"
   ]
  },
  {
   "cell_type": "markdown",
   "id": "7c102b2f",
   "metadata": {},
   "source": [
    "#### File definition"
   ]
  },
  {
   "cell_type": "code",
   "execution_count": 2,
   "id": "5067c697",
   "metadata": {},
   "outputs": [],
   "source": [
    "file_past = \"df_hot_past.csv\"\n",
    "file_now = \"df_hot_current.csv\"\n",
    "file_spot = \"../web_scraping_Marcus_Anne/df_all_songs.xlsx\"  ### Problem in loading from path"
   ]
  },
  {
   "cell_type": "code",
   "execution_count": 3,
   "id": "aeedbcd6",
   "metadata": {},
   "outputs": [],
   "source": [
    "#get dataset\n",
    "def get_data_set(file): \n",
    "    df = pd.read_csv(file)\n",
    "    return pd.read_csv(file)"
   ]
  },
  {
   "cell_type": "code",
   "execution_count": 30,
   "id": "96aac6a8",
   "metadata": {},
   "outputs": [],
   "source": [
    "df_p = get_data_set(file_past)\n",
    "df_n = get_data_set(file_now)\n",
    "frames = [df_p, df_n]\n",
    "df = pd.concat(frames)"
   ]
  },
  {
   "cell_type": "code",
   "execution_count": 31,
   "id": "a4ec738c",
   "metadata": {},
   "outputs": [],
   "source": [
    "df['song_title'] = df['song_title'].apply(lambda x: x.lower().translate({ord(c): \"\" for c in \"/.()'\\\"\"}))\n",
    "#df_p['song_title'] = df_p['song_title'].apply(lambda x: x.lower().translate({ord(c): \"\" for c in \"/.()'\\\"\"}))\n",
    "#df_n['song_title'] = df_n['song_title'].apply(lambda x: x.lower().translate({ord(c): \"\" for c in \"/.()'\\\"\"}))\n",
    "#df_p['song_title'] = df_p['song_title'].str.lower()\n",
    "#df_p['song_title'] = df_p['song_title'].str.replace(,{'(':'', ')':'', '/':''}, regex = True)"
   ]
  },
  {
   "cell_type": "code",
   "execution_count": 32,
   "id": "7dfa4378",
   "metadata": {},
   "outputs": [
    {
     "data": {
      "text/plain": [
       "0                               1999\n",
       "1    everything i do i do it for you\n",
       "2         i cant get no satisfaction\n",
       "3        ive had the time of my life\n",
       "4          let me be your teddy bear\n",
       "Name: song_title, dtype: object"
      ]
     },
     "execution_count": 32,
     "metadata": {},
     "output_type": "execute_result"
    }
   ],
   "source": [
    "df['song_title'].head(5)"
   ]
  },
  {
   "cell_type": "code",
   "execution_count": 33,
   "id": "3e59a5cf",
   "metadata": {},
   "outputs": [
    {
     "data": {
      "text/html": [
       "<div>\n",
       "<style scoped>\n",
       "    .dataframe tbody tr th:only-of-type {\n",
       "        vertical-align: middle;\n",
       "    }\n",
       "\n",
       "    .dataframe tbody tr th {\n",
       "        vertical-align: top;\n",
       "    }\n",
       "\n",
       "    .dataframe thead th {\n",
       "        text-align: right;\n",
       "    }\n",
       "</style>\n",
       "<table border=\"1\" class=\"dataframe\">\n",
       "  <thead>\n",
       "    <tr style=\"text-align: right;\">\n",
       "      <th></th>\n",
       "      <th>rank</th>\n",
       "      <th>song_title</th>\n",
       "      <th>artist</th>\n",
       "      <th>year</th>\n",
       "      <th>genre</th>\n",
       "      <th>decade</th>\n",
       "    </tr>\n",
       "  </thead>\n",
       "  <tbody>\n",
       "    <tr>\n",
       "      <th>0</th>\n",
       "      <td>57</td>\n",
       "      <td>1999</td>\n",
       "      <td>Prince</td>\n",
       "      <td>1983</td>\n",
       "      <td>Popular</td>\n",
       "      <td>1980</td>\n",
       "    </tr>\n",
       "    <tr>\n",
       "      <th>1</th>\n",
       "      <td>20</td>\n",
       "      <td>everything i do i do it for you</td>\n",
       "      <td>Bryan Adams</td>\n",
       "      <td>1991</td>\n",
       "      <td>Ballad</td>\n",
       "      <td>1990</td>\n",
       "    </tr>\n",
       "    <tr>\n",
       "      <th>2</th>\n",
       "      <td>46</td>\n",
       "      <td>i cant get no satisfaction</td>\n",
       "      <td>Rolling Stones</td>\n",
       "      <td>1965</td>\n",
       "      <td>Oldies</td>\n",
       "      <td>1960</td>\n",
       "    </tr>\n",
       "    <tr>\n",
       "      <th>3</th>\n",
       "      <td>15</td>\n",
       "      <td>ive had the time of my life</td>\n",
       "      <td>Bill Medley &amp; Jennifer Warnes</td>\n",
       "      <td>1987</td>\n",
       "      <td>Ballad</td>\n",
       "      <td>1980</td>\n",
       "    </tr>\n",
       "    <tr>\n",
       "      <th>4</th>\n",
       "      <td>47</td>\n",
       "      <td>let me be your teddy bear</td>\n",
       "      <td>Elvis Presley</td>\n",
       "      <td>1957</td>\n",
       "      <td>Oldies</td>\n",
       "      <td>1950</td>\n",
       "    </tr>\n",
       "    <tr>\n",
       "      <th>...</th>\n",
       "      <td>...</td>\n",
       "      <td>...</td>\n",
       "      <td>...</td>\n",
       "      <td>...</td>\n",
       "      <td>...</td>\n",
       "      <td>...</td>\n",
       "    </tr>\n",
       "    <tr>\n",
       "      <th>195</th>\n",
       "      <td>96</td>\n",
       "      <td>summer of love</td>\n",
       "      <td>Shawn Mendes &amp; Tainy</td>\n",
       "      <td>2021</td>\n",
       "      <td>Popular</td>\n",
       "      <td>2021</td>\n",
       "    </tr>\n",
       "    <tr>\n",
       "      <th>196</th>\n",
       "      <td>97</td>\n",
       "      <td>aint shit</td>\n",
       "      <td>Doja Cat</td>\n",
       "      <td>2021</td>\n",
       "      <td>Popular</td>\n",
       "      <td>2021</td>\n",
       "    </tr>\n",
       "    <tr>\n",
       "      <th>197</th>\n",
       "      <td>98</td>\n",
       "      <td>motley crew</td>\n",
       "      <td>Post Malone</td>\n",
       "      <td>2021</td>\n",
       "      <td>Popular</td>\n",
       "      <td>2021</td>\n",
       "    </tr>\n",
       "    <tr>\n",
       "      <th>198</th>\n",
       "      <td>99</td>\n",
       "      <td>remote control</td>\n",
       "      <td>Kanye West</td>\n",
       "      <td>2021</td>\n",
       "      <td>Popular</td>\n",
       "      <td>2021</td>\n",
       "    </tr>\n",
       "    <tr>\n",
       "      <th>199</th>\n",
       "      <td>100</td>\n",
       "      <td>baddest</td>\n",
       "      <td>Yung Bleu, Chris Brown &amp; 2 Chainz</td>\n",
       "      <td>2021</td>\n",
       "      <td>Popular</td>\n",
       "      <td>2021</td>\n",
       "    </tr>\n",
       "  </tbody>\n",
       "</table>\n",
       "<p>895 rows × 6 columns</p>\n",
       "</div>"
      ],
      "text/plain": [
       "     rank                       song_title                             artist  \\\n",
       "0      57                             1999                             Prince   \n",
       "1      20  everything i do i do it for you                        Bryan Adams   \n",
       "2      46       i cant get no satisfaction                     Rolling Stones   \n",
       "3      15      ive had the time of my life      Bill Medley & Jennifer Warnes   \n",
       "4      47        let me be your teddy bear                      Elvis Presley   \n",
       "..    ...                              ...                                ...   \n",
       "195    96                   summer of love               Shawn Mendes & Tainy   \n",
       "196    97                        aint shit                           Doja Cat   \n",
       "197    98                      motley crew                        Post Malone   \n",
       "198    99                   remote control                         Kanye West   \n",
       "199   100                          baddest  Yung Bleu, Chris Brown & 2 Chainz   \n",
       "\n",
       "     year    genre  decade  \n",
       "0    1983  Popular    1980  \n",
       "1    1991   Ballad    1990  \n",
       "2    1965   Oldies    1960  \n",
       "3    1987   Ballad    1980  \n",
       "4    1957   Oldies    1950  \n",
       "..    ...      ...     ...  \n",
       "195  2021  Popular    2021  \n",
       "196  2021  Popular    2021  \n",
       "197  2021  Popular    2021  \n",
       "198  2021  Popular    2021  \n",
       "199  2021  Popular    2021  \n",
       "\n",
       "[895 rows x 6 columns]"
      ]
     },
     "execution_count": 33,
     "metadata": {},
     "output_type": "execute_result"
    }
   ],
   "source": [
    "df"
   ]
  },
  {
   "cell_type": "code",
   "execution_count": 7,
   "id": "03c8ead0",
   "metadata": {},
   "outputs": [],
   "source": [
    "def get_input(): \n",
    "    song_input = input(\"What's a badass song? \")\n",
    "    song_input = song_input.lower()\n",
    "    return song_input "
   ]
  },
  {
   "cell_type": "code",
   "execution_count": 22,
   "id": "55817035",
   "metadata": {},
   "outputs": [
    {
     "name": "stdout",
     "output_type": "stream",
     "text": [
      "What's a badass song? wonderwall\n"
     ]
    }
   ],
   "source": [
    "song_input = get_input()"
   ]
  },
  {
   "cell_type": "code",
   "execution_count": 37,
   "id": "08e8b936",
   "metadata": {},
   "outputs": [
    {
     "data": {
      "text/plain": [
       "<bound method DataFrame.value_counts of      rank  song_title artist  year        genre  decade\n",
       "663    43  wonderwall  Oasis  1995  Alternative    1990>"
      ]
     },
     "execution_count": 37,
     "metadata": {},
     "output_type": "execute_result"
    }
   ],
   "source": [
    "song_check1.value_counts"
   ]
  },
  {
   "cell_type": "code",
   "execution_count": 41,
   "id": "0137b805",
   "metadata": {},
   "outputs": [
    {
     "name": "stdout",
     "output_type": "stream",
     "text": [
      "I found wonderwall\n"
     ]
    }
   ],
   "source": [
    "song_check1 = df[df['song_title'].str.contains(song_input)]\n",
    "if len(song_check1) > 0:\n",
    "    print('I found ' + song_check1['song_title'].values[0]+'by'+song_check1['song_title'].values[0])\n"
   ]
  },
  {
   "cell_type": "code",
   "execution_count": null,
   "id": "789c2861",
   "metadata": {},
   "outputs": [],
   "source": [
    "song_check = get_close_matches(song_input, df_p['song_title'], n=1, cutoff=0.6)\n",
    "song_check1p = df_p[df_p['song_title'].str.contains(song_input)]"
   ]
  },
  {
   "cell_type": "code",
   "execution_count": 20,
   "id": "d5ac2ec1",
   "metadata": {},
   "outputs": [
    {
     "data": {
      "text/plain": [
       "1"
      ]
     },
     "execution_count": 20,
     "metadata": {},
     "output_type": "execute_result"
    }
   ],
   "source": [
    "len(song_check)"
   ]
  },
  {
   "cell_type": "code",
   "execution_count": 21,
   "id": "d28925f2",
   "metadata": {},
   "outputs": [
    {
     "name": "stdout",
     "output_type": "stream",
     "text": [
      "['wonderwall']\n"
     ]
    }
   ],
   "source": [
    "print(song_check)"
   ]
  },
  {
   "cell_type": "code",
   "execution_count": null,
   "id": "54fb78fa",
   "metadata": {},
   "outputs": [],
   "source": [
    "#How to check word in song title? \n",
    "#how to deal with typos \n",
    "##what if a song has the same name, but different artists?\n",
    "\n",
    "def duplicates():\n",
    "    if song exists >1:\n",
    "        print(\"There are several songs with this title. Which artist did you mean?\")\n",
    "        print(\"song_title\", \"artist\")"
   ]
  },
  {
   "cell_type": "code",
   "execution_count": null,
   "id": "816ec385",
   "metadata": {},
   "outputs": [],
   "source": [
    "duplicates()"
   ]
  },
  {
   "cell_type": "code",
   "execution_count": null,
   "id": "588f391e",
   "metadata": {},
   "outputs": [],
   "source": [
    "def song_recommender():\n",
    "        while song in df_all[\"track_name\"]: #check if exists in database\n",
    "            \n",
    "            #if yes, check if song is hot \n",
    "            if song in df_hot_current[\"song_title\"]: \n",
    "                \n",
    "                #if yes, recommend another current hot song\n",
    "                print(\"Hot choice. Here's your song recommendation:\", df_hot_current.sample(n=1)) \n",
    "                \n",
    "                \n",
    "            #if no, check if song used to be hot\n",
    "            elif song in df_hot_past[\"song_title\"]:\n",
    "                \n",
    "                #if yes, recommend an old \"hot\" song\n",
    "                print(\"Hot choice. You like oldies, hey? Here's your song recommendation:\", df_hot_past.sample(n=1)) )\n",
    "            \n",
    "            #if no, recommend a similar song (k-means)\n",
    "            else:\n",
    "                check similarities (parameter 1, parameter 2, parameter 3)\n",
    "                print result\n",
    "        \n",
    "        #if, song does not exist, type in another song\n",
    "        else: \n",
    "            print(\"Sorry, we couldn't find your song. Try again\")\n",
    "            get_input()\n"
   ]
  },
  {
   "cell_type": "code",
   "execution_count": null,
   "id": "a1dc1158",
   "metadata": {},
   "outputs": [],
   "source": []
  },
  {
   "cell_type": "code",
   "execution_count": null,
   "id": "ae078a15",
   "metadata": {},
   "outputs": [],
   "source": [
    "#Bringing it all together\n",
    "\n",
    "get_input()\n",
    "duplicates()\n",
    "\n",
    "while song is in df_all:\n",
    "    song_recommender()\n",
    "\n",
    "else: \n",
    "    #if, song does not exist, type in another song\n",
    "    print(\"Sorry, we couldn't find your song. Try again\")\n",
    "    get_input()\n"
   ]
  }
 ],
 "metadata": {
  "kernelspec": {
   "display_name": "Python 3",
   "language": "python",
   "name": "python3"
  },
  "language_info": {
   "codemirror_mode": {
    "name": "ipython",
    "version": 3
   },
   "file_extension": ".py",
   "mimetype": "text/x-python",
   "name": "python",
   "nbconvert_exporter": "python",
   "pygments_lexer": "ipython3",
   "version": "3.9.6"
  }
 },
 "nbformat": 4,
 "nbformat_minor": 5
}

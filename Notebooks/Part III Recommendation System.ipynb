{
 "cells": [
  {
   "cell_type": "markdown",
   "id": "135a8e3c",
   "metadata": {},
   "source": [
    "## Programme"
   ]
  },
  {
   "cell_type": "code",
   "execution_count": null,
   "id": "8f6bf2db",
   "metadata": {},
   "outputs": [],
   "source": [
    "df_all = pd.read_excel(\"../web_scraping_Marcus_Anne/df_final.xlsx\")"
   ]
  },
  {
   "cell_type": "code",
   "execution_count": null,
   "id": "15d0d4c2",
   "metadata": {},
   "outputs": [],
   "source": [
    "df_hot_current = pd.read_excel(\"../web_scraping_Marcus_Anne/df_hot_current.csv\")"
   ]
  },
  {
   "cell_type": "code",
   "execution_count": null,
   "id": "b346bce0",
   "metadata": {},
   "outputs": [],
   "source": [
    "df_hot_past = pd.read_excel(\"../web_scraping_Marcus_Anne/df_hot_past.csv\")"
   ]
  },
  {
   "cell_type": "code",
   "execution_count": 1,
   "id": "03c8ead0",
   "metadata": {},
   "outputs": [],
   "source": [
    "def get_input(): \n",
    "    song = input(\"What's a badass song? \")\n",
    "    song = song.lower()\n",
    "    return song "
   ]
  },
  {
   "cell_type": "code",
   "execution_count": null,
   "id": "55817035",
   "metadata": {},
   "outputs": [],
   "source": [
    "get_input()"
   ]
  },
  {
   "cell_type": "code",
   "execution_count": null,
   "id": "54fb78fa",
   "metadata": {},
   "outputs": [],
   "source": []
  },
  {
   "cell_type": "code",
   "execution_count": null,
   "id": "588f391e",
   "metadata": {},
   "outputs": [],
   "source": [
    "def song_recommender():\n",
    "        while song is in df_all[\"song\"]:\n",
    "            if song is in df_hot_2020:\n",
    "                print(\"Hot choice. Here's your song recommendation:\")\n",
    "                elif song is in df_hot_2020\n",
    "            check if song is in \n",
    "        else: \n",
    "        return False\n",
    "        print(\"Sorry, we couldn't find your song. Try again\")\n",
    "#what if a song has the same name, but different artists?\n",
    "#how to deal with typos "
   ]
  },
  {
   "cell_type": "code",
   "execution_count": null,
   "id": "a1dc1158",
   "metadata": {},
   "outputs": [],
   "source": []
  }
 ],
 "metadata": {
  "kernelspec": {
   "display_name": "Python 3",
   "language": "python",
   "name": "python3"
  },
  "language_info": {
   "codemirror_mode": {
    "name": "ipython",
    "version": 3
   },
   "file_extension": ".py",
   "mimetype": "text/x-python",
   "name": "python",
   "nbconvert_exporter": "python",
   "pygments_lexer": "ipython3",
   "version": "3.8.8"
  }
 },
 "nbformat": 4,
 "nbformat_minor": 5
}

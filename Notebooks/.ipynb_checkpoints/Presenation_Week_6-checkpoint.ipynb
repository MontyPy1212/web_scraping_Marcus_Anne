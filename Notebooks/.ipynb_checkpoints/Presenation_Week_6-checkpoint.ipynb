{
 "cells": [
  {
   "cell_type": "markdown",
   "id": "64aca05e",
   "metadata": {
    "slideshow": {
     "slide_type": "slide"
    }
   },
   "source": [
    "# How To Find The Perfect Match?\n",
    "#### Recommendation System by Marcus & Anne"
   ]
  },
  {
   "cell_type": "code",
   "execution_count": 3,
   "id": "9b3129b5",
   "metadata": {
    "scrolled": true,
    "slideshow": {
     "slide_type": "fragment"
    }
   },
   "outputs": [
    {
     "data": {
      "text/html": [
       "<img src=\"giphy.gif\"/>"
      ],
      "text/plain": [
       "<IPython.core.display.Image object>"
      ]
     },
     "execution_count": 3,
     "metadata": {},
     "output_type": "execute_result"
    }
   ],
   "source": [
    "#hide_code_in_slideshow()\n",
    "from IPython.display import Image\n",
    "Image(url='giphy.gif') \n",
    "\n"
   ]
  },
  {
   "cell_type": "code",
   "execution_count": 4,
   "id": "f693c5ac",
   "metadata": {
    "slideshow": {
     "slide_type": "skip"
    }
   },
   "outputs": [],
   "source": [
    "import pandas as pd\n",
    "import ipywidgets as widgets\n",
    "from difflib import get_close_matches\n",
    "from random import randint"
   ]
  },
  {
   "cell_type": "code",
   "execution_count": 5,
   "id": "69f78f84",
   "metadata": {
    "slideshow": {
     "slide_type": "skip"
    }
   },
   "outputs": [],
   "source": [
    "#file definition\n",
    "file_past = \"df_hot_past.csv\"\n",
    "file_now = \"df_hot_current.csv\"\n",
    "file_spotify = \"results_clusters_15\"\n",
    "\n",
    "#get dataset def to load\n",
    "def get_data_set(file): \n",
    "    df = pd.read_csv(file)\n",
    "    return pd.read_csv(file)\n",
    "\n",
    "#run the get_data_set to load the data files: \"df_spotify\" is the big spotify DB, \"df\" is the hotness check DB\n",
    "df_p = get_data_set(file_past)\n",
    "df_n = get_data_set(file_now)\n",
    "df_spotify = get_data_set(file_spotify)\n",
    "frames = [df_p, df_n]\n",
    "df = pd.concat(frames)"
   ]
  },
  {
   "cell_type": "code",
   "execution_count": 6,
   "id": "b6e3317f",
   "metadata": {
    "slideshow": {
     "slide_type": "skip"
    }
   },
   "outputs": [],
   "source": [
    "#clean data set: in \"df_spotify\" and \"df\" we lower cases for song title and clean it from special characters.\n",
    "df['song_title'] = df['song_title'].apply(lambda x: x.lower().translate({ord(c): \"\" for c in \"!?/[]|{}.:()'\\\"\"}))\n",
    "df_spotify['track_name'] = df_spotify['track_name'].apply(lambda x: x.lower().translate({ord(c): \"\" for c in \"!?/[]|{}.:()'\\\"\"}))\n",
    "df_spotify.rename(columns={df_spotify.columns[0]: \"id\"}, inplace=True)"
   ]
  },
  {
   "cell_type": "markdown",
   "id": "7d585549",
   "metadata": {
    "slideshow": {
     "slide_type": "slide"
    }
   },
   "source": [
    "# #1 Scenario: The Hot Match"
   ]
  },
  {
   "cell_type": "code",
   "execution_count": 7,
   "id": "199a344a",
   "metadata": {
    "slideshow": {
     "slide_type": "fragment"
    }
   },
   "outputs": [
    {
     "data": {
      "text/html": [
       "<img src=\"match.jpg\"/>"
      ],
      "text/plain": [
       "<IPython.core.display.Image object>"
      ]
     },
     "execution_count": 7,
     "metadata": {},
     "output_type": "execute_result"
    }
   ],
   "source": [
    "from IPython.display import Image\n",
    "Image(url='match.jpg')  "
   ]
  },
  {
   "cell_type": "code",
   "execution_count": 10,
   "id": "33e899f9",
   "metadata": {
    "slideshow": {
     "slide_type": "slide"
    }
   },
   "outputs": [
    {
     "name": "stdout",
     "output_type": "stream",
     "text": [
      "What's a badass song? Peaches\n"
     ]
    }
   ],
   "source": [
    "#Example: \"Peaches\"\n",
    "\n",
    "def get_input(): \n",
    "    song_input = input(\"What's a badass song? \")\n",
    "    song_input = song_input.lower()\n",
    "    return song_input\n",
    "song_input = get_input()\n",
    "\n",
    "#Check if song is in large DB/ if input makes any sense\n",
    "def song_check_overall():\n",
    "    song_check0 = df_spotify[df_spotify['track_name'].str.contains(song_input)]\n",
    "    if len(song_check0) > 0:\n",
    "        return song_check0 \n",
    "    else:\n",
    "        get_input()\n",
    "song_check0 = song_check_overall()"
   ]
  },
  {
   "cell_type": "code",
   "execution_count": 17,
   "id": "a1097c6d",
   "metadata": {
    "slideshow": {
     "slide_type": "skip"
    }
   },
   "outputs": [],
   "source": [
    "def check_hot():\n",
    "    song_check1 = df[df['song_title'].str.contains(song_input)]\n",
    "    if len(song_check1) > 0:\n",
    "                print('I found: ' + song_check1['song_title'].values[0]+' from '+song_check1['artist'].values[0])\n",
    "                rand_line = randint(0, len(df)-1)\n",
    "                rand_song = df.iloc[rand_line,1]\n",
    "                rand_artist = df.iloc[rand_line,2]\n",
    "                rand_year = df.iloc[rand_line,3]\n",
    "                print('Based on your \"hot\" music taste, we recommend you the following song: '+rand_song+' from '+rand_artist+' released in '+str(rand_year) + \".\")\n",
    "    else:\n",
    "        print('Your song is not hot. But we will find something else for you')        \n",
    "        song_check0['cluster']"
   ]
  },
  {
   "cell_type": "markdown",
   "id": "371a0fa7",
   "metadata": {
    "slideshow": {
     "slide_type": "slide"
    }
   },
   "source": [
    "## Mhhh, what did we find? "
   ]
  },
  {
   "cell_type": "code",
   "execution_count": 18,
   "id": "3269384d",
   "metadata": {
    "slideshow": {
     "slide_type": "fragment"
    }
   },
   "outputs": [
    {
     "name": "stdout",
     "output_type": "stream",
     "text": [
      "16588                                    peaches and diesel\n",
      "22679                             apple peaches pumpkin pie\n",
      "24071                                               peaches\n",
      "26836                                       georgia peaches\n",
      "29594     apples, peaches, bananas and pears - 2006 rema...\n",
      "39057                                         three peaches\n",
      "45512                                               peaches\n",
      "61839                           apples peaches and cherries\n",
      "64800                          apples, peaches, pumpkin pie\n",
      "73324                                       peaches & cream\n",
      "78180                                    peaches en regalia\n",
      "85912                               peaches - 1996 remaster\n",
      "85927                                       georgia peaches\n",
      "88242                          peaches & cream feat p diddy\n",
      "106407                                       rotten peaches\n",
      "109892                                              peaches\n",
      "143737                               automatic feat peaches\n",
      "146973                       peaches text voter xx to 40649\n",
      "Name: track_name, dtype: object\n"
     ]
    }
   ],
   "source": [
    "#check if song exists in overall list\n",
    "print(song_check0[\"track_name\"])"
   ]
  },
  {
   "cell_type": "markdown",
   "id": "58d60238",
   "metadata": {
    "slideshow": {
     "slide_type": "slide"
    }
   },
   "source": [
    "## And is this song hot? "
   ]
  },
  {
   "cell_type": "code",
   "execution_count": 19,
   "id": "b09ab80e",
   "metadata": {
    "slideshow": {
     "slide_type": "fragment"
    }
   },
   "outputs": [
    {
     "name": "stdout",
     "output_type": "stream",
     "text": [
      "I found: peaches from Justin Bieber Featuring Daniel Caesar & Giveon\n",
      "Based on your \"hot\" music taste, we recommend you the following song: when you say nothing at all from Alison Krauss released in 1995.\n"
     ]
    }
   ],
   "source": [
    "check_hot()"
   ]
  },
  {
   "cell_type": "code",
   "execution_count": 36,
   "id": "0cd4b6b9",
   "metadata": {
    "slideshow": {
     "slide_type": "fragment"
    }
   },
   "outputs": [
    {
     "data": {
      "text/html": [
       "<img src=\"justin.gif\"/>"
      ],
      "text/plain": [
       "<IPython.core.display.Image object>"
      ]
     },
     "execution_count": 36,
     "metadata": {},
     "output_type": "execute_result"
    }
   ],
   "source": [
    "from IPython.display import Image\n",
    "Image(url='justin.gif')  "
   ]
  },
  {
   "cell_type": "markdown",
   "id": "a5e63f7a",
   "metadata": {
    "slideshow": {
     "slide_type": "slide"
    }
   },
   "source": [
    "# #2 Scenario: What If Not Hot? "
   ]
  },
  {
   "cell_type": "code",
   "execution_count": 41,
   "id": "d8e92ffa",
   "metadata": {
    "scrolled": false,
    "slideshow": {
     "slide_type": "fragment"
    }
   },
   "outputs": [
    {
     "data": {
      "text/html": [
       "<img src=\"not_hot.jpg\"/>"
      ],
      "text/plain": [
       "<IPython.core.display.Image object>"
      ]
     },
     "execution_count": 41,
     "metadata": {},
     "output_type": "execute_result"
    }
   ],
   "source": [
    "from IPython.display import Image\n",
    "Image(url='not_hot.jpg')  "
   ]
  },
  {
   "cell_type": "markdown",
   "id": "bf61a2f5",
   "metadata": {
    "slideshow": {
     "slide_type": "slide"
    }
   },
   "source": [
    "## Let's check..."
   ]
  },
  {
   "cell_type": "code",
   "execution_count": 22,
   "id": "5a4ea59a",
   "metadata": {
    "slideshow": {
     "slide_type": "fragment"
    }
   },
   "outputs": [
    {
     "name": "stdout",
     "output_type": "stream",
     "text": [
      "What's a badass song? la vie en rose\n"
     ]
    }
   ],
   "source": [
    "#Example: \"La Vie en Rose\"\n",
    "\n",
    "def get_input(): \n",
    "    song_input = input(\"What's a badass song? \")\n",
    "    song_input = song_input.lower()\n",
    "    return song_input\n",
    "song_input = get_input()\n",
    "\n",
    "#Check if song is in large DB/ if input makes any sense\n",
    "def song_check_overall():\n",
    "    song_check0 = df_spotify[df_spotify['track_name'].str.contains(song_input)]\n",
    "    if len(song_check0) > 0:\n",
    "        return song_check0 \n",
    "    else:\n",
    "        print('Sorry, we were not able to recognise your song... please give it another try')\n",
    "        get_input()\n",
    "song_check0 = song_check_overall()"
   ]
  },
  {
   "cell_type": "code",
   "execution_count": 30,
   "id": "f803bd8d",
   "metadata": {
    "slideshow": {
     "slide_type": "skip"
    }
   },
   "outputs": [],
   "source": [
    "def check_hot():\n",
    "    song_check1 = df[df['song_title'].str.contains(song_input)]\n",
    "    if len(song_check1) > 0:\n",
    "                print('I found: ' + song_check1['song_title'].values[0]+' from '+song_check1['artist'].values[0])\n",
    "                rand_line = randint(0, len(df)-1)\n",
    "                rand_song = df.iloc[rand_line,1]\n",
    "                rand_artist = df.iloc[rand_line,2]\n",
    "                rand_year = df.iloc[rand_line,3]\n",
    "                print('Based on your excellent music taste, we recommend you: '+rand_song+' from: '+rand_artist+' released in: '+str(rand_year))\n",
    "    else:\n",
    "        print(\"We're afraid, your song is so not hot right now. But we will find something else for you!\")"
   ]
  },
  {
   "cell_type": "code",
   "execution_count": 31,
   "id": "8af63fe0",
   "metadata": {
    "slideshow": {
     "slide_type": "fragment"
    }
   },
   "outputs": [
    {
     "name": "stdout",
     "output_type": "stream",
     "text": [
      "We're afraid, your song is so not hot right now. But we will find something else for you!\n"
     ]
    }
   ],
   "source": [
    "check_hot()"
   ]
  },
  {
   "cell_type": "markdown",
   "id": "021bc3da",
   "metadata": {
    "slideshow": {
     "slide_type": "slide"
    }
   },
   "source": [
    "## How do we recommend a 'not hot' song? "
   ]
  },
  {
   "cell_type": "code",
   "execution_count": 52,
   "id": "937b3c3a",
   "metadata": {
    "scrolled": true,
    "slideshow": {
     "slide_type": "fragment"
    }
   },
   "outputs": [
    {
     "name": "stdout",
     "output_type": "stream",
     "text": [
      "6131                       la vie en rose\n",
      "29285                      la vie en rose\n",
      "72382     la vie en rose - single version\n",
      "84599                      la vie en rose\n",
      "85904                      la vie en rose\n",
      "86714                      la vie en rose\n",
      "91732                      la vie en rose\n",
      "108397                     la vie en rose\n",
      "118478                     la vie en rose\n",
      "151824                     la vie en rose\n",
      "Name: track_name, dtype: object\n"
     ]
    }
   ],
   "source": [
    "# Check again, if song exists in overall list \n",
    "# We choose first option (alternative: better ask)\n",
    "\n",
    "print(song_check0[\"track_name\"])"
   ]
  },
  {
   "cell_type": "code",
   "execution_count": 61,
   "id": "31d07995",
   "metadata": {
    "slideshow": {
     "slide_type": "skip"
    }
   },
   "outputs": [
    {
     "name": "stdout",
     "output_type": "stream",
     "text": [
      "We recommend: breakfast feud feat benny goodman & charlie christian from benny goodman sextet released in 1940\n"
     ]
    }
   ],
   "source": [
    "#Here we filter our DB to the cluster that was taken from the input song from the user\n",
    "#We then run a randomizer to pick a song from that clustered DF\n",
    "\n",
    "\n",
    "cluster=song_check0['Cluster'].values[0]\n",
    "#cluster\n",
    "\n",
    "df_cluster = df_spotify[(df_spotify[\"Cluster\"]==cluster)]\n",
    "df_cluster\n",
    "rand_line = randint(0, len(df_cluster)-1)\n",
    "rand_song = df_cluster.iloc[rand_line,12]\n",
    "rand_artist = df_cluster.iloc[rand_line,1]\n",
    "rand_year = df_cluster.iloc[rand_line,14]\n",
    "print('We recommend: '+rand_song+' from '+rand_artist+' released in ' +str(rand_year))"
   ]
  },
  {
   "cell_type": "markdown",
   "id": "ba92d0dd",
   "metadata": {
    "slideshow": {
     "slide_type": "slide"
    }
   },
   "source": [
    "# How many clusters did we choose? "
   ]
  },
  {
   "cell_type": "code",
   "execution_count": 64,
   "id": "032429e5",
   "metadata": {
    "slideshow": {
     "slide_type": "fragment"
    }
   },
   "outputs": [
    {
     "data": {
      "text/html": [
       "<img src=\"ellbow.png\"/>"
      ],
      "text/plain": [
       "<IPython.core.display.Image object>"
      ]
     },
     "execution_count": 64,
     "metadata": {},
     "output_type": "execute_result"
    }
   ],
   "source": [
    "from IPython.display import Image\n",
    "Image(url='ellbow.png')  "
   ]
  },
  {
   "cell_type": "markdown",
   "id": "1d1cb9f3",
   "metadata": {
    "slideshow": {
     "slide_type": "slide"
    }
   },
   "source": [
    "## In what cluster is Edith Piaf's \"La Vie en Rose\"?"
   ]
  },
  {
   "cell_type": "code",
   "execution_count": 65,
   "id": "db8acee7",
   "metadata": {
    "slideshow": {
     "slide_type": "fragment"
    }
   },
   "outputs": [
    {
     "data": {
      "text/html": [
       "<img src=\"edith.gif\"/>"
      ],
      "text/plain": [
       "<IPython.core.display.Image object>"
      ]
     },
     "execution_count": 65,
     "metadata": {},
     "output_type": "execute_result"
    }
   ],
   "source": [
    "from IPython.display import Image\n",
    "Image(url='edith.gif')  "
   ]
  },
  {
   "cell_type": "code",
   "execution_count": 66,
   "id": "1fa34bf5",
   "metadata": {
    "slideshow": {
     "slide_type": "subslide"
    }
   },
   "outputs": [
    {
     "data": {
      "text/plain": [
       "10"
      ]
     },
     "execution_count": 66,
     "metadata": {},
     "output_type": "execute_result"
    }
   ],
   "source": [
    "#Please show me the cluster\n",
    "cluster"
   ]
  },
  {
   "cell_type": "markdown",
   "id": "8678f896",
   "metadata": {
    "slideshow": {
     "slide_type": "slide"
    }
   },
   "source": [
    "# Cluster Visualisation"
   ]
  },
  {
   "cell_type": "code",
   "execution_count": 69,
   "id": "08ef09e1",
   "metadata": {
    "slideshow": {
     "slide_type": "fragment"
    }
   },
   "outputs": [
    {
     "data": {
      "text/html": [
       "<img src=\"scatterplot.png\"/>"
      ],
      "text/plain": [
       "<IPython.core.display.Image object>"
      ]
     },
     "execution_count": 69,
     "metadata": {},
     "output_type": "execute_result"
    }
   ],
   "source": [
    "from IPython.display import Image\n",
    "Image(url='scatterplot.png')  "
   ]
  },
  {
   "cell_type": "markdown",
   "id": "948ca3c4",
   "metadata": {
    "slideshow": {
     "slide_type": "slide"
    }
   },
   "source": [
    "# #3 Scenario: No Match"
   ]
  },
  {
   "cell_type": "code",
   "execution_count": 70,
   "id": "d665334e",
   "metadata": {
    "scrolled": true,
    "slideshow": {
     "slide_type": "fragment"
    }
   },
   "outputs": [
    {
     "data": {
      "text/html": [
       "<img src=\"nomatch.gif\"/>"
      ],
      "text/plain": [
       "<IPython.core.display.Image object>"
      ]
     },
     "execution_count": 70,
     "metadata": {},
     "output_type": "execute_result"
    }
   ],
   "source": [
    "from IPython.display import Image\n",
    "Image(url='nomatch.gif')  "
   ]
  },
  {
   "cell_type": "markdown",
   "id": "86812bdc",
   "metadata": {
    "slideshow": {
     "slide_type": "slide"
    }
   },
   "source": [
    "### Happy path (theoretically)"
   ]
  },
  {
   "cell_type": "code",
   "execution_count": null,
   "id": "39937444",
   "metadata": {
    "slideshow": {
     "slide_type": "fragment"
    }
   },
   "outputs": [],
   "source": [
    "# Check with user if input is correct\n",
    "# If yes, search track_name (and artist) on Spotify \n",
    "searchResults = spotifyObject.search(q=\"artist:\" + artist + \" track:\" + searchQuery, type=\"track\")"
   ]
  },
  {
   "cell_type": "code",
   "execution_count": null,
   "id": "f8b4c7e6",
   "metadata": {
    "slideshow": {
     "slide_type": "fragment"
    }
   },
   "outputs": [],
   "source": [
    "# Display matches and extract track_id of particular song\n",
    "track(track_id)"
   ]
  },
  {
   "cell_type": "code",
   "execution_count": null,
   "id": "ace54651",
   "metadata": {
    "slideshow": {
     "slide_type": "fragment"
    }
   },
   "outputs": [],
   "source": [
    "# Get audio_features of particular song \n",
    "sp.audio_features(song[\"tracks\"][\"items\"][0][\"uri\"])[0]"
   ]
  },
  {
   "cell_type": "code",
   "execution_count": null,
   "id": "957a4705",
   "metadata": {
    "slideshow": {
     "slide_type": "fragment"
    }
   },
   "outputs": [],
   "source": [
    "# Feed model with input and predict cluster\n",
    "prediction = kmeans_model.predict(audio_features)"
   ]
  },
  {
   "cell_type": "code",
   "execution_count": null,
   "id": "82d5ac54",
   "metadata": {
    "slideshow": {
     "slide_type": "fragment"
    }
   },
   "outputs": [],
   "source": [
    "# Recommend song from same cluster \n",
    "song_recommend = df[df.cluster == prediction].sample(n=1)"
   ]
  },
  {
   "cell_type": "code",
   "execution_count": null,
   "id": "e6589023",
   "metadata": {
    "slideshow": {
     "slide_type": "fragment"
    }
   },
   "outputs": [],
   "source": [
    "# Add song with all features to our database\n",
    "pd.df.append()"
   ]
  }
 ],
 "metadata": {
  "celltoolbar": "Slideshow",
  "kernelspec": {
   "display_name": "Python 3",
   "language": "python",
   "name": "python3"
  },
  "language_info": {
   "codemirror_mode": {
    "name": "ipython",
    "version": 3
   },
   "file_extension": ".py",
   "mimetype": "text/x-python",
   "name": "python",
   "nbconvert_exporter": "python",
   "pygments_lexer": "ipython3",
   "version": "3.8.8"
  }
 },
 "nbformat": 4,
 "nbformat_minor": 5
}

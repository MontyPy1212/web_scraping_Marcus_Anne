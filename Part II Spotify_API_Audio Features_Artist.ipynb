{
 "cells": [
  {
   "cell_type": "markdown",
   "metadata": {},
   "source": [
    "# Part II Getting our Audio Features for Top100 Hotlist"
   ]
  },
  {
   "cell_type": "markdown",
   "metadata": {},
   "source": [
    "Goal: Generate a 5k list with diff audio features from diff authors based on our hot list \n",
    "\n",
    "1. Start with only one song and figure out which query etc. (done) \n",
    "\n",
    "2. Get Several Authors and their albums \n",
    "3. Feed quere with all album and / or track ids "
   ]
  },
  {
   "cell_type": "markdown",
   "metadata": {
    "id": "-M3QFIFrKdPt"
   },
   "source": [
    "## Installing Spotipy"
   ]
  },
  {
   "cell_type": "markdown",
   "metadata": {
    "id": "o2ooSokHKfsd"
   },
   "source": [
    "In order to use the Spotify API (SpotiPy) we will have to create an account in Spotify and follow these steps. Once we have done it we will start initializing the API and look at the search method for which we can introduce a \"query\" q, in this example we will try it with Lady Gaga:"
   ]
  },
  {
   "cell_type": "code",
   "execution_count": null,
   "metadata": {
    "colab": {
     "base_uri": "https://localhost:8080/"
    },
    "executionInfo": {
     "elapsed": 5245,
     "status": "ok",
     "timestamp": 1623745902730,
     "user": {
      "displayName": "Ignacio Soteras",
      "photoUrl": "",
      "userId": "02050793736257155229"
     },
     "user_tz": -120
    },
    "id": "tis_6tTpKY1Z",
    "outputId": "adfb4763-04d9-4b55-b0d8-c5e317263072"
   },
   "outputs": [],
   "source": [
    "#!pip install spotipy"
   ]
  },
  {
   "cell_type": "markdown",
   "metadata": {
    "id": "fnhh4ayEOKz4"
   },
   "source": [
    "## Loading credentials from another config file"
   ]
  },
  {
   "cell_type": "code",
   "execution_count": 1,
   "metadata": {},
   "outputs": [],
   "source": [
    "import config\n",
    "import spotipy\n",
    "import json\n",
    "from spotipy.oauth2 import SpotifyClientCredentials\n",
    "import pandas as pd\n",
    "\n",
    "#client_id = \"5622c0f1f94243ffa051cfbdf4734578\"\n",
    "#client_secret = \"5622c0f1f94243ffa051cfbdf4734578\"\n",
    "\n",
    "#Initialize SpotiPy with user credentias\n",
    "sp = spotipy.Spotify(auth_manager=SpotifyClientCredentials(client_id= config.client_id,\n",
    "                                                           client_secret= config.client_secret))"
   ]
  },
  {
   "cell_type": "markdown",
   "metadata": {},
   "source": [
    "## Load data file "
   ]
  },
  {
   "cell_type": "code",
   "execution_count": null,
   "metadata": {},
   "outputs": [],
   "source": [
    "#df_input = pd.read_csv (\"../web_scraping_Marcus_Anne/list_2000.csv\") #'Path where the CSV file is stored\\df.csv')\n",
    "#df_input.head(14)"
   ]
  },
  {
   "cell_type": "code",
   "execution_count": null,
   "metadata": {},
   "outputs": [],
   "source": [
    "df_input[\"Song Artist\"].value_counts()"
   ]
  },
  {
   "cell_type": "code",
   "execution_count": null,
   "metadata": {},
   "outputs": [],
   "source": [
    "382*10"
   ]
  },
  {
   "cell_type": "code",
   "execution_count": null,
   "metadata": {},
   "outputs": [],
   "source": [
    "#simple way\n",
    "\n",
    "artist = \"Prince\"\n",
    "\n",
    "#song = sp.search(q=\"prince\", limit=10) \n",
    "song = sp.search(q=artist, limit=5) \n",
    "\n",
    "#pprint.pprint(song['tracks']['items'][0]['uri'])\n",
    "song[\"tracks\"][\"items\"][0][\"uri\"]\n",
    "sp.audio_features(song[\"tracks\"][\"items\"][0][\"uri\"])[0]"
   ]
  },
  {
   "cell_type": "code",
   "execution_count": null,
   "metadata": {},
   "outputs": [],
   "source": [
    "#transform into a dataframe \n",
    "my_dict = sp.audio_features(song[\"tracks\"][\"items\"][0][\"uri\"])[0] # you can provide a list of uri's\n",
    "\n",
    "print(my_dict)\n",
    "my_dict_new = { key: [my_dict[key]] for key in list(my_dict.keys()) }\n",
    "\n",
    "#my_dict_new['name'] = [song[\"tracks\"][\"items\"][0]['name']]\n",
    "print(my_dict_new)\n",
    "\n",
    "pd.DataFrame(my_dict_new)"
   ]
  },
  {
   "cell_type": "markdown",
   "metadata": {},
   "source": [
    "### Test "
   ]
  },
  {
   "cell_type": "code",
   "execution_count": 2,
   "metadata": {},
   "outputs": [],
   "source": [
    "from tqdm import tqdm_notebook"
   ]
  },
  {
   "cell_type": "code",
   "execution_count": 3,
   "metadata": {},
   "outputs": [],
   "source": [
    "def artist_tracks(artists):\n",
    "    \n",
    "    '''\n",
    "    Takes a list of artist names, iterates through their Spotify albums, checks for \n",
    "    duplicate albums, then appends all the tracks in those albums to a list of lists\n",
    "    '''\n",
    "    \n",
    "    # Each list in this list will be a track and its features\n",
    "    tracks = []\n",
    "    \n",
    "    \n",
    "    for artist in tqdm_notebook(artists):\n",
    "        \n",
    "        # Get the artist URI (a unique ID)\n",
    "        artist_uri = sp.search(artist)['tracks']['items'][0]['artists'][0]['uri']\n",
    "\n",
    "        # Spotify has a lot of duplicate albums, but we'll cross-reference them with this list to avoid extra loops\n",
    "        album_checker = []\n",
    "        \n",
    "        # The starting point of our loop of albums for those artists with more than 50\n",
    "        n = 0\n",
    "        \n",
    "        # Note the album_type = 'album'. This discounts singles, compilations and collaborations\n",
    "        while len(sp.artist_albums(artist_uri, album_type = 'album', limit=50, offset = n)['items']) > 0:\n",
    "            \n",
    "            # Avoid overloading Spotify with requests by assigning the list of album dictionaries to a variable\n",
    "            dict_list = sp.artist_albums(artist_uri, album_type = 'album', limit=50, offset = n)['items']\n",
    "            \n",
    "            for i, album in tqdm_notebook(enumerate(dict_list)):\n",
    "\n",
    "                # Add the featured artists for the album in question to the checklist\n",
    "                check_this_album = [j['name'] for j in dict_list[i]['artists']]\n",
    "                # And the album name\n",
    "                check_this_album.append(dict_list[i]['name'])\n",
    "                # And its date\n",
    "                check_this_album.append(dict_list[i]['release_date'])\n",
    "\n",
    "                # Only continue looping if that album isn't in the checklist\n",
    "                if check_this_album not in album_checker:\n",
    "                    \n",
    "                    # Add this album to the checker\n",
    "                    album_checker.append(check_this_album)\n",
    "                    # For every song on the album, get its descriptors and features in a list and add to the tracklist\n",
    "                    tracks.extend([[artist, album['name'], album['uri'], song['name'],\n",
    "\n",
    "                      album['release_date']] + list(sp.audio_features(song['uri'])[0].values()) \n",
    "                                   for song in sp.album_tracks(album['uri'])['items']])\n",
    "            \n",
    "            # Go through the next 50 albums (otherwise we'll get an infinite while loop)\n",
    "            n += 50\n",
    "\n",
    "    return tracks"
   ]
  },
  {
   "cell_type": "code",
   "execution_count": 4,
   "metadata": {},
   "outputs": [],
   "source": [
    "tracks_list = ['Ciara ',\n",
    "'Plain White Ts',\n",
    "'Counting Crows',\n",
    "'Kid Rock',\n",
    "'Lady Gaga',\n",
    "'U2',\n",
    "'Jack Johnson',\n",
    "'Jason Aldean',\n",
    "'Jamie Foxx ',\n",
    "'Rascal Flatts',\n",
    "'Black Eyed Peas',\n",
    "'N Sync',\n",
    "'Mr. C The Slide Man',\n",
    "'Zac Brown Band',\n",
    "'Fergie',\n",
    "'Norah Jones',\n",
    "'Soulja Boy',\n",
    "'Cupid',\n",
    "'Baby Bash ',\n",
    "'Jay Sean ']"
   ]
  },
  {
   "cell_type": "code",
   "execution_count": 5,
   "metadata": {
    "scrolled": true
   },
   "outputs": [
    {
     "name": "stderr",
     "output_type": "stream",
     "text": [
      "<ipython-input-3-99c3e4f8f852>:12: TqdmDeprecationWarning: This function will be removed in tqdm==5.0.0\n",
      "Please use `tqdm.notebook.tqdm` instead of `tqdm.tqdm_notebook`\n",
      "  for artist in tqdm_notebook(artists):\n"
     ]
    },
    {
     "data": {
      "application/vnd.jupyter.widget-view+json": {
       "model_id": "d45ffa498d6c407ca9268ac51195cbe8",
       "version_major": 2,
       "version_minor": 0
      },
      "text/plain": [
       "  0%|          | 0/20 [00:00<?, ?it/s]"
      ]
     },
     "metadata": {},
     "output_type": "display_data"
    },
    {
     "name": "stderr",
     "output_type": "stream",
     "text": [
      "<ipython-input-3-99c3e4f8f852>:29: TqdmDeprecationWarning: This function will be removed in tqdm==5.0.0\n",
      "Please use `tqdm.notebook.tqdm` instead of `tqdm.tqdm_notebook`\n",
      "  for i, album in tqdm_notebook(enumerate(dict_list)):\n"
     ]
    },
    {
     "data": {
      "application/vnd.jupyter.widget-view+json": {
       "model_id": "1a0c118c9a784ad58b730d304431db8c",
       "version_major": 2,
       "version_minor": 0
      },
      "text/plain": [
       "0it [00:00, ?it/s]"
      ]
     },
     "metadata": {},
     "output_type": "display_data"
    },
    {
     "data": {
      "application/vnd.jupyter.widget-view+json": {
       "model_id": "09189eb7d7e841a589518a0b61203c30",
       "version_major": 2,
       "version_minor": 0
      },
      "text/plain": [
       "0it [00:00, ?it/s]"
      ]
     },
     "metadata": {},
     "output_type": "display_data"
    },
    {
     "data": {
      "application/vnd.jupyter.widget-view+json": {
       "model_id": "38f41524f4a04396b4013ce68964105a",
       "version_major": 2,
       "version_minor": 0
      },
      "text/plain": [
       "0it [00:00, ?it/s]"
      ]
     },
     "metadata": {},
     "output_type": "display_data"
    },
    {
     "data": {
      "application/vnd.jupyter.widget-view+json": {
       "model_id": "20196a8f53ee426c94f26b80eb9d772a",
       "version_major": 2,
       "version_minor": 0
      },
      "text/plain": [
       "0it [00:00, ?it/s]"
      ]
     },
     "metadata": {},
     "output_type": "display_data"
    },
    {
     "data": {
      "application/vnd.jupyter.widget-view+json": {
       "model_id": "c441629a350c4dc69c5e73549096126a",
       "version_major": 2,
       "version_minor": 0
      },
      "text/plain": [
       "0it [00:00, ?it/s]"
      ]
     },
     "metadata": {},
     "output_type": "display_data"
    },
    {
     "data": {
      "application/vnd.jupyter.widget-view+json": {
       "model_id": "09e688cf71d34b0b93d49f050f0d6589",
       "version_major": 2,
       "version_minor": 0
      },
      "text/plain": [
       "0it [00:00, ?it/s]"
      ]
     },
     "metadata": {},
     "output_type": "display_data"
    },
    {
     "data": {
      "application/vnd.jupyter.widget-view+json": {
       "model_id": "33678a18b04b461b93fc4997c9faf2a0",
       "version_major": 2,
       "version_minor": 0
      },
      "text/plain": [
       "0it [00:00, ?it/s]"
      ]
     },
     "metadata": {},
     "output_type": "display_data"
    },
    {
     "data": {
      "application/vnd.jupyter.widget-view+json": {
       "model_id": "76fa3b4441da4ae5a68e3964bc0a7791",
       "version_major": 2,
       "version_minor": 0
      },
      "text/plain": [
       "0it [00:00, ?it/s]"
      ]
     },
     "metadata": {},
     "output_type": "display_data"
    },
    {
     "data": {
      "application/vnd.jupyter.widget-view+json": {
       "model_id": "e73c8d324c274120a3ce1422b09b90bf",
       "version_major": 2,
       "version_minor": 0
      },
      "text/plain": [
       "0it [00:00, ?it/s]"
      ]
     },
     "metadata": {},
     "output_type": "display_data"
    },
    {
     "data": {
      "application/vnd.jupyter.widget-view+json": {
       "model_id": "8cd1f771012b46bab8d9615eca11ed01",
       "version_major": 2,
       "version_minor": 0
      },
      "text/plain": [
       "0it [00:00, ?it/s]"
      ]
     },
     "metadata": {},
     "output_type": "display_data"
    },
    {
     "data": {
      "application/vnd.jupyter.widget-view+json": {
       "model_id": "d335f110ffa443e1a26b154f44d94a42",
       "version_major": 2,
       "version_minor": 0
      },
      "text/plain": [
       "0it [00:00, ?it/s]"
      ]
     },
     "metadata": {},
     "output_type": "display_data"
    },
    {
     "data": {
      "application/vnd.jupyter.widget-view+json": {
       "model_id": "4d655655ec32490d913c6a4c54f5d249",
       "version_major": 2,
       "version_minor": 0
      },
      "text/plain": [
       "0it [00:00, ?it/s]"
      ]
     },
     "metadata": {},
     "output_type": "display_data"
    },
    {
     "data": {
      "application/vnd.jupyter.widget-view+json": {
       "model_id": "c7df646f15024c29a055237eb5109914",
       "version_major": 2,
       "version_minor": 0
      },
      "text/plain": [
       "0it [00:00, ?it/s]"
      ]
     },
     "metadata": {},
     "output_type": "display_data"
    },
    {
     "data": {
      "application/vnd.jupyter.widget-view+json": {
       "model_id": "f15185978a894bdf8ad525739a27e619",
       "version_major": 2,
       "version_minor": 0
      },
      "text/plain": [
       "0it [00:00, ?it/s]"
      ]
     },
     "metadata": {},
     "output_type": "display_data"
    },
    {
     "data": {
      "application/vnd.jupyter.widget-view+json": {
       "model_id": "1f68be289ba1481585a5b0ae90814a7c",
       "version_major": 2,
       "version_minor": 0
      },
      "text/plain": [
       "0it [00:00, ?it/s]"
      ]
     },
     "metadata": {},
     "output_type": "display_data"
    },
    {
     "data": {
      "application/vnd.jupyter.widget-view+json": {
       "model_id": "84831f7792f24a5f874ceae41c0210c9",
       "version_major": 2,
       "version_minor": 0
      },
      "text/plain": [
       "0it [00:00, ?it/s]"
      ]
     },
     "metadata": {},
     "output_type": "display_data"
    },
    {
     "data": {
      "application/vnd.jupyter.widget-view+json": {
       "model_id": "8bdba2d6f66e4a90801578980e77593a",
       "version_major": 2,
       "version_minor": 0
      },
      "text/plain": [
       "0it [00:00, ?it/s]"
      ]
     },
     "metadata": {},
     "output_type": "display_data"
    },
    {
     "data": {
      "application/vnd.jupyter.widget-view+json": {
       "model_id": "9ad7e565f9e2443a9b0040043dbf7304",
       "version_major": 2,
       "version_minor": 0
      },
      "text/plain": [
       "0it [00:00, ?it/s]"
      ]
     },
     "metadata": {},
     "output_type": "display_data"
    },
    {
     "data": {
      "application/vnd.jupyter.widget-view+json": {
       "model_id": "d38c614e0fa54a3ea82e3112902a7580",
       "version_major": 2,
       "version_minor": 0
      },
      "text/plain": [
       "0it [00:00, ?it/s]"
      ]
     },
     "metadata": {},
     "output_type": "display_data"
    }
   ],
   "source": [
    "tracks_test = artist_tracks(tracks_list) "
   ]
  },
  {
   "cell_type": "code",
   "execution_count": 6,
   "metadata": {},
   "outputs": [],
   "source": [
    "def df_tracks(tracks_test):\n",
    "    \n",
    "    '''\n",
    "    Takes the output of artist_tracks (i.e. a list of lists),\n",
    "    puts it in a dataframe and formats it.\n",
    "    '''\n",
    "\n",
    "    df = pd.DataFrame(tracks_test, columns=['artist',\n",
    "     'album_name',\n",
    "     'album_uri',\n",
    "     'track',\n",
    "     'release_date'] + list(sp.audio_features('7tr2za8SQg2CI8EDgrdtNl')[0].keys()))\n",
    "\n",
    "    df.rename(columns={'uri':'song_uri'}, inplace=True)\n",
    "\n",
    "    df.drop_duplicates(subset=['artist', 'track', 'release_date'], inplace=True)\n",
    "\n",
    "    # Reorder the cols to have identifiers first, auditory features last\n",
    "    cols = ['artist', 'album_name', 'album_uri', 'track', 'release_date', 'id', 'song_uri', 'track_href',\n",
    "     'analysis_url', 'type', 'danceability', 'energy', 'key',  'loudness', 'mode', 'speechiness',\n",
    "     'acousticness', 'instrumentalness', 'liveness', 'valence', 'tempo', 'duration_ms', 'time_signature']\n",
    "\n",
    "    df = df[cols]\n",
    "    \n",
    "    return df"
   ]
  },
  {
   "cell_type": "code",
   "execution_count": 7,
   "metadata": {
    "scrolled": true
   },
   "outputs": [],
   "source": [
    "new = df_tracks(tracks_test)\n"
   ]
  },
  {
   "cell_type": "code",
   "execution_count": 8,
   "metadata": {
    "scrolled": true
   },
   "outputs": [
    {
     "data": {
      "text/html": [
       "<div>\n",
       "<style scoped>\n",
       "    .dataframe tbody tr th:only-of-type {\n",
       "        vertical-align: middle;\n",
       "    }\n",
       "\n",
       "    .dataframe tbody tr th {\n",
       "        vertical-align: top;\n",
       "    }\n",
       "\n",
       "    .dataframe thead th {\n",
       "        text-align: right;\n",
       "    }\n",
       "</style>\n",
       "<table border=\"1\" class=\"dataframe\">\n",
       "  <thead>\n",
       "    <tr style=\"text-align: right;\">\n",
       "      <th></th>\n",
       "      <th>artist</th>\n",
       "      <th>album_name</th>\n",
       "      <th>album_uri</th>\n",
       "      <th>track</th>\n",
       "      <th>release_date</th>\n",
       "      <th>id</th>\n",
       "      <th>song_uri</th>\n",
       "      <th>track_href</th>\n",
       "      <th>analysis_url</th>\n",
       "      <th>type</th>\n",
       "      <th>...</th>\n",
       "      <th>loudness</th>\n",
       "      <th>mode</th>\n",
       "      <th>speechiness</th>\n",
       "      <th>acousticness</th>\n",
       "      <th>instrumentalness</th>\n",
       "      <th>liveness</th>\n",
       "      <th>valence</th>\n",
       "      <th>tempo</th>\n",
       "      <th>duration_ms</th>\n",
       "      <th>time_signature</th>\n",
       "    </tr>\n",
       "  </thead>\n",
       "  <tbody>\n",
       "    <tr>\n",
       "      <th>0</th>\n",
       "      <td>Ciara</td>\n",
       "      <td>Beauty Marks</td>\n",
       "      <td>spotify:album:1Ww0yZ7iXbzkE5duwnMVNI</td>\n",
       "      <td>I Love Myself (feat. Macklemore)</td>\n",
       "      <td>2019-05-10</td>\n",
       "      <td>2BlIvqI6iRD69wmbWEWJBQ</td>\n",
       "      <td>spotify:track:2BlIvqI6iRD69wmbWEWJBQ</td>\n",
       "      <td>https://api.spotify.com/v1/tracks/2BlIvqI6iRD6...</td>\n",
       "      <td>https://api.spotify.com/v1/audio-analysis/2BlI...</td>\n",
       "      <td>audio_features</td>\n",
       "      <td>...</td>\n",
       "      <td>-4.345</td>\n",
       "      <td>1</td>\n",
       "      <td>0.2930</td>\n",
       "      <td>0.2240</td>\n",
       "      <td>0.000000</td>\n",
       "      <td>0.1370</td>\n",
       "      <td>0.563</td>\n",
       "      <td>79.970</td>\n",
       "      <td>328497</td>\n",
       "      <td>4</td>\n",
       "    </tr>\n",
       "    <tr>\n",
       "      <th>1</th>\n",
       "      <td>Ciara</td>\n",
       "      <td>Beauty Marks</td>\n",
       "      <td>spotify:album:1Ww0yZ7iXbzkE5duwnMVNI</td>\n",
       "      <td>Level Up</td>\n",
       "      <td>2019-05-10</td>\n",
       "      <td>7ssEhls1ZYEGtBsoovkMSe</td>\n",
       "      <td>spotify:track:7ssEhls1ZYEGtBsoovkMSe</td>\n",
       "      <td>https://api.spotify.com/v1/tracks/7ssEhls1ZYEG...</td>\n",
       "      <td>https://api.spotify.com/v1/audio-analysis/7ssE...</td>\n",
       "      <td>audio_features</td>\n",
       "      <td>...</td>\n",
       "      <td>-4.666</td>\n",
       "      <td>1</td>\n",
       "      <td>0.1690</td>\n",
       "      <td>0.0142</td>\n",
       "      <td>0.010700</td>\n",
       "      <td>0.1210</td>\n",
       "      <td>0.584</td>\n",
       "      <td>152.914</td>\n",
       "      <td>204150</td>\n",
       "      <td>4</td>\n",
       "    </tr>\n",
       "    <tr>\n",
       "      <th>2</th>\n",
       "      <td>Ciara</td>\n",
       "      <td>Beauty Marks</td>\n",
       "      <td>spotify:album:1Ww0yZ7iXbzkE5duwnMVNI</td>\n",
       "      <td>Set</td>\n",
       "      <td>2019-05-10</td>\n",
       "      <td>0RdtNKSNJ3mkg7W988BjGN</td>\n",
       "      <td>spotify:track:0RdtNKSNJ3mkg7W988BjGN</td>\n",
       "      <td>https://api.spotify.com/v1/tracks/0RdtNKSNJ3mk...</td>\n",
       "      <td>https://api.spotify.com/v1/audio-analysis/0Rdt...</td>\n",
       "      <td>audio_features</td>\n",
       "      <td>...</td>\n",
       "      <td>-4.386</td>\n",
       "      <td>0</td>\n",
       "      <td>0.1960</td>\n",
       "      <td>0.0663</td>\n",
       "      <td>0.000269</td>\n",
       "      <td>0.8730</td>\n",
       "      <td>0.677</td>\n",
       "      <td>80.993</td>\n",
       "      <td>176848</td>\n",
       "      <td>4</td>\n",
       "    </tr>\n",
       "    <tr>\n",
       "      <th>3</th>\n",
       "      <td>Ciara</td>\n",
       "      <td>Beauty Marks</td>\n",
       "      <td>spotify:album:1Ww0yZ7iXbzkE5duwnMVNI</td>\n",
       "      <td>Thinkin Bout You</td>\n",
       "      <td>2019-05-10</td>\n",
       "      <td>594trlRjNdTyYLwIlcDaJM</td>\n",
       "      <td>spotify:track:594trlRjNdTyYLwIlcDaJM</td>\n",
       "      <td>https://api.spotify.com/v1/tracks/594trlRjNdTy...</td>\n",
       "      <td>https://api.spotify.com/v1/audio-analysis/594t...</td>\n",
       "      <td>audio_features</td>\n",
       "      <td>...</td>\n",
       "      <td>-4.375</td>\n",
       "      <td>0</td>\n",
       "      <td>0.0437</td>\n",
       "      <td>0.1210</td>\n",
       "      <td>0.007500</td>\n",
       "      <td>0.0939</td>\n",
       "      <td>0.819</td>\n",
       "      <td>106.988</td>\n",
       "      <td>228560</td>\n",
       "      <td>4</td>\n",
       "    </tr>\n",
       "    <tr>\n",
       "      <th>4</th>\n",
       "      <td>Ciara</td>\n",
       "      <td>Beauty Marks</td>\n",
       "      <td>spotify:album:1Ww0yZ7iXbzkE5duwnMVNI</td>\n",
       "      <td>Trust Myself</td>\n",
       "      <td>2019-05-10</td>\n",
       "      <td>3ZJRRdGN21Y9b7v9ajza3f</td>\n",
       "      <td>spotify:track:3ZJRRdGN21Y9b7v9ajza3f</td>\n",
       "      <td>https://api.spotify.com/v1/tracks/3ZJRRdGN21Y9...</td>\n",
       "      <td>https://api.spotify.com/v1/audio-analysis/3ZJR...</td>\n",
       "      <td>audio_features</td>\n",
       "      <td>...</td>\n",
       "      <td>-6.187</td>\n",
       "      <td>0</td>\n",
       "      <td>0.3700</td>\n",
       "      <td>0.0484</td>\n",
       "      <td>0.000005</td>\n",
       "      <td>0.2590</td>\n",
       "      <td>0.550</td>\n",
       "      <td>76.975</td>\n",
       "      <td>218035</td>\n",
       "      <td>4</td>\n",
       "    </tr>\n",
       "    <tr>\n",
       "      <th>...</th>\n",
       "      <td>...</td>\n",
       "      <td>...</td>\n",
       "      <td>...</td>\n",
       "      <td>...</td>\n",
       "      <td>...</td>\n",
       "      <td>...</td>\n",
       "      <td>...</td>\n",
       "      <td>...</td>\n",
       "      <td>...</td>\n",
       "      <td>...</td>\n",
       "      <td>...</td>\n",
       "      <td>...</td>\n",
       "      <td>...</td>\n",
       "      <td>...</td>\n",
       "      <td>...</td>\n",
       "      <td>...</td>\n",
       "      <td>...</td>\n",
       "      <td>...</td>\n",
       "      <td>...</td>\n",
       "      <td>...</td>\n",
       "      <td>...</td>\n",
       "    </tr>\n",
       "    <tr>\n",
       "      <th>5594</th>\n",
       "      <td>Jay Sean</td>\n",
       "      <td>Me Against Myself</td>\n",
       "      <td>spotify:album:4IIayfG1H22HytlpNG6cwC</td>\n",
       "      <td>Man's World (Ramta Jogi)</td>\n",
       "      <td>2004-01-01</td>\n",
       "      <td>1UherBzInfiGPbas2ysF2o</td>\n",
       "      <td>spotify:track:1UherBzInfiGPbas2ysF2o</td>\n",
       "      <td>https://api.spotify.com/v1/tracks/1UherBzInfiG...</td>\n",
       "      <td>https://api.spotify.com/v1/audio-analysis/1Uhe...</td>\n",
       "      <td>audio_features</td>\n",
       "      <td>...</td>\n",
       "      <td>-6.551</td>\n",
       "      <td>1</td>\n",
       "      <td>0.1270</td>\n",
       "      <td>0.0121</td>\n",
       "      <td>0.000000</td>\n",
       "      <td>0.0792</td>\n",
       "      <td>0.648</td>\n",
       "      <td>100.983</td>\n",
       "      <td>224373</td>\n",
       "      <td>4</td>\n",
       "    </tr>\n",
       "    <tr>\n",
       "      <th>5595</th>\n",
       "      <td>Jay Sean</td>\n",
       "      <td>Me Against Myself</td>\n",
       "      <td>spotify:album:4IIayfG1H22HytlpNG6cwC</td>\n",
       "      <td>I Believe In You</td>\n",
       "      <td>2004-01-01</td>\n",
       "      <td>4CIzMbqzUbxMD4dBDFSFnN</td>\n",
       "      <td>spotify:track:4CIzMbqzUbxMD4dBDFSFnN</td>\n",
       "      <td>https://api.spotify.com/v1/tracks/4CIzMbqzUbxM...</td>\n",
       "      <td>https://api.spotify.com/v1/audio-analysis/4CIz...</td>\n",
       "      <td>audio_features</td>\n",
       "      <td>...</td>\n",
       "      <td>-5.124</td>\n",
       "      <td>1</td>\n",
       "      <td>0.0335</td>\n",
       "      <td>0.1040</td>\n",
       "      <td>0.000000</td>\n",
       "      <td>0.2850</td>\n",
       "      <td>0.720</td>\n",
       "      <td>96.040</td>\n",
       "      <td>202867</td>\n",
       "      <td>4</td>\n",
       "    </tr>\n",
       "    <tr>\n",
       "      <th>5596</th>\n",
       "      <td>Jay Sean</td>\n",
       "      <td>Me Against Myself</td>\n",
       "      <td>spotify:album:4IIayfG1H22HytlpNG6cwC</td>\n",
       "      <td>One Minute</td>\n",
       "      <td>2004-01-01</td>\n",
       "      <td>3MQqY6OS9aIXzU7X9ZC1aB</td>\n",
       "      <td>spotify:track:3MQqY6OS9aIXzU7X9ZC1aB</td>\n",
       "      <td>https://api.spotify.com/v1/tracks/3MQqY6OS9aIX...</td>\n",
       "      <td>https://api.spotify.com/v1/audio-analysis/3MQq...</td>\n",
       "      <td>audio_features</td>\n",
       "      <td>...</td>\n",
       "      <td>-4.847</td>\n",
       "      <td>1</td>\n",
       "      <td>0.4830</td>\n",
       "      <td>0.0789</td>\n",
       "      <td>0.000000</td>\n",
       "      <td>0.0668</td>\n",
       "      <td>0.718</td>\n",
       "      <td>198.107</td>\n",
       "      <td>244040</td>\n",
       "      <td>4</td>\n",
       "    </tr>\n",
       "    <tr>\n",
       "      <th>5597</th>\n",
       "      <td>Jay Sean</td>\n",
       "      <td>Me Against Myself</td>\n",
       "      <td>spotify:album:4IIayfG1H22HytlpNG6cwC</td>\n",
       "      <td>Meri Jaan</td>\n",
       "      <td>2004-01-01</td>\n",
       "      <td>4FeLjxjO8BkJ46CsUaTSI7</td>\n",
       "      <td>spotify:track:4FeLjxjO8BkJ46CsUaTSI7</td>\n",
       "      <td>https://api.spotify.com/v1/tracks/4FeLjxjO8BkJ...</td>\n",
       "      <td>https://api.spotify.com/v1/audio-analysis/4FeL...</td>\n",
       "      <td>audio_features</td>\n",
       "      <td>...</td>\n",
       "      <td>-5.282</td>\n",
       "      <td>0</td>\n",
       "      <td>0.1230</td>\n",
       "      <td>0.0109</td>\n",
       "      <td>0.000000</td>\n",
       "      <td>0.0727</td>\n",
       "      <td>0.523</td>\n",
       "      <td>97.915</td>\n",
       "      <td>190893</td>\n",
       "      <td>4</td>\n",
       "    </tr>\n",
       "    <tr>\n",
       "      <th>5598</th>\n",
       "      <td>Jay Sean</td>\n",
       "      <td>Me Against Myself</td>\n",
       "      <td>spotify:album:4IIayfG1H22HytlpNG6cwC</td>\n",
       "      <td>Me Against Myself</td>\n",
       "      <td>2004-01-01</td>\n",
       "      <td>4LeWh4OtIvEK4jjqImdMH8</td>\n",
       "      <td>spotify:track:4LeWh4OtIvEK4jjqImdMH8</td>\n",
       "      <td>https://api.spotify.com/v1/tracks/4LeWh4OtIvEK...</td>\n",
       "      <td>https://api.spotify.com/v1/audio-analysis/4LeW...</td>\n",
       "      <td>audio_features</td>\n",
       "      <td>...</td>\n",
       "      <td>-6.756</td>\n",
       "      <td>0</td>\n",
       "      <td>0.3720</td>\n",
       "      <td>0.2760</td>\n",
       "      <td>0.000000</td>\n",
       "      <td>0.7050</td>\n",
       "      <td>0.843</td>\n",
       "      <td>97.798</td>\n",
       "      <td>193653</td>\n",
       "      <td>4</td>\n",
       "    </tr>\n",
       "  </tbody>\n",
       "</table>\n",
       "<p>4877 rows × 23 columns</p>\n",
       "</div>"
      ],
      "text/plain": [
       "         artist         album_name                             album_uri  \\\n",
       "0        Ciara        Beauty Marks  spotify:album:1Ww0yZ7iXbzkE5duwnMVNI   \n",
       "1        Ciara        Beauty Marks  spotify:album:1Ww0yZ7iXbzkE5duwnMVNI   \n",
       "2        Ciara        Beauty Marks  spotify:album:1Ww0yZ7iXbzkE5duwnMVNI   \n",
       "3        Ciara        Beauty Marks  spotify:album:1Ww0yZ7iXbzkE5duwnMVNI   \n",
       "4        Ciara        Beauty Marks  spotify:album:1Ww0yZ7iXbzkE5duwnMVNI   \n",
       "...         ...                ...                                   ...   \n",
       "5594  Jay Sean   Me Against Myself  spotify:album:4IIayfG1H22HytlpNG6cwC   \n",
       "5595  Jay Sean   Me Against Myself  spotify:album:4IIayfG1H22HytlpNG6cwC   \n",
       "5596  Jay Sean   Me Against Myself  spotify:album:4IIayfG1H22HytlpNG6cwC   \n",
       "5597  Jay Sean   Me Against Myself  spotify:album:4IIayfG1H22HytlpNG6cwC   \n",
       "5598  Jay Sean   Me Against Myself  spotify:album:4IIayfG1H22HytlpNG6cwC   \n",
       "\n",
       "                                 track release_date                      id  \\\n",
       "0     I Love Myself (feat. Macklemore)   2019-05-10  2BlIvqI6iRD69wmbWEWJBQ   \n",
       "1                             Level Up   2019-05-10  7ssEhls1ZYEGtBsoovkMSe   \n",
       "2                                  Set   2019-05-10  0RdtNKSNJ3mkg7W988BjGN   \n",
       "3                     Thinkin Bout You   2019-05-10  594trlRjNdTyYLwIlcDaJM   \n",
       "4                         Trust Myself   2019-05-10  3ZJRRdGN21Y9b7v9ajza3f   \n",
       "...                                ...          ...                     ...   \n",
       "5594          Man's World (Ramta Jogi)   2004-01-01  1UherBzInfiGPbas2ysF2o   \n",
       "5595                  I Believe In You   2004-01-01  4CIzMbqzUbxMD4dBDFSFnN   \n",
       "5596                        One Minute   2004-01-01  3MQqY6OS9aIXzU7X9ZC1aB   \n",
       "5597                         Meri Jaan   2004-01-01  4FeLjxjO8BkJ46CsUaTSI7   \n",
       "5598                 Me Against Myself   2004-01-01  4LeWh4OtIvEK4jjqImdMH8   \n",
       "\n",
       "                                  song_uri  \\\n",
       "0     spotify:track:2BlIvqI6iRD69wmbWEWJBQ   \n",
       "1     spotify:track:7ssEhls1ZYEGtBsoovkMSe   \n",
       "2     spotify:track:0RdtNKSNJ3mkg7W988BjGN   \n",
       "3     spotify:track:594trlRjNdTyYLwIlcDaJM   \n",
       "4     spotify:track:3ZJRRdGN21Y9b7v9ajza3f   \n",
       "...                                    ...   \n",
       "5594  spotify:track:1UherBzInfiGPbas2ysF2o   \n",
       "5595  spotify:track:4CIzMbqzUbxMD4dBDFSFnN   \n",
       "5596  spotify:track:3MQqY6OS9aIXzU7X9ZC1aB   \n",
       "5597  spotify:track:4FeLjxjO8BkJ46CsUaTSI7   \n",
       "5598  spotify:track:4LeWh4OtIvEK4jjqImdMH8   \n",
       "\n",
       "                                             track_href  \\\n",
       "0     https://api.spotify.com/v1/tracks/2BlIvqI6iRD6...   \n",
       "1     https://api.spotify.com/v1/tracks/7ssEhls1ZYEG...   \n",
       "2     https://api.spotify.com/v1/tracks/0RdtNKSNJ3mk...   \n",
       "3     https://api.spotify.com/v1/tracks/594trlRjNdTy...   \n",
       "4     https://api.spotify.com/v1/tracks/3ZJRRdGN21Y9...   \n",
       "...                                                 ...   \n",
       "5594  https://api.spotify.com/v1/tracks/1UherBzInfiG...   \n",
       "5595  https://api.spotify.com/v1/tracks/4CIzMbqzUbxM...   \n",
       "5596  https://api.spotify.com/v1/tracks/3MQqY6OS9aIX...   \n",
       "5597  https://api.spotify.com/v1/tracks/4FeLjxjO8BkJ...   \n",
       "5598  https://api.spotify.com/v1/tracks/4LeWh4OtIvEK...   \n",
       "\n",
       "                                           analysis_url            type  ...  \\\n",
       "0     https://api.spotify.com/v1/audio-analysis/2BlI...  audio_features  ...   \n",
       "1     https://api.spotify.com/v1/audio-analysis/7ssE...  audio_features  ...   \n",
       "2     https://api.spotify.com/v1/audio-analysis/0Rdt...  audio_features  ...   \n",
       "3     https://api.spotify.com/v1/audio-analysis/594t...  audio_features  ...   \n",
       "4     https://api.spotify.com/v1/audio-analysis/3ZJR...  audio_features  ...   \n",
       "...                                                 ...             ...  ...   \n",
       "5594  https://api.spotify.com/v1/audio-analysis/1Uhe...  audio_features  ...   \n",
       "5595  https://api.spotify.com/v1/audio-analysis/4CIz...  audio_features  ...   \n",
       "5596  https://api.spotify.com/v1/audio-analysis/3MQq...  audio_features  ...   \n",
       "5597  https://api.spotify.com/v1/audio-analysis/4FeL...  audio_features  ...   \n",
       "5598  https://api.spotify.com/v1/audio-analysis/4LeW...  audio_features  ...   \n",
       "\n",
       "      loudness  mode  speechiness  acousticness  instrumentalness  liveness  \\\n",
       "0       -4.345     1       0.2930        0.2240          0.000000    0.1370   \n",
       "1       -4.666     1       0.1690        0.0142          0.010700    0.1210   \n",
       "2       -4.386     0       0.1960        0.0663          0.000269    0.8730   \n",
       "3       -4.375     0       0.0437        0.1210          0.007500    0.0939   \n",
       "4       -6.187     0       0.3700        0.0484          0.000005    0.2590   \n",
       "...        ...   ...          ...           ...               ...       ...   \n",
       "5594    -6.551     1       0.1270        0.0121          0.000000    0.0792   \n",
       "5595    -5.124     1       0.0335        0.1040          0.000000    0.2850   \n",
       "5596    -4.847     1       0.4830        0.0789          0.000000    0.0668   \n",
       "5597    -5.282     0       0.1230        0.0109          0.000000    0.0727   \n",
       "5598    -6.756     0       0.3720        0.2760          0.000000    0.7050   \n",
       "\n",
       "      valence    tempo  duration_ms  time_signature  \n",
       "0       0.563   79.970       328497               4  \n",
       "1       0.584  152.914       204150               4  \n",
       "2       0.677   80.993       176848               4  \n",
       "3       0.819  106.988       228560               4  \n",
       "4       0.550   76.975       218035               4  \n",
       "...       ...      ...          ...             ...  \n",
       "5594    0.648  100.983       224373               4  \n",
       "5595    0.720   96.040       202867               4  \n",
       "5596    0.718  198.107       244040               4  \n",
       "5597    0.523   97.915       190893               4  \n",
       "5598    0.843   97.798       193653               4  \n",
       "\n",
       "[4877 rows x 23 columns]"
      ]
     },
     "execution_count": 8,
     "metadata": {},
     "output_type": "execute_result"
    }
   ],
   "source": [
    "new"
   ]
  },
  {
   "cell_type": "code",
   "execution_count": 9,
   "metadata": {},
   "outputs": [],
   "source": [
    "new.to_csv('check_output_2010_twenty.csv')"
   ]
  },
  {
   "cell_type": "markdown",
   "metadata": {
    "id": "0fpGWmsCOSx0"
   },
   "source": [
    "## Starting with Spotify API"
   ]
  },
  {
   "cell_type": "code",
   "execution_count": null,
   "metadata": {
    "colab": {
     "base_uri": "https://localhost:8080/"
    },
    "executionInfo": {
     "elapsed": 313,
     "status": "ok",
     "timestamp": 1623747121467,
     "user": {
      "displayName": "Ignacio Soteras",
      "photoUrl": "",
      "userId": "02050793736257155229"
     },
     "user_tz": -120
    },
    "id": "-0qiqFTZqqE2",
    "outputId": "c532baae-8ff5-4abc-b70e-0bda934d25b1"
   },
   "outputs": [],
   "source": [
    "# The \"sp\" variable has two useful funtions:\n",
    "# The first usefull function is:\n",
    "# .search(q='',limit=n)\n",
    "# .search(q=\"track:\"+song_name+\" artist:\"+artist_name,limit=5) to restrict to a song name and artist.\n",
    "# Where the \"q\" keyword is the query you want to perform on spotify: song_name, artist,...\n",
    "# while The \"limit\" keyword will limit the number of returned results.\n",
    "#\n",
    "# The second usefull function is:\n",
    "# .audio_features([URL|URI|ID])\n",
    "# which returns some 'features of the song', that after cleanup, we can use in order to characterize a song.\n",
    "\n",
    "results = sp.search(q='Billie Eilish', limit=5,market=\"GB\")\n",
    "results\n",
    "#json_results = json.dumps(results, ensure_ascii=True)\n",
    "#json_results\n",
    "#results['tracks']['items'][0]['album']"
   ]
  },
  {
   "cell_type": "markdown",
   "metadata": {
    "id": "DLMGLXLm2e-1"
   },
   "source": [
    "{'spotify': 'https://open.spotify.com/track/4O2N861eOnF9q8EtpH8IJu'}"
   ]
  },
  {
   "cell_type": "code",
   "execution_count": null,
   "metadata": {
    "colab": {
     "base_uri": "https://localhost:8080/"
    },
    "executionInfo": {
     "elapsed": 478,
     "status": "ok",
     "timestamp": 1623747132458,
     "user": {
      "displayName": "Ignacio Soteras",
      "photoUrl": "",
      "userId": "02050793736257155229"
     },
     "user_tz": -120
    },
    "id": "5Igl2UskaI0q",
    "outputId": "e74bc2b5-f8c6-4edb-831b-aa6e1ba808cf"
   },
   "outputs": [],
   "source": [
    "type(results)"
   ]
  },
  {
   "cell_type": "code",
   "execution_count": null,
   "metadata": {
    "colab": {
     "base_uri": "https://localhost:8080/"
    },
    "executionInfo": {
     "elapsed": 301,
     "status": "ok",
     "timestamp": 1623747137302,
     "user": {
      "displayName": "Ignacio Soteras",
      "photoUrl": "",
      "userId": "02050793736257155229"
     },
     "user_tz": -120
    },
    "id": "MGMBXO7RX4zX",
    "outputId": "7c51a5d5-6765-4198-ba53-55df9cb000fd"
   },
   "outputs": [],
   "source": [
    "results.keys()"
   ]
  },
  {
   "cell_type": "code",
   "execution_count": null,
   "metadata": {
    "colab": {
     "base_uri": "https://localhost:8080/"
    },
    "executionInfo": {
     "elapsed": 286,
     "status": "ok",
     "timestamp": 1623747145364,
     "user": {
      "displayName": "Ignacio Soteras",
      "photoUrl": "",
      "userId": "02050793736257155229"
     },
     "user_tz": -120
    },
    "id": "WcH0WXJ3X97h",
    "outputId": "9c300954-c083-4ee4-a0d0-8004825809d6"
   },
   "outputs": [],
   "source": [
    "results['tracks'].keys()"
   ]
  },
  {
   "cell_type": "code",
   "execution_count": null,
   "metadata": {
    "colab": {
     "base_uri": "https://localhost:8080/"
    },
    "executionInfo": {
     "elapsed": 371,
     "status": "ok",
     "timestamp": 1623747326810,
     "user": {
      "displayName": "Ignacio Soteras",
      "photoUrl": "",
      "userId": "02050793736257155229"
     },
     "user_tz": -120
    },
    "id": "7zpZOuf74E3B",
    "outputId": "c6ea41eb-d414-41a7-d7aa-eb33dfd29823"
   },
   "outputs": [],
   "source": [
    "import pprint\n",
    "\n",
    "pprint.pprint(results)"
   ]
  },
  {
   "cell_type": "code",
   "execution_count": null,
   "metadata": {
    "colab": {
     "base_uri": "https://localhost:8080/"
    },
    "executionInfo": {
     "elapsed": 350,
     "status": "ok",
     "timestamp": 1623747150633,
     "user": {
      "displayName": "Ignacio Soteras",
      "photoUrl": "",
      "userId": "02050793736257155229"
     },
     "user_tz": -120
    },
    "id": "K975xBBkrehs",
    "outputId": "03ba1f52-1811-4154-da75-7034362d7e44"
   },
   "outputs": [],
   "source": [
    "results['tracks']['items']"
   ]
  },
  {
   "cell_type": "code",
   "execution_count": null,
   "metadata": {
    "colab": {
     "base_uri": "https://localhost:8080/"
    },
    "executionInfo": {
     "elapsed": 315,
     "status": "ok",
     "timestamp": 1623747388022,
     "user": {
      "displayName": "Ignacio Soteras",
      "photoUrl": "",
      "userId": "02050793736257155229"
     },
     "user_tz": -120
    },
    "id": "PdDNGKc8YOkk",
    "outputId": "d34c59f1-413a-49c5-9d35-2f9588c73068"
   },
   "outputs": [],
   "source": [
    "len(results['tracks']['items'])"
   ]
  },
  {
   "cell_type": "code",
   "execution_count": null,
   "metadata": {
    "colab": {
     "base_uri": "https://localhost:8080/"
    },
    "executionInfo": {
     "elapsed": 4,
     "status": "ok",
     "timestamp": 1623747389275,
     "user": {
      "displayName": "Ignacio Soteras",
      "photoUrl": "",
      "userId": "02050793736257155229"
     },
     "user_tz": -120
    },
    "id": "x1Ds47VVYYLQ",
    "outputId": "014aeb0c-8ef5-43f5-99ad-4935c6844ae4"
   },
   "outputs": [],
   "source": [
    "results['tracks']['items'][0]"
   ]
  },
  {
   "cell_type": "code",
   "execution_count": null,
   "metadata": {
    "colab": {
     "base_uri": "https://localhost:8080/"
    },
    "executionInfo": {
     "elapsed": 311,
     "status": "ok",
     "timestamp": 1623747419610,
     "user": {
      "displayName": "Ignacio Soteras",
      "photoUrl": "",
      "userId": "02050793736257155229"
     },
     "user_tz": -120
    },
    "id": "1WsGXXCvYgo9",
    "outputId": "424f7111-f212-43ca-dd36-6a054bbc0a49"
   },
   "outputs": [],
   "source": [
    "results['tracks']['items'][0].keys()"
   ]
  },
  {
   "cell_type": "code",
   "execution_count": null,
   "metadata": {
    "colab": {
     "base_uri": "https://localhost:8080/",
     "height": 35
    },
    "executionInfo": {
     "elapsed": 8,
     "status": "ok",
     "timestamp": 1623747420976,
     "user": {
      "displayName": "Ignacio Soteras",
      "photoUrl": "",
      "userId": "02050793736257155229"
     },
     "user_tz": -120
    },
    "id": "-s66JnDcYrQ4",
    "outputId": "0745b73d-f912-4618-e28f-b22f70c40e4d"
   },
   "outputs": [],
   "source": [
    "results['tracks']['items'][0]['id']"
   ]
  },
  {
   "cell_type": "code",
   "execution_count": null,
   "metadata": {
    "colab": {
     "base_uri": "https://localhost:8080/"
    },
    "executionInfo": {
     "elapsed": 330,
     "status": "ok",
     "timestamp": 1623747443303,
     "user": {
      "displayName": "Ignacio Soteras",
      "photoUrl": "",
      "userId": "02050793736257155229"
     },
     "user_tz": -120
    },
    "id": "Pe8hlEUPYu3a",
    "outputId": "57786b5a-1877-44a6-9249-72cec7204733"
   },
   "outputs": [],
   "source": [
    "for item in results['tracks']['items']:\n",
    "    print(\"The name of song is: '{}' and the id is: {}\".format(item['name'],item['external_urls']['spotify']))"
   ]
  },
  {
   "cell_type": "code",
   "execution_count": null,
   "metadata": {
    "colab": {
     "base_uri": "https://localhost:8080/",
     "height": 165
    },
    "executionInfo": {
     "elapsed": 303,
     "status": "error",
     "timestamp": 1623747514493,
     "user": {
      "displayName": "Ignacio Soteras",
      "photoUrl": "",
      "userId": "02050793736257155229"
     },
     "user_tz": -120
    },
    "id": "2c3RLq1NcG3s",
    "outputId": "bdc75a78-8869-455c-bd5b-176bcee2d178"
   },
   "outputs": [],
   "source": [
    "results[\"tracks\"][\"items\"][0]['name']"
   ]
  },
  {
   "cell_type": "code",
   "execution_count": null,
   "metadata": {
    "colab": {
     "base_uri": "https://localhost:8080/",
     "height": 153
    },
    "executionInfo": {
     "elapsed": 343,
     "status": "ok",
     "timestamp": 1623748010778,
     "user": {
      "displayName": "Ignacio Soteras",
      "photoUrl": "",
      "userId": "02050793736257155229"
     },
     "user_tz": -120
    },
    "id": "ae3ey51ldj22",
    "outputId": "e12d9994-b937-4c19-f40c-2c594ed79c48"
   },
   "outputs": [],
   "source": [
    "import pandas as pd\n",
    "\n",
    "song = sp.search(q=\"Bad Guy\", limit=1) \n",
    "#pprint.pprint(song['tracks']['items'][0]['uri'])\n",
    "song[\"tracks\"][\"items\"][0][\"uri\"]\n",
    "sp.audio_features(song[\"tracks\"][\"items\"][0][\"uri\"])[0]\n"
   ]
  },
  {
   "cell_type": "code",
   "execution_count": null,
   "metadata": {},
   "outputs": [],
   "source": [
    "my_dict = sp.audio_features(song[\"tracks\"][\"items\"][0][\"uri\"])[0] # you can provide a list of uri's\n",
    "\n",
    "print(my_dict)\n",
    "my_dict_new = { key: [my_dict[key]] for key in list(my_dict.keys()) }\n",
    "\n",
    "#my_dict_new['name'] = [song[\"tracks\"][\"items\"][0]['name']]\n",
    "print(my_dict_new)\n",
    "\n",
    "pd.DataFrame(my_dict_new)"
   ]
  },
  {
   "cell_type": "markdown",
   "metadata": {
    "id": "vsDb4g8vgo3b"
   },
   "source": [
    "Let's search for songs of several artists"
   ]
  },
  {
   "cell_type": "code",
   "execution_count": null,
   "metadata": {
    "colab": {
     "base_uri": "https://localhost:8080/"
    },
    "executionInfo": {
     "elapsed": 809,
     "status": "ok",
     "timestamp": 1623748186659,
     "user": {
      "displayName": "Ignacio Soteras",
      "photoUrl": "",
      "userId": "02050793736257155229"
     },
     "user_tz": -120
    },
    "id": "HyQ4aPoksXK1",
    "outputId": "419f790e-b054-4427-86b7-d1ab5c2c73b1"
   },
   "outputs": [],
   "source": [
    "my_artists = ['Placebo','Marylin Manson','Janis Joplin']\n",
    "\n",
    "my_dict = {}\n",
    "#for artist in my_artists:\n",
    "#    #result = sp.search(q=artist, limit= 50)\n",
    "#    my_dict[artist] = sp.search(q=artist, limit= 50)\n",
    "\n",
    "my_dict = {artist: sp.search(q=artist, limit= 50,market=\"GB\") for artist in my_artists}\n",
    "#my_dict\n",
    "my_dict.keys()"
   ]
  },
  {
   "cell_type": "code",
   "execution_count": null,
   "metadata": {},
   "outputs": [],
   "source": [
    "my_dict"
   ]
  },
  {
   "cell_type": "code",
   "execution_count": null,
   "metadata": {
    "colab": {
     "base_uri": "https://localhost:8080/"
    },
    "executionInfo": {
     "elapsed": 284,
     "status": "ok",
     "timestamp": 1623748196011,
     "user": {
      "displayName": "Ignacio Soteras",
      "photoUrl": "",
      "userId": "02050793736257155229"
     },
     "user_tz": -120
    },
    "id": "7SNiCcrpdSQV",
    "outputId": "0856b488-c2f7-4e35-e886-0a1b24df4fa1"
   },
   "outputs": [],
   "source": [
    "len(my_dict['Janis Joplin']['tracks']['items'])"
   ]
  },
  {
   "cell_type": "code",
   "execution_count": null,
   "metadata": {
    "colab": {
     "base_uri": "https://localhost:8080/"
    },
    "executionInfo": {
     "elapsed": 331,
     "status": "ok",
     "timestamp": 1623748210036,
     "user": {
      "displayName": "Ignacio Soteras",
      "photoUrl": "",
      "userId": "02050793736257155229"
     },
     "user_tz": -120
    },
    "id": "sZ5SNYg-d1aj",
    "outputId": "8c1e1f13-93b4-46bc-fde8-a67ee893a01a"
   },
   "outputs": [],
   "source": [
    "type(my_dict['Janis Joplin']['tracks']['items'][0])"
   ]
  },
  {
   "cell_type": "code",
   "execution_count": null,
   "metadata": {
    "colab": {
     "base_uri": "https://localhost:8080/"
    },
    "executionInfo": {
     "elapsed": 335,
     "status": "ok",
     "timestamp": 1623748213217,
     "user": {
      "displayName": "Ignacio Soteras",
      "photoUrl": "",
      "userId": "02050793736257155229"
     },
     "user_tz": -120
    },
    "id": "ONjAu8FQQkUn",
    "outputId": "a58fdabe-6b16-4d73-d9ea-9238beadda49"
   },
   "outputs": [],
   "source": [
    "my_dict['Janis Joplin']['tracks']['items'][0].keys()"
   ]
  },
  {
   "cell_type": "markdown",
   "metadata": {
    "id": "wlYAUHZMGEPp"
   },
   "source": [
    "# Understanding the json"
   ]
  },
  {
   "cell_type": "markdown",
   "metadata": {
    "id": "PSk_-FAqDW4q"
   },
   "source": [
    "Understanding the hierachy of a JSON can make you mad. Therefore you can cosider using some online pages where you can paste your JSON file and see the \"tree\" structure of the file.\n",
    "\n",
    "https://codebeautify.org/jsonviewer\n",
    "\n",
    "So, copy the json output from the previous query and paste it on the website's left panel. On the right panel you will be able to see the hierachy of the json file."
   ]
  },
  {
   "cell_type": "markdown",
   "metadata": {
    "id": "TB8tYM3KEZSx"
   },
   "source": [
    "Let's get used to the json at hand."
   ]
  },
  {
   "cell_type": "code",
   "execution_count": null,
   "metadata": {
    "colab": {
     "base_uri": "https://localhost:8080/"
    },
    "executionInfo": {
     "elapsed": 336,
     "status": "ok",
     "timestamp": 1623748232522,
     "user": {
      "displayName": "Ignacio Soteras",
      "photoUrl": "",
      "userId": "02050793736257155229"
     },
     "user_tz": -120
    },
    "id": "gQzoV9fjEbm6",
    "outputId": "0747fac5-b2f5-44a0-a9cd-393ed3196cbf"
   },
   "outputs": [],
   "source": [
    "print(\"The json file has the following keys: \",list(results.keys())) # We can see that we only have tracks\n",
    "print(\"The 'tracks' key has the following child keys: \",list(results[\"tracks\"].keys())) # Let's check the values\n",
    "print(\"The query we made is: \",results[\"tracks\"][\"href\"]) # Query we have searched \n",
    "print(\"The song's info is contained in: \",results[\"tracks\"][\"items\"]) #items (actual tracks)\n",
    "print(\"The limit of the query we've made is: \",results[\"tracks\"][\"limit\"]) #Limit we have chosen\n",
    "print(\"The next page if any: \",results[\"tracks\"][\"next\"]) #link to the next page (next 50 tracks)\n",
    "print(\"The starting webpage: \",results[\"tracks\"][\"offset\"]) # Actual offset (starting point)\n",
    "print(\"Starting webpage: \",results[\"tracks\"][\"previous\"]) #Previous search\n",
    "print(\"Total number of results: \",results[\"tracks\"][\"total\"]) # Number of matches"
   ]
  },
  {
   "cell_type": "markdown",
   "metadata": {
    "id": "-zgLGJeHGHpj"
   },
   "source": [
    "## Exploring the tracks"
   ]
  },
  {
   "cell_type": "code",
   "execution_count": null,
   "metadata": {
    "colab": {
     "base_uri": "https://localhost:8080/"
    },
    "executionInfo": {
     "elapsed": 373,
     "status": "ok",
     "timestamp": 1623748452407,
     "user": {
      "displayName": "Ignacio Soteras",
      "photoUrl": "",
      "userId": "02050793736257155229"
     },
     "user_tz": -120
    },
    "id": "nZ0e5-jQGQ-G",
    "outputId": "acf68d6b-fbe4-488a-9971-bad8f92649a6"
   },
   "outputs": [],
   "source": [
    "print(\"Total number of tracks: \",len(results[\"tracks\"][\"items\"])) # 50 Tracks (as limited, it is the maximum)\n",
    "print(\"Info of the first song: \",results[\"tracks\"][\"items\"][0]) # Explore the first song \n",
    "print(\"The keys of the dictionary are: \",list(results[\"tracks\"][\"items\"][0].keys())) # We will focus on album, artists, id, name, popularity, type and uri"
   ]
  },
  {
   "cell_type": "markdown",
   "metadata": {
    "id": "ztXFl2wtGpBI"
   },
   "source": [
    "## Checking albums"
   ]
  },
  {
   "cell_type": "code",
   "execution_count": null,
   "metadata": {
    "colab": {
     "base_uri": "https://localhost:8080/"
    },
    "executionInfo": {
     "elapsed": 285,
     "status": "ok",
     "timestamp": 1623748499833,
     "user": {
      "displayName": "Ignacio Soteras",
      "photoUrl": "",
      "userId": "02050793736257155229"
     },
     "user_tz": -120
    },
    "id": "GHbz4J3JGrph",
    "outputId": "5a2bd5c0-4aab-43a0-b38d-c7885a2e2241"
   },
   "outputs": [],
   "source": [
    "print(results[\"tracks\"][\"items\"][0][\"album\"]) # we have more info about the album\n",
    "print(list(results[\"tracks\"][\"items\"][0][\"album\"].keys())) # Will check artists, id, name, release date, total tracks \n",
    "print(results[\"tracks\"][\"items\"][0][\"album\"][\"artists\"]) # List with artists and information\n",
    "print(\"The album ID is: \",results[\"tracks\"][\"items\"][0][\"album\"][\"id\"]) # Album ID \n",
    "print(results[\"tracks\"][\"items\"][0][\"album\"][\"name\"]) # Album name (if its a single u'll get the name of the song)\n",
    "print(results[\"tracks\"][\"items\"][0][\"album\"][\"release_date\"]) #date in YYYY-MM-DD format\n",
    "print(\"Songs in the album: \",results[\"tracks\"][\"items\"][0][\"album\"][\"total_tracks\"]) #songs in the album"
   ]
  },
  {
   "cell_type": "markdown",
   "metadata": {
    "id": "ma33RhJ3GyyD"
   },
   "source": [
    "## Other info"
   ]
  },
  {
   "cell_type": "code",
   "execution_count": null,
   "metadata": {
    "colab": {
     "base_uri": "https://localhost:8080/",
     "height": 35
    },
    "executionInfo": {
     "elapsed": 314,
     "status": "ok",
     "timestamp": 1623748532709,
     "user": {
      "displayName": "Ignacio Soteras",
      "photoUrl": "",
      "userId": "02050793736257155229"
     },
     "user_tz": -120
    },
    "id": "rpRcNkuhG1Ht",
    "outputId": "bb6cc417-17bd-404f-d31c-302a97bf9ffe"
   },
   "outputs": [],
   "source": [
    "results[\"tracks\"][\"items\"][0][\"artists\"] # Track artists\n",
    "results[\"tracks\"][\"items\"][0][\"id\"] # Track ID\n",
    "results[\"tracks\"][\"items\"][0][\"name\"] # Track name\n",
    "results[\"tracks\"][\"items\"][0][\"popularity\"] # Popularity index\n",
    "results[\"tracks\"][\"items\"][0][\"uri\"] # Basically ID"
   ]
  },
  {
   "cell_type": "markdown",
   "metadata": {
    "id": "nDVEK6DDH82J"
   },
   "source": [
    "# Exploring songs"
   ]
  },
  {
   "cell_type": "markdown",
   "metadata": {
    "id": "ZdgnthLDIDUz"
   },
   "source": [
    "## Searching a playlist"
   ]
  },
  {
   "cell_type": "code",
   "execution_count": null,
   "metadata": {
    "executionInfo": {
     "elapsed": 287,
     "status": "ok",
     "timestamp": 1623748573692,
     "user": {
      "displayName": "Ignacio Soteras",
      "photoUrl": "",
      "userId": "02050793736257155229"
     },
     "user_tz": -120
    },
    "id": "QFNoaLUpIAVg"
   },
   "outputs": [],
   "source": [
    "playlist = sp.user_playlist_tracks(\"spotify\", \"4rnleEAOdmFAbRcNCgZMpY\")"
   ]
  },
  {
   "cell_type": "code",
   "execution_count": null,
   "metadata": {
    "colab": {
     "base_uri": "https://localhost:8080/"
    },
    "executionInfo": {
     "elapsed": 4,
     "status": "ok",
     "timestamp": 1623748576469,
     "user": {
      "displayName": "Ignacio Soteras",
      "photoUrl": "",
      "userId": "02050793736257155229"
     },
     "user_tz": -120
    },
    "id": "hEmemxE9oDwa",
    "outputId": "fb5cd5d8-df90-45b9-e083-0fc52307b408"
   },
   "outputs": [],
   "source": [
    "type(playlist)"
   ]
  },
  {
   "cell_type": "code",
   "execution_count": null,
   "metadata": {
    "colab": {
     "base_uri": "https://localhost:8080/"
    },
    "executionInfo": {
     "elapsed": 363,
     "status": "ok",
     "timestamp": 1623748609799,
     "user": {
      "displayName": "Ignacio Soteras",
      "photoUrl": "",
      "userId": "02050793736257155229"
     },
     "user_tz": -120
    },
    "id": "wG-PfUCEIKvy",
    "outputId": "2c5135b8-7fa6-4f4f-c4d9-a35ed4f949d0"
   },
   "outputs": [],
   "source": [
    "print(list(playlist.keys())) # Let's look at items and total:\n",
    "print(\"Total number of songs in the playlist: \",playlist[\"total\"]) # 4Ksongs!! Let's check items:\n",
    "len(playlist[\"items\"]) # It is limited to 100 tracks, we will have to fix it:"
   ]
  },
  {
   "cell_type": "markdown",
   "metadata": {
    "id": "8gIIuaAAIhQi"
   },
   "source": [
    "## Extracting the songs of a playlist"
   ]
  },
  {
   "cell_type": "markdown",
   "metadata": {
    "id": "vmwZa11wjBM6"
   },
   "source": [
    "Pagination using \"next\"\n",
    "When you collect songs from a playlist using sp.playlist_tracks, you're limited by the limit parameter, which has a maximum (and default) value of 100. When the playlist has more than 100 songs, you have to collect them by navigating through the \"pages\" of the results.\n",
    "\n",
    "The parameter offset allows you to retrieve resuls starting at a certain position: if you start at position 101, you'd get the next \"page\" of results. An offset of 201 would give you the third page, and so on.\n",
    "\n",
    "The function sp.next() does the same, but in a simpler way: it can be used on the results from any request to directly retrieve the results for the next page.\n",
    "\n",
    "We can check whether there's a next page or not by accessing the key next on the results from any request."
   ]
  },
  {
   "cell_type": "code",
   "execution_count": null,
   "metadata": {
    "colab": {
     "base_uri": "https://localhost:8080/",
     "output_embedded_package_id": "11lmL6TaP4CJpfs0sN7EJh5tcgfZk9V36"
    },
    "executionInfo": {
     "elapsed": 13594,
     "status": "ok",
     "timestamp": 1623748845508,
     "user": {
      "displayName": "Ignacio Soteras",
      "photoUrl": "",
      "userId": "02050793736257155229"
     },
     "user_tz": -120
    },
    "id": "xL2er8hRIl_S",
    "outputId": "d0450533-db51-412d-8d20-43634781280a",
    "scrolled": true
   },
   "outputs": [],
   "source": [
    "def get_playlist_tracks(username, playlist_id):\n",
    "    results = sp.user_playlist_tracks(username,playlist_id,market=\"GB\")\n",
    "    tracks = results['items']\n",
    "    while results['next']:\n",
    "        results = sp.next(results)\n",
    "        tracks.extend(results['items'])\n",
    "    return tracks\n",
    "\n",
    "get_playlist_tracks(\"spotify\", \"37i9dQZF1DX6cg4h2PoN9y\")\n"
   ]
  },
  {
   "cell_type": "markdown",
   "metadata": {
    "id": "0tlqOKWCJDq1"
   },
   "source": [
    "## Getting the artists of the playlist "
   ]
  },
  {
   "cell_type": "code",
   "execution_count": null,
   "metadata": {
    "executionInfo": {
     "elapsed": 410,
     "status": "ok",
     "timestamp": 1623748940470,
     "user": {
      "displayName": "Ignacio Soteras",
      "photoUrl": "",
      "userId": "02050793736257155229"
     },
     "user_tz": -120
    },
    "id": "idbmLYT7qTCG"
   },
   "outputs": [],
   "source": [
    "def get_artists_from_track(track):\n",
    "    return [artist[\"name\"] for artist in track[\"artists\"]]"
   ]
  },
  {
   "cell_type": "code",
   "execution_count": null,
   "metadata": {
    "executionInfo": {
     "elapsed": 278,
     "status": "ok",
     "timestamp": 1623748991105,
     "user": {
      "displayName": "Ignacio Soteras",
      "photoUrl": "",
      "userId": "02050793736257155229"
     },
     "user_tz": -120
    },
    "id": "VBm6PWerJH6A"
   },
   "outputs": [],
   "source": [
    "def get_artists_from_playlist(playlist_id):\n",
    "    tracks_from_playlist = get_playlist_tracks(\"spotify\", playlist_id)\n",
    "    return list(set(artist for subset in [get_artists_from_track(track[\"track\"]) for track in tracks_from_playlist] for artist in subset))"
   ]
  },
  {
   "cell_type": "code",
   "execution_count": null,
   "metadata": {
    "colab": {
     "base_uri": "https://localhost:8080/"
    },
    "executionInfo": {
     "elapsed": 8072,
     "status": "ok",
     "timestamp": 1623749004146,
     "user": {
      "displayName": "Ignacio Soteras",
      "photoUrl": "",
      "userId": "02050793736257155229"
     },
     "user_tz": -120
    },
    "id": "vMADuNRjCzYW",
    "outputId": "8ed416b0-c989-440f-a7b2-a51ea90177d9"
   },
   "outputs": [],
   "source": [
    "get_artists_from_playlist(\"4rnleEAOdmFAbRcNCgZMpY\")"
   ]
  },
  {
   "cell_type": "markdown",
   "metadata": {
    "id": "nOpED5mzJaPH"
   },
   "source": [
    "## Artists ID"
   ]
  },
  {
   "cell_type": "code",
   "execution_count": null,
   "metadata": {
    "executionInfo": {
     "elapsed": 279,
     "status": "ok",
     "timestamp": 1623749039046,
     "user": {
      "displayName": "Ignacio Soteras",
      "photoUrl": "",
      "userId": "02050793736257155229"
     },
     "user_tz": -120
    },
    "id": "By6HnwQVKjn9"
   },
   "outputs": [],
   "source": [
    "def get_artists_from_track(track):\n",
    "    return[artist[\"name\"] for artist in track[\"artists\"]]\n",
    "\n",
    "#--------------------------------------------------------------------\n",
    "\n",
    "def get_artists_ids_from_track(track):\n",
    "    return [artist[\"id\"] for artist in track[\"artists\"]]"
   ]
  },
  {
   "cell_type": "code",
   "execution_count": null,
   "metadata": {
    "executionInfo": {
     "elapsed": 421,
     "status": "ok",
     "timestamp": 1623749062104,
     "user": {
      "displayName": "Ignacio Soteras",
      "photoUrl": "",
      "userId": "02050793736257155229"
     },
     "user_tz": -120
    },
    "id": "iglwhQEPJdjs"
   },
   "outputs": [],
   "source": [
    "def get_artists_ids_from_playlist(playlist_id):\n",
    "    tracks_from_playlist = get_playlist_tracks(\"spotify\", playlist_id)\n",
    "    return list(set(artist for subset in [get_artists_ids_from_track(track[\"track\"]) for track in tracks_from_playlist] for artist in subset))"
   ]
  },
  {
   "cell_type": "code",
   "execution_count": null,
   "metadata": {
    "colab": {
     "base_uri": "https://localhost:8080/"
    },
    "executionInfo": {
     "elapsed": 15431,
     "status": "ok",
     "timestamp": 1623749090920,
     "user": {
      "displayName": "Ignacio Soteras",
      "photoUrl": "",
      "userId": "02050793736257155229"
     },
     "user_tz": -120
    },
    "id": "7e6xcNp4JoZ4",
    "outputId": "1847075c-6ab3-40c6-988e-2d8d5ddae5de"
   },
   "outputs": [],
   "source": [
    "artists = get_artists_from_playlist(\"4rnleEAOdmFAbRcNCgZMpY\") # Apply the function\n",
    "artists_ids = get_artists_ids_from_playlist(\"4rnleEAOdmFAbRcNCgZMpY\")\n",
    "len(artists)\n",
    "len(artists_ids) # We might have more ids due to artists having the same name"
   ]
  },
  {
   "cell_type": "markdown",
   "metadata": {
    "id": "MBq_6MslLqN1"
   },
   "source": [
    "# Getting the info"
   ]
  },
  {
   "cell_type": "markdown",
   "metadata": {
    "id": "flAFNc16L7UA"
   },
   "source": [
    "In this section we will work with albums to extract information. We will start by extracting all the albums of an artist."
   ]
  },
  {
   "cell_type": "code",
   "execution_count": null,
   "metadata": {
    "executionInfo": {
     "elapsed": 338,
     "status": "ok",
     "timestamp": 1623749616116,
     "user": {
      "displayName": "Ignacio Soteras",
      "photoUrl": "",
      "userId": "02050793736257155229"
     },
     "user_tz": -120
    },
    "id": "aYMfWpqSL8cv"
   },
   "outputs": [],
   "source": [
    "def get_albums_from_artist(artist_id):\n",
    "    results = sp.artist_albums(artist_id, limit = 50,country=\"GB\")\n",
    "    tracks = results['items']\n",
    "    while results['next']:\n",
    "        results = sp.next(results)\n",
    "        tracks.extend(results['items'])\n",
    "    return tracks\n",
    "\n",
    "# Same for albums ids\n",
    "def get_album_ids_from_artist(artist_id):\n",
    "    results = sp.artist_albums(artist_id, limit = 50)\n",
    "    tracks = results['items']\n",
    "    while results['next']:\n",
    "        results = sp.next(results)\n",
    "        tracks.extend(results['items'])\n",
    "    return [track[\"id\"] for track in tracks]"
   ]
  },
  {
   "cell_type": "code",
   "execution_count": null,
   "metadata": {},
   "outputs": [],
   "source": [
    "get_albums_from_artist(\"6qqNVTkY8uBg9cP3Jd7DAH\")"
   ]
  },
  {
   "cell_type": "markdown",
   "metadata": {
    "id": "W4DVUzVGMBmY"
   },
   "source": [
    "Example: Coldplay"
   ]
  },
  {
   "cell_type": "code",
   "execution_count": null,
   "metadata": {
    "colab": {
     "base_uri": "https://localhost:8080/"
    },
    "executionInfo": {
     "elapsed": 2439,
     "status": "ok",
     "timestamp": 1623749664870,
     "user": {
      "displayName": "Ignacio Soteras",
      "photoUrl": "",
      "userId": "02050793736257155229"
     },
     "user_tz": -120
    },
    "id": "TIl4480OMDe2",
    "outputId": "7d894d55-79d9-4fa9-8773-ec4d399d2d02"
   },
   "outputs": [],
   "source": [
    "coldplay_id = \"4gzpq5DPGxSnKTe4SA8HAU\"\n",
    "coldplay_albums = get_albums_from_artist(coldplay_id)\n",
    "coldplay_album_ids = get_album_ids_from_artist(coldplay_id)\n",
    "\n",
    "# Check artists that played with coldplay\n",
    "set([artist[\"name\"] for track in coldplay_albums for artist in track[\"artists\"]])"
   ]
  },
  {
   "cell_type": "markdown",
   "metadata": {
    "id": "ljaglNRvMTL5"
   },
   "source": [
    "## Getting the songs of a given album"
   ]
  },
  {
   "cell_type": "code",
   "execution_count": null,
   "metadata": {
    "executionInfo": {
     "elapsed": 531,
     "status": "ok",
     "timestamp": 1623749740975,
     "user": {
      "displayName": "Ignacio Soteras",
      "photoUrl": "",
      "userId": "02050793736257155229"
     },
     "user_tz": -120
    },
    "id": "q3wKfrHbMWO3"
   },
   "outputs": [],
   "source": [
    "def get_track_ids_from_albums(album_ids):\n",
    "    return list(set([i[\"id\"] for j in album_ids for i in sp.album(j)[\"tracks\"][\"items\"]]))"
   ]
  },
  {
   "cell_type": "code",
   "execution_count": null,
   "metadata": {
    "colab": {
     "base_uri": "https://localhost:8080/"
    },
    "executionInfo": {
     "elapsed": 48724,
     "status": "ok",
     "timestamp": 1623749793320,
     "user": {
      "displayName": "Ignacio Soteras",
      "photoUrl": "",
      "userId": "02050793736257155229"
     },
     "user_tz": -120
    },
    "id": "WzZLGfwlMd2C",
    "outputId": "044a9334-ee0d-4a82-c8d4-577874c47d80"
   },
   "outputs": [],
   "source": [
    "coldplay_songs = get_track_ids_from_albums(coldplay_album_ids)\n",
    "\n",
    "len(coldplay_songs)"
   ]
  }
 ],
 "metadata": {
  "colab": {
   "authorship_tag": "ABX9TyPVWC1t3Am5oxfsHrz0cF36",
   "mount_file_id": "1f3HsS5F0GzS75tlHyrwhBGlTWbE0nG4o",
   "name": "Code_along_Spotify_structure.ipynb",
   "provenance": []
  },
  "kernelspec": {
   "display_name": "Python 3",
   "language": "python",
   "name": "python3"
  },
  "language_info": {
   "codemirror_mode": {
    "name": "ipython",
    "version": 3
   },
   "file_extension": ".py",
   "mimetype": "text/x-python",
   "name": "python",
   "nbconvert_exporter": "python",
   "pygments_lexer": "ipython3",
   "version": "3.8.8"
  }
 },
 "nbformat": 4,
 "nbformat_minor": 1
}
